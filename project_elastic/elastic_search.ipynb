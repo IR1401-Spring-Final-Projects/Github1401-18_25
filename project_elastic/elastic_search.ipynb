{
 "cells": [
  {
   "cell_type": "code",
   "execution_count": 1,
   "metadata": {},
   "outputs": [],
   "source": [
    "from elasticsearch import Elasticsearch\n"
   ]
  },
  {
   "cell_type": "code",
   "execution_count": 3,
   "metadata": {},
   "outputs": [],
   "source": [
    "import pandas as pd\n",
    "\n",
    "readmes_df = pd.read_json('string.json', orient= 'records')"
   ]
  },
  {
   "cell_type": "code",
   "execution_count": 6,
   "metadata": {},
   "outputs": [
    {
     "data": {
      "text/html": [
       "<div>\n",
       "<style scoped>\n",
       "    .dataframe tbody tr th:only-of-type {\n",
       "        vertical-align: middle;\n",
       "    }\n",
       "\n",
       "    .dataframe tbody tr th {\n",
       "        vertical-align: top;\n",
       "    }\n",
       "\n",
       "    .dataframe thead th {\n",
       "        text-align: right;\n",
       "    }\n",
       "</style>\n",
       "<table border=\"1\" class=\"dataframe\">\n",
       "  <thead>\n",
       "    <tr style=\"text-align: right;\">\n",
       "      <th></th>\n",
       "      <th>url</th>\n",
       "      <th>text</th>\n",
       "    </tr>\n",
       "  </thead>\n",
       "  <tbody>\n",
       "    <tr>\n",
       "      <th>1400</th>\n",
       "      <td>https://github.com/JunningWu/Learning-NVDLA-Notes</td>\n",
       "      <td>learning nvdla notes some usefull notes when l...</td>\n",
       "    </tr>\n",
       "    <tr>\n",
       "      <th>1401</th>\n",
       "      <td>https://github.com/KestrelComputer/kestrel</td>\n",
       "      <td>archived have decided to archive this site bec...</td>\n",
       "    </tr>\n",
       "    <tr>\n",
       "      <th>1402</th>\n",
       "      <td>https://github.com/mshr-h/vscode-verilog-hdl-s...</td>\n",
       "      <td>verilog hdl/systemverilog/bluespec systemveril...</td>\n",
       "    </tr>\n",
       "    <tr>\n",
       "      <th>1403</th>\n",
       "      <td>https://github.com/Nic30/hdlConvertor</td>\n",
       "      <td>hdlconvertor generated code this library is sy...</td>\n",
       "    </tr>\n",
       "    <tr>\n",
       "      <th>1404</th>\n",
       "      <td>https://github.com/The-Powder-Toy/The-Powder-Toy</td>\n",
       "      <td>the powder toy july NUMBER get the latest vers...</td>\n",
       "    </tr>\n",
       "  </tbody>\n",
       "</table>\n",
       "</div>"
      ],
      "text/plain": [
       "                                                    url  \\\n",
       "1400  https://github.com/JunningWu/Learning-NVDLA-Notes   \n",
       "1401         https://github.com/KestrelComputer/kestrel   \n",
       "1402  https://github.com/mshr-h/vscode-verilog-hdl-s...   \n",
       "1403              https://github.com/Nic30/hdlConvertor   \n",
       "1404   https://github.com/The-Powder-Toy/The-Powder-Toy   \n",
       "\n",
       "                                                   text  \n",
       "1400  learning nvdla notes some usefull notes when l...  \n",
       "1401  archived have decided to archive this site bec...  \n",
       "1402  verilog hdl/systemverilog/bluespec systemveril...  \n",
       "1403  hdlconvertor generated code this library is sy...  \n",
       "1404  the powder toy july NUMBER get the latest vers...  "
      ]
     },
     "execution_count": 6,
     "metadata": {},
     "output_type": "execute_result"
    }
   ],
   "source": [
    "readmes_df.tail()\n",
    "\n",
    "for i in range(0, len(readmes_df['text'])):\n",
    "          readmes_df['text'][i] = ' '.join(map(str, readmes_df['text'][i]))\n",
    "\n",
    "readmes_df.tail()"
   ]
  },
  {
   "cell_type": "code",
   "execution_count": 7,
   "metadata": {},
   "outputs": [],
   "source": [
    "readmes_df.to_json('test.json', orient= 'records')"
   ]
  },
  {
   "cell_type": "code",
   "execution_count": 9,
   "metadata": {},
   "outputs": [
    {
     "name": "stderr",
     "output_type": "stream",
     "text": [
      "/Library/Frameworks/Python.framework/Versions/3.6/lib/python3.6/site-packages/ipykernel_launcher.py:21: DeprecationWarning: The 'body' parameter is deprecated for the 'index' API and will be removed in a future version. Instead use the 'document' parameter. See https://github.com/elastic/elasticsearch-py/issues/1698 for more information\n"
     ]
    }
   ],
   "source": [
    "import json\n",
    "from elasticsearch import Elasticsearch\n",
    "from elasticsearch_dsl import Q, Search\n",
    "\n",
    "es = Elasticsearch(\"http://localhost:9200\")\n",
    "\n",
    "\n",
    "data = json.load(open('test.json'))\n",
    "\n",
    "# data = [{\"balance\": \"$2,410.62\", \"age\": 40, \"name\": \"Bettie Buckner\", \"gender\": \"female\", \"company\": \"RODEOMAD\",\n",
    "#          \"email\": \"bettiebuckner@rodeomad.com\", \"phone\": \"+1 (857) 491-2461\"},\n",
    "#         {\"balance\": \"$1,143.56\", \"age\": 28, \"name\": \"Hanson Gates\", \"gender\": \"male\", \"company\": \"PEARLESSA\",\n",
    "#          \"email\": \"hansongates@pearlessa.com\", \"phone\": \"+1 (825) 524-3896\"},\n",
    "#         {\"balance\": \"$2,542.95\", \"age\": 20, \"name\": \"Audra Marshall\", \"gender\": \"female\", \"company\": \"COMTRAIL\",\n",
    "#          \"email\": \"audramarshall@comtrail.com\", \"phone\": \"+1 (920) 569-2780\"},\n",
    "#         {\"balance\": \"$2,235.86\", \"age\": 34, \"name\": \"Milagros Conrad\", \"gender\": \"female\", \"company\": \"IDEGO\",\n",
    "#          \"email\": \"milagrosconrad@idego.com\", \"phone\": \"+1 (823) 451-2064\"},\n",
    "#         {\"balance\": \"$2,606.95\", \"age\": 34, \"name\": \"Maureen Lopez\", \"gender\": \"female\", \"company\": \"EVENTEX\",\n",
    "#          \"email\": \"maureenlopez@eventex.com\", \"phone\": \"+1 (913) 425-3716\"}]\n",
    "for a_data in data:\n",
    "    res = es.index(index='my-index', body=a_data)\n",
    "\n",
    "\n",
    "# body = {'query': {'bool': {'must': [{'match': {'gender': 'male'}},\n",
    "#                                  {'range': {'age': {'gte': 25}}}]}}}\n",
    "# res = es.search(index='my-index', body=body)\n",
    "# print(res)\n",
    "\n",
    "\n"
   ]
  },
  {
   "cell_type": "code",
   "execution_count": 12,
   "metadata": {},
   "outputs": [
    {
     "name": "stdout",
     "output_type": "stream",
     "text": [
      "https://github.com/ellisonleao/magictools\n",
      "https://github.com/leereilly/games\n",
      "https://github.com/pixijs/pixijs\n",
      "https://github.com/playcanvas/engine\n",
      "https://github.com/turbulenz/turbulenz_engine\n",
      "https://github.com/egret-labs/egret-core\n",
      "https://github.com/leomaurodesenv/game-datasets\n",
      "https://github.com/JoseDeFreitas/awesome-youtubers\n",
      "https://github.com/melonjs/melonJS\n",
      "https://github.com/godotengine/godot\n"
     ]
    }
   ],
   "source": [
    "query = Q('match', text='the html5 creation engine')\n",
    "s = Search(using=es, index='my-index').query(query)\n",
    "response = s.execute()\n",
    "for hit in response:\n",
    "    print(hit.url)"
   ]
  }
 ],
 "metadata": {
  "kernelspec": {
   "display_name": "Python 3.6.8 64-bit",
   "language": "python",
   "name": "python3"
  },
  "language_info": {
   "codemirror_mode": {
    "name": "ipython",
    "version": 3
   },
   "file_extension": ".py",
   "mimetype": "text/x-python",
   "name": "python",
   "nbconvert_exporter": "python",
   "pygments_lexer": "ipython3",
   "version": "3.6.8"
  },
  "orig_nbformat": 4,
  "vscode": {
   "interpreter": {
    "hash": "aee8b7b246df8f9039afb4144a1f6fd8d2ca17a180786b69acc140d282b71a49"
   }
  }
 },
 "nbformat": 4,
 "nbformat_minor": 2
}
