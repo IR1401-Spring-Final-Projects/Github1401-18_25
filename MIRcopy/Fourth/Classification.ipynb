{
  "cells": [
    {
      "cell_type": "code",
      "execution_count": null,
      "id": "cf79a349",
      "metadata": {
        "id": "cf79a349"
      },
      "outputs": [],
      "source": [
        "#!pip install scikit-learn"
      ]
    },
    {
      "cell_type": "code",
      "execution_count": null,
      "id": "3ea3f412",
      "metadata": {
        "id": "3ea3f412"
      },
      "outputs": [],
      "source": [
        "#!pip install pandas"
      ]
    },
    {
      "cell_type": "code",
      "execution_count": null,
      "id": "ba43ef44",
      "metadata": {
        "id": "ba43ef44"
      },
      "outputs": [],
      "source": [
        "#!pip install yellowbrick"
      ]
    },
    {
      "cell_type": "code",
      "execution_count": null,
      "id": "b4eea123",
      "metadata": {
        "id": "b4eea123"
      },
      "outputs": [],
      "source": [
        "# !pip install transformers"
      ]
    },
    {
      "cell_type": "code",
      "source": [
        "from google.colab import drive\n",
        "drive.mount('/content/drive')"
      ],
      "metadata": {
        "colab": {
          "base_uri": "https://localhost:8080/"
        },
        "id": "CzNYSe5InETU",
        "outputId": "a5757e7e-2917-4487-b49d-a34b72d6b106"
      },
      "id": "CzNYSe5InETU",
      "execution_count": 1,
      "outputs": [
        {
          "output_type": "stream",
          "name": "stdout",
          "text": [
            "Drive already mounted at /content/drive; to attempt to forcibly remount, call drive.mount(\"/content/drive\", force_remount=True).\n"
          ]
        }
      ]
    },
    {
      "cell_type": "code",
      "source": [
        "!unzip '/content/drive/MyDrive/MIR/preprocessed_data.zip'"
      ],
      "metadata": {
        "colab": {
          "base_uri": "https://localhost:8080/"
        },
        "id": "DdQBE9C3km0v",
        "outputId": "454f52eb-790b-4a75-ce4e-fdb3d2ed056a"
      },
      "id": "DdQBE9C3km0v",
      "execution_count": 2,
      "outputs": [
        {
          "output_type": "stream",
          "name": "stdout",
          "text": [
            "Archive:  /content/drive/MyDrive/MIR/preprocessed_data.zip\n",
            "replace __MACOSX/._preprocessed_data? [y]es, [n]o, [A]ll, [N]one, [r]ename: "
          ]
        }
      ]
    },
    {
      "cell_type": "code",
      "execution_count": 3,
      "id": "cb744b9d",
      "metadata": {
        "colab": {
          "base_uri": "https://localhost:8080/"
        },
        "id": "cb744b9d",
        "outputId": "fb2165f5-eb3f-40c7-ff64-b5cfe80837a2"
      },
      "outputs": [
        {
          "output_type": "stream",
          "name": "stdout",
          "text": [
            "Looking in indexes: https://pypi.org/simple, https://us-python.pkg.dev/colab-wheels/public/simple/\n",
            "Requirement already satisfied: sentence-transformers in /usr/local/lib/python3.7/dist-packages (2.2.2)\n",
            "Requirement already satisfied: numpy in /usr/local/lib/python3.7/dist-packages (from sentence-transformers) (1.21.6)\n",
            "Requirement already satisfied: tqdm in /usr/local/lib/python3.7/dist-packages (from sentence-transformers) (4.64.0)\n",
            "Requirement already satisfied: torch>=1.6.0 in /usr/local/lib/python3.7/dist-packages (from sentence-transformers) (1.12.0+cu113)\n",
            "Requirement already satisfied: sentencepiece in /usr/local/lib/python3.7/dist-packages (from sentence-transformers) (0.1.96)\n",
            "Requirement already satisfied: nltk in /usr/local/lib/python3.7/dist-packages (from sentence-transformers) (3.7)\n",
            "Requirement already satisfied: scipy in /usr/local/lib/python3.7/dist-packages (from sentence-transformers) (1.7.3)\n",
            "Requirement already satisfied: torchvision in /usr/local/lib/python3.7/dist-packages (from sentence-transformers) (0.13.0+cu113)\n",
            "Requirement already satisfied: huggingface-hub>=0.4.0 in /usr/local/lib/python3.7/dist-packages (from sentence-transformers) (0.8.1)\n",
            "Requirement already satisfied: scikit-learn in /usr/local/lib/python3.7/dist-packages (from sentence-transformers) (1.0.2)\n",
            "Requirement already satisfied: transformers<5.0.0,>=4.6.0 in /usr/local/lib/python3.7/dist-packages (from sentence-transformers) (4.20.1)\n",
            "Requirement already satisfied: importlib-metadata in /usr/local/lib/python3.7/dist-packages (from huggingface-hub>=0.4.0->sentence-transformers) (4.12.0)\n",
            "Requirement already satisfied: typing-extensions>=3.7.4.3 in /usr/local/lib/python3.7/dist-packages (from huggingface-hub>=0.4.0->sentence-transformers) (4.1.1)\n",
            "Requirement already satisfied: pyyaml>=5.1 in /usr/local/lib/python3.7/dist-packages (from huggingface-hub>=0.4.0->sentence-transformers) (6.0)\n",
            "Requirement already satisfied: requests in /usr/local/lib/python3.7/dist-packages (from huggingface-hub>=0.4.0->sentence-transformers) (2.23.0)\n",
            "Requirement already satisfied: filelock in /usr/local/lib/python3.7/dist-packages (from huggingface-hub>=0.4.0->sentence-transformers) (3.7.1)\n",
            "Requirement already satisfied: packaging>=20.9 in /usr/local/lib/python3.7/dist-packages (from huggingface-hub>=0.4.0->sentence-transformers) (21.3)\n",
            "Requirement already satisfied: pyparsing!=3.0.5,>=2.0.2 in /usr/local/lib/python3.7/dist-packages (from packaging>=20.9->huggingface-hub>=0.4.0->sentence-transformers) (3.0.9)\n",
            "Requirement already satisfied: regex!=2019.12.17 in /usr/local/lib/python3.7/dist-packages (from transformers<5.0.0,>=4.6.0->sentence-transformers) (2022.6.2)\n",
            "Requirement already satisfied: tokenizers!=0.11.3,<0.13,>=0.11.1 in /usr/local/lib/python3.7/dist-packages (from transformers<5.0.0,>=4.6.0->sentence-transformers) (0.12.1)\n",
            "Requirement already satisfied: zipp>=0.5 in /usr/local/lib/python3.7/dist-packages (from importlib-metadata->huggingface-hub>=0.4.0->sentence-transformers) (3.8.1)\n",
            "Requirement already satisfied: joblib in /usr/local/lib/python3.7/dist-packages (from nltk->sentence-transformers) (1.1.0)\n",
            "Requirement already satisfied: click in /usr/local/lib/python3.7/dist-packages (from nltk->sentence-transformers) (7.1.2)\n",
            "Requirement already satisfied: certifi>=2017.4.17 in /usr/local/lib/python3.7/dist-packages (from requests->huggingface-hub>=0.4.0->sentence-transformers) (2022.6.15)\n",
            "Requirement already satisfied: urllib3!=1.25.0,!=1.25.1,<1.26,>=1.21.1 in /usr/local/lib/python3.7/dist-packages (from requests->huggingface-hub>=0.4.0->sentence-transformers) (1.24.3)\n",
            "Requirement already satisfied: chardet<4,>=3.0.2 in /usr/local/lib/python3.7/dist-packages (from requests->huggingface-hub>=0.4.0->sentence-transformers) (3.0.4)\n",
            "Requirement already satisfied: idna<3,>=2.5 in /usr/local/lib/python3.7/dist-packages (from requests->huggingface-hub>=0.4.0->sentence-transformers) (2.10)\n",
            "Requirement already satisfied: threadpoolctl>=2.0.0 in /usr/local/lib/python3.7/dist-packages (from scikit-learn->sentence-transformers) (3.1.0)\n",
            "Requirement already satisfied: pillow!=8.3.*,>=5.3.0 in /usr/local/lib/python3.7/dist-packages (from torchvision->sentence-transformers) (7.1.2)\n"
          ]
        }
      ],
      "source": [
        "pip install -U sentence-transformers"
      ]
    },
    {
      "cell_type": "code",
      "execution_count": 43,
      "id": "89f13c98",
      "metadata": {
        "id": "89f13c98"
      },
      "outputs": [],
      "source": [
        "import numpy  as np\n",
        "import pandas as pd\n",
        "import json\n",
        "from sklearn.feature_extraction.text import TfidfVectorizer\n",
        "from sklearn.preprocessing import normalize\n",
        "from sklearn.metrics import accuracy_score\n",
        "from sklearn.manifold import TSNE\n",
        "import matplotlib.pyplot  as plt\n",
        "from pathlib import Path\n",
        "from sklearn.linear_model import LogisticRegression\n",
        "from sklearn.model_selection import train_test_split\n",
        "from sklearn.metrics import f1_score, confusion_matrix\n",
        "import os\n",
        "import pickle\n",
        "import torch\n",
        "from torch.utils.data import Dataset, DataLoader\n",
        "from transformers import DistilBertTokenizer, DistilBertForSequenceClassification, Trainer, TrainingArguments"
      ]
    },
    {
      "cell_type": "markdown",
      "id": "ed65487e",
      "metadata": {
        "id": "ed65487e"
      },
      "source": [
        "## Convert Data to Dataframe"
      ]
    },
    {
      "cell_type": "code",
      "execution_count": 5,
      "id": "d24271ce",
      "metadata": {
        "id": "d24271ce"
      },
      "outputs": [],
      "source": [
        "# repos_dict = json.loads(Path('repos_dict.json').read_text())\n",
        "repos_dict = json.loads(Path('/content/drive/MyDrive/MIR/repos_dict.json').read_text())"
      ]
    },
    {
      "cell_type": "code",
      "execution_count": 6,
      "id": "cfad52e4",
      "metadata": {
        "id": "cfad52e4"
      },
      "outputs": [],
      "source": [
        "REPO_NAME = 'repo name'\n",
        "FILE_NAME = 'file name'\n",
        "LANG = 'language'\n",
        "CODE = 'code'\n",
        "valid_languages = ['Java', 'Python', 'Shell', 'C++', 'Go']"
      ]
    },
    {
      "cell_type": "code",
      "execution_count": 7,
      "id": "b7b12d22",
      "metadata": {
        "id": "b7b12d22"
      },
      "outputs": [],
      "source": [
        "def get_concatanated(repo):\n",
        "    text = ''\n",
        "    for language in valid_languages:\n",
        "        path = Path(f'preprocessed_data/{repo}/{language}')\n",
        "        if not path.exists():\n",
        "            continue\n",
        "        for p in path.iterdir():\n",
        "            code = p.read_text()\n",
        "            text += code\n",
        "            text += ' '\n",
        "    return text\n",
        "\n",
        "def get_valid_test():\n",
        "    result = []\n",
        "    for repo in repos_dict:\n",
        "        if repo['language'] not in valid_languages:\n",
        "            continue\n",
        "        code = get_concatanated(repo['dir_name'])\n",
        "        result.append((repo['dir_name'], repo['url'], repo['language'], code))\n",
        "    return pd.DataFrame(result ,columns=[REPO_NAME, FILE_NAME, LANG, CODE])"
      ]
    },
    {
      "cell_type": "code",
      "execution_count": 8,
      "id": "de461b31",
      "metadata": {
        "id": "de461b31"
      },
      "outputs": [],
      "source": [
        "repos_df = get_valid_test()"
      ]
    },
    {
      "cell_type": "code",
      "execution_count": 9,
      "id": "fd198833",
      "metadata": {
        "colab": {
          "base_uri": "https://localhost:8080/"
        },
        "id": "fd198833",
        "outputId": "95d1037f-1a35-4e27-f8ab-ac481105445c"
      },
      "outputs": [
        {
          "output_type": "execute_result",
          "data": {
            "text/plain": [
              "{'C++', 'Go', 'Java', 'Python', 'Shell'}"
            ]
          },
          "metadata": {},
          "execution_count": 9
        }
      ],
      "source": [
        "set(repos_df[LANG])"
      ]
    },
    {
      "cell_type": "code",
      "execution_count": 10,
      "id": "0a6db9ba",
      "metadata": {
        "colab": {
          "base_uri": "https://localhost:8080/",
          "height": 424
        },
        "id": "0a6db9ba",
        "outputId": "fa96a135-3682-4fb7-dd13-adf9e588a348"
      },
      "outputs": [
        {
          "output_type": "execute_result",
          "data": {
            "text/plain": [
              "                   repo name                                   file name  \\\n",
              "0      gothinkster_realworld    https://github.com/gothinkster/realworld   \n",
              "1                 nvm-sh_nvm               https://github.com/nvm-sh/nvm   \n",
              "2      jgraph_drawio-desktop    https://github.com/jgraph/drawio-desktop   \n",
              "3     mathiasbynens_dotfiles   https://github.com/mathiasbynens/dotfiles   \n",
              "4        dwmkerr_hacker-laws      https://github.com/dwmkerr/hacker-laws   \n",
              "..                       ...                                         ...   \n",
              "145          sanic-org_sanic          https://github.com/sanic-org/sanic   \n",
              "146  nginx-proxy_nginx-proxy  https://github.com/nginx-proxy/nginx-proxy   \n",
              "147           binux_pyspider           https://github.com/binux/pyspider   \n",
              "148             openai_gpt-2             https://github.com/openai/gpt-2   \n",
              "149       jhao104_proxy_pool       https://github.com/jhao104/proxy_pool   \n",
              "\n",
              "    language                                               code  \n",
              "0      Shell  # set - x SCRIPTDIR = \"\" $ ( dirname \"\" ) \"\" A...  \n",
              "1      Shell  # find_name ( ) { find test - name \"\" <> \\ | ]...  \n",
              "2      Shell  # set - eo pipefail # SOURCE_FILE_PATH = '' # ...  \n",
              "3      Shell  # cd \"\" $ { BASH_SOURCE } \"\" ; git pull origin...  \n",
              "4      Shell  # # # # version = $NUM date = $ ( date \"\" ) if...  \n",
              "..       ...                                                ...  \n",
              "145   Python  from __future__ import annotations from inspec...  \n",
              "146   Python  import pytest def test_network_web1 ( docker_c...  \n",
              "147   Python  # # # # # # import json import time from pymon...  \n",
              "148   Python  import numpy as np import tensorflow as tf fro...  \n",
              "149   Python  # \"\"\"\"\"\" __author__ = '' from fetcher . proxyF...  \n",
              "\n",
              "[150 rows x 4 columns]"
            ],
            "text/html": [
              "\n",
              "  <div id=\"df-b2a37336-3808-4f9e-bd7f-760df8e84e87\">\n",
              "    <div class=\"colab-df-container\">\n",
              "      <div>\n",
              "<style scoped>\n",
              "    .dataframe tbody tr th:only-of-type {\n",
              "        vertical-align: middle;\n",
              "    }\n",
              "\n",
              "    .dataframe tbody tr th {\n",
              "        vertical-align: top;\n",
              "    }\n",
              "\n",
              "    .dataframe thead th {\n",
              "        text-align: right;\n",
              "    }\n",
              "</style>\n",
              "<table border=\"1\" class=\"dataframe\">\n",
              "  <thead>\n",
              "    <tr style=\"text-align: right;\">\n",
              "      <th></th>\n",
              "      <th>repo name</th>\n",
              "      <th>file name</th>\n",
              "      <th>language</th>\n",
              "      <th>code</th>\n",
              "    </tr>\n",
              "  </thead>\n",
              "  <tbody>\n",
              "    <tr>\n",
              "      <th>0</th>\n",
              "      <td>gothinkster_realworld</td>\n",
              "      <td>https://github.com/gothinkster/realworld</td>\n",
              "      <td>Shell</td>\n",
              "      <td># set - x SCRIPTDIR = \"\" $ ( dirname \"\" ) \"\" A...</td>\n",
              "    </tr>\n",
              "    <tr>\n",
              "      <th>1</th>\n",
              "      <td>nvm-sh_nvm</td>\n",
              "      <td>https://github.com/nvm-sh/nvm</td>\n",
              "      <td>Shell</td>\n",
              "      <td># find_name ( ) { find test - name \"\" &lt;&gt; \\ | ]...</td>\n",
              "    </tr>\n",
              "    <tr>\n",
              "      <th>2</th>\n",
              "      <td>jgraph_drawio-desktop</td>\n",
              "      <td>https://github.com/jgraph/drawio-desktop</td>\n",
              "      <td>Shell</td>\n",
              "      <td># set - eo pipefail # SOURCE_FILE_PATH = '' # ...</td>\n",
              "    </tr>\n",
              "    <tr>\n",
              "      <th>3</th>\n",
              "      <td>mathiasbynens_dotfiles</td>\n",
              "      <td>https://github.com/mathiasbynens/dotfiles</td>\n",
              "      <td>Shell</td>\n",
              "      <td># cd \"\" $ { BASH_SOURCE } \"\" ; git pull origin...</td>\n",
              "    </tr>\n",
              "    <tr>\n",
              "      <th>4</th>\n",
              "      <td>dwmkerr_hacker-laws</td>\n",
              "      <td>https://github.com/dwmkerr/hacker-laws</td>\n",
              "      <td>Shell</td>\n",
              "      <td># # # # version = $NUM date = $ ( date \"\" ) if...</td>\n",
              "    </tr>\n",
              "    <tr>\n",
              "      <th>...</th>\n",
              "      <td>...</td>\n",
              "      <td>...</td>\n",
              "      <td>...</td>\n",
              "      <td>...</td>\n",
              "    </tr>\n",
              "    <tr>\n",
              "      <th>145</th>\n",
              "      <td>sanic-org_sanic</td>\n",
              "      <td>https://github.com/sanic-org/sanic</td>\n",
              "      <td>Python</td>\n",
              "      <td>from __future__ import annotations from inspec...</td>\n",
              "    </tr>\n",
              "    <tr>\n",
              "      <th>146</th>\n",
              "      <td>nginx-proxy_nginx-proxy</td>\n",
              "      <td>https://github.com/nginx-proxy/nginx-proxy</td>\n",
              "      <td>Python</td>\n",
              "      <td>import pytest def test_network_web1 ( docker_c...</td>\n",
              "    </tr>\n",
              "    <tr>\n",
              "      <th>147</th>\n",
              "      <td>binux_pyspider</td>\n",
              "      <td>https://github.com/binux/pyspider</td>\n",
              "      <td>Python</td>\n",
              "      <td># # # # # # import json import time from pymon...</td>\n",
              "    </tr>\n",
              "    <tr>\n",
              "      <th>148</th>\n",
              "      <td>openai_gpt-2</td>\n",
              "      <td>https://github.com/openai/gpt-2</td>\n",
              "      <td>Python</td>\n",
              "      <td>import numpy as np import tensorflow as tf fro...</td>\n",
              "    </tr>\n",
              "    <tr>\n",
              "      <th>149</th>\n",
              "      <td>jhao104_proxy_pool</td>\n",
              "      <td>https://github.com/jhao104/proxy_pool</td>\n",
              "      <td>Python</td>\n",
              "      <td># \"\"\"\"\"\" __author__ = '' from fetcher . proxyF...</td>\n",
              "    </tr>\n",
              "  </tbody>\n",
              "</table>\n",
              "<p>150 rows × 4 columns</p>\n",
              "</div>\n",
              "      <button class=\"colab-df-convert\" onclick=\"convertToInteractive('df-b2a37336-3808-4f9e-bd7f-760df8e84e87')\"\n",
              "              title=\"Convert this dataframe to an interactive table.\"\n",
              "              style=\"display:none;\">\n",
              "        \n",
              "  <svg xmlns=\"http://www.w3.org/2000/svg\" height=\"24px\"viewBox=\"0 0 24 24\"\n",
              "       width=\"24px\">\n",
              "    <path d=\"M0 0h24v24H0V0z\" fill=\"none\"/>\n",
              "    <path d=\"M18.56 5.44l.94 2.06.94-2.06 2.06-.94-2.06-.94-.94-2.06-.94 2.06-2.06.94zm-11 1L8.5 8.5l.94-2.06 2.06-.94-2.06-.94L8.5 2.5l-.94 2.06-2.06.94zm10 10l.94 2.06.94-2.06 2.06-.94-2.06-.94-.94-2.06-.94 2.06-2.06.94z\"/><path d=\"M17.41 7.96l-1.37-1.37c-.4-.4-.92-.59-1.43-.59-.52 0-1.04.2-1.43.59L10.3 9.45l-7.72 7.72c-.78.78-.78 2.05 0 2.83L4 21.41c.39.39.9.59 1.41.59.51 0 1.02-.2 1.41-.59l7.78-7.78 2.81-2.81c.8-.78.8-2.07 0-2.86zM5.41 20L4 18.59l7.72-7.72 1.47 1.35L5.41 20z\"/>\n",
              "  </svg>\n",
              "      </button>\n",
              "      \n",
              "  <style>\n",
              "    .colab-df-container {\n",
              "      display:flex;\n",
              "      flex-wrap:wrap;\n",
              "      gap: 12px;\n",
              "    }\n",
              "\n",
              "    .colab-df-convert {\n",
              "      background-color: #E8F0FE;\n",
              "      border: none;\n",
              "      border-radius: 50%;\n",
              "      cursor: pointer;\n",
              "      display: none;\n",
              "      fill: #1967D2;\n",
              "      height: 32px;\n",
              "      padding: 0 0 0 0;\n",
              "      width: 32px;\n",
              "    }\n",
              "\n",
              "    .colab-df-convert:hover {\n",
              "      background-color: #E2EBFA;\n",
              "      box-shadow: 0px 1px 2px rgba(60, 64, 67, 0.3), 0px 1px 3px 1px rgba(60, 64, 67, 0.15);\n",
              "      fill: #174EA6;\n",
              "    }\n",
              "\n",
              "    [theme=dark] .colab-df-convert {\n",
              "      background-color: #3B4455;\n",
              "      fill: #D2E3FC;\n",
              "    }\n",
              "\n",
              "    [theme=dark] .colab-df-convert:hover {\n",
              "      background-color: #434B5C;\n",
              "      box-shadow: 0px 1px 3px 1px rgba(0, 0, 0, 0.15);\n",
              "      filter: drop-shadow(0px 1px 2px rgba(0, 0, 0, 0.3));\n",
              "      fill: #FFFFFF;\n",
              "    }\n",
              "  </style>\n",
              "\n",
              "      <script>\n",
              "        const buttonEl =\n",
              "          document.querySelector('#df-b2a37336-3808-4f9e-bd7f-760df8e84e87 button.colab-df-convert');\n",
              "        buttonEl.style.display =\n",
              "          google.colab.kernel.accessAllowed ? 'block' : 'none';\n",
              "\n",
              "        async function convertToInteractive(key) {\n",
              "          const element = document.querySelector('#df-b2a37336-3808-4f9e-bd7f-760df8e84e87');\n",
              "          const dataTable =\n",
              "            await google.colab.kernel.invokeFunction('convertToInteractive',\n",
              "                                                     [key], {});\n",
              "          if (!dataTable) return;\n",
              "\n",
              "          const docLinkHtml = 'Like what you see? Visit the ' +\n",
              "            '<a target=\"_blank\" href=https://colab.research.google.com/notebooks/data_table.ipynb>data table notebook</a>'\n",
              "            + ' to learn more about interactive tables.';\n",
              "          element.innerHTML = '';\n",
              "          dataTable['output_type'] = 'display_data';\n",
              "          await google.colab.output.renderOutput(dataTable, element);\n",
              "          const docLink = document.createElement('div');\n",
              "          docLink.innerHTML = docLinkHtml;\n",
              "          element.appendChild(docLink);\n",
              "        }\n",
              "      </script>\n",
              "    </div>\n",
              "  </div>\n",
              "  "
            ]
          },
          "metadata": {},
          "execution_count": 10
        }
      ],
      "source": [
        "repos_df"
      ]
    },
    {
      "cell_type": "markdown",
      "id": "b8007aa2",
      "metadata": {
        "id": "b8007aa2"
      },
      "source": [
        "## Data"
      ]
    },
    {
      "cell_type": "code",
      "execution_count": 11,
      "id": "7f137131",
      "metadata": {
        "id": "7f137131"
      },
      "outputs": [],
      "source": [
        "class Data():\n",
        "    \n",
        "    def __init__(self, df):\n",
        "        self.df = df\n",
        "        \n",
        "    def get_true_labels(self):\n",
        "        true_labels = [valid_languages.index(language) for language in self.df[LANG].tolist()]\n",
        "        return np.array(true_labels)\n",
        "    \n",
        "    def get_code(self):\n",
        "        return self.df[CODE].tolist()\n",
        "    \n",
        "    def get_labeled_data(self):\n",
        "        return self.get_code(), self.get_true_labels()"
      ]
    },
    {
      "cell_type": "code",
      "execution_count": 12,
      "id": "b67fcd1d",
      "metadata": {
        "id": "b67fcd1d"
      },
      "outputs": [],
      "source": [
        "repos_data = Data(repos_df)"
      ]
    },
    {
      "cell_type": "markdown",
      "id": "3e1be23b",
      "metadata": {
        "id": "3e1be23b"
      },
      "source": [
        "## Split Data"
      ]
    },
    {
      "cell_type": "code",
      "execution_count": 13,
      "id": "13f720c0",
      "metadata": {
        "id": "13f720c0"
      },
      "outputs": [],
      "source": [
        "X_train, y_train = repos_data.get_labeled_data()\n",
        "X_train, X_val_test, y_train, y_val_test = train_test_split(X_train, y_train, test_size=0.2, random_state=1)\n",
        "X_val, X_test, y_val, y_test = train_test_split(X_val_test, y_val_test, test_size=0.5, random_state=1)"
      ]
    },
    {
      "cell_type": "markdown",
      "id": "9929669f",
      "metadata": {
        "id": "9929669f"
      },
      "source": [
        "## Classification"
      ]
    },
    {
      "cell_type": "code",
      "execution_count": 17,
      "id": "adb194cb",
      "metadata": {
        "id": "adb194cb"
      },
      "outputs": [],
      "source": [
        "class Classification():\n",
        "    \n",
        "    def __init__(self):\n",
        "        self.vectorizer = TfidfVectorizer(\n",
        "            ngram_range=(1,2),\n",
        "            max_df=0.9,\n",
        "            min_df=0.1,\n",
        "            stop_words=None,\n",
        "            norm='l2'\n",
        "        )\n",
        "        \n",
        "    def train(self, X_train, y_train):\n",
        "        self.y_train = y_train\n",
        "        self.doc_term_mat = self.vectorizer.fit_transform(X_train)\n",
        "        self.clf = LogisticRegression(random_state=0, multi_class='multinomial').fit(self.doc_term_mat, y_train)\n",
        "        \n",
        "    def predict(self, X):\n",
        "        vectorize_X = self.get_vectorized(X)\n",
        "        return self.clf.predict(vectorize_X)\n",
        "    \n",
        "    def get_vectorized(self, X):\n",
        "        vectorize_X = self.vectorizer.transform(X)\n",
        "        return vectorize_X\n",
        "    \n",
        "    def get_accuracy(self, X, y):\n",
        "        vectorize_X = self.get_vectorized(X)\n",
        "        return self.clf.score(vectorize_X, y)\n",
        "    \n",
        "    def get_f1_score(self, X, y, average):\n",
        "        predicted = self.predict(X)\n",
        "        return f1_score(y, predicted, average=average)\n",
        "    \n",
        "    def get_confusion_matrix(self, X, y):\n",
        "        predicted = self.predict(X)\n",
        "        return confusion_matrix(y, predicted, labels=list(range(len(valid_languages))))"
      ]
    },
    {
      "cell_type": "code",
      "execution_count": 18,
      "id": "d0a0d30f",
      "metadata": {
        "id": "d0a0d30f"
      },
      "outputs": [],
      "source": [
        "classification = Classification()"
      ]
    },
    {
      "cell_type": "markdown",
      "id": "fb276b75",
      "metadata": {
        "id": "fb276b75"
      },
      "source": [
        "## Train"
      ]
    },
    {
      "cell_type": "code",
      "execution_count": 19,
      "id": "e6446e2f",
      "metadata": {
        "id": "e6446e2f"
      },
      "outputs": [],
      "source": [
        "classification.train(X_train, y_train)"
      ]
    },
    {
      "cell_type": "markdown",
      "id": "4299f052",
      "metadata": {
        "id": "4299f052"
      },
      "source": [
        "## Calculate f1 score"
      ]
    },
    {
      "cell_type": "code",
      "execution_count": 20,
      "id": "76913567",
      "metadata": {
        "colab": {
          "base_uri": "https://localhost:8080/"
        },
        "id": "76913567",
        "outputId": "450576a6-7f34-47c6-bff6-fe2cc0f35d3d"
      },
      "outputs": [
        {
          "output_type": "execute_result",
          "data": {
            "text/plain": [
              "0.938095238095238"
            ]
          },
          "metadata": {},
          "execution_count": 20
        }
      ],
      "source": [
        "f1_macro = classification.get_f1_score(X_val_test, y_val_test, average='macro')\n",
        "f1_macro"
      ]
    },
    {
      "cell_type": "code",
      "execution_count": 21,
      "id": "6c639d27",
      "metadata": {
        "colab": {
          "base_uri": "https://localhost:8080/"
        },
        "id": "6c639d27",
        "outputId": "abca406d-17f7-432a-fbcf-7408b3e7e15f"
      },
      "outputs": [
        {
          "output_type": "execute_result",
          "data": {
            "text/plain": [
              "0.9333333333333333"
            ]
          },
          "metadata": {},
          "execution_count": 21
        }
      ],
      "source": [
        "f1_micro = classification.get_f1_score(X_val_test, y_val_test, average='micro')\n",
        "f1_micro"
      ]
    },
    {
      "cell_type": "markdown",
      "id": "c473022a",
      "metadata": {
        "id": "c473022a"
      },
      "source": [
        "As you see our f1-score both in macro case and micro case is more than 0.9"
      ]
    },
    {
      "cell_type": "markdown",
      "id": "dcc23c16",
      "metadata": {
        "id": "dcc23c16"
      },
      "source": [
        "## Calculate Accuracy"
      ]
    },
    {
      "cell_type": "code",
      "execution_count": 22,
      "id": "57bc7dba",
      "metadata": {
        "colab": {
          "base_uri": "https://localhost:8080/"
        },
        "id": "57bc7dba",
        "outputId": "f98dfb20-6c62-455a-8dc0-51f10be0e10b"
      },
      "outputs": [
        {
          "output_type": "execute_result",
          "data": {
            "text/plain": [
              "0.9333333333333333"
            ]
          },
          "metadata": {},
          "execution_count": 22
        }
      ],
      "source": [
        "accuracy = classification.get_accuracy(X_val_test, y_val_test)\n",
        "accuracy"
      ]
    },
    {
      "cell_type": "markdown",
      "id": "af3a0c9c",
      "metadata": {
        "id": "af3a0c9c"
      },
      "source": [
        "## Confusion Matrix"
      ]
    },
    {
      "cell_type": "code",
      "execution_count": 44,
      "id": "b0675a0d",
      "metadata": {
        "colab": {
          "base_uri": "https://localhost:8080/"
        },
        "id": "b0675a0d",
        "outputId": "7a821d3c-92bb-4e85-a2c3-4b2744c183cd"
      },
      "outputs": [
        {
          "output_type": "execute_result",
          "data": {
            "text/plain": [
              "array([[6, 0, 0, 0, 0],\n",
              "       [0, 5, 0, 0, 0],\n",
              "       [0, 0, 5, 0, 0],\n",
              "       [0, 0, 2, 6, 0],\n",
              "       [0, 0, 0, 0, 6]])"
            ]
          },
          "metadata": {},
          "execution_count": 44
        }
      ],
      "source": [
        "classification_confusion_matrix = classification.get_confusion_matrix(X_val_test, y_val_test)\n",
        "classification_confusion_matrix"
      ]
    },
    {
      "cell_type": "markdown",
      "id": "0acbd2a8",
      "metadata": {
        "id": "0acbd2a8"
      },
      "source": [
        "## Transformer"
      ]
    },
    {
      "cell_type": "code",
      "source": [
        "device = torch.device('cuda' if torch.cuda.is_available() else 'cpu')\n",
        "device"
      ],
      "metadata": {
        "colab": {
          "base_uri": "https://localhost:8080/"
        },
        "id": "G7GaSxBphLvt",
        "outputId": "db8f4150-8cb4-4217-e74a-6d877221f65e"
      },
      "id": "G7GaSxBphLvt",
      "execution_count": 25,
      "outputs": [
        {
          "output_type": "execute_result",
          "data": {
            "text/plain": [
              "device(type='cuda')"
            ]
          },
          "metadata": {},
          "execution_count": 25
        }
      ]
    },
    {
      "cell_type": "code",
      "source": [
        "tokenizer = DistilBertTokenizer.from_pretrained(\"distilbert-base-uncased\")\n",
        "model = DistilBertForSequenceClassification.from_pretrained(\"distilbert-base-uncased\", num_labels=5, problem_type=\"single_label_classification\")"
      ],
      "metadata": {
        "colab": {
          "base_uri": "https://localhost:8080/"
        },
        "id": "ei83xQF9izTI",
        "outputId": "5d93466f-f112-4298-d218-c1c9079a2d52"
      },
      "id": "ei83xQF9izTI",
      "execution_count": 26,
      "outputs": [
        {
          "output_type": "stream",
          "name": "stderr",
          "text": [
            "Some weights of the model checkpoint at distilbert-base-uncased were not used when initializing DistilBertForSequenceClassification: ['vocab_projector.bias', 'vocab_transform.weight', 'vocab_projector.weight', 'vocab_layer_norm.bias', 'vocab_transform.bias', 'vocab_layer_norm.weight']\n",
            "- This IS expected if you are initializing DistilBertForSequenceClassification from the checkpoint of a model trained on another task or with another architecture (e.g. initializing a BertForSequenceClassification model from a BertForPreTraining model).\n",
            "- This IS NOT expected if you are initializing DistilBertForSequenceClassification from the checkpoint of a model that you expect to be exactly identical (initializing a BertForSequenceClassification model from a BertForSequenceClassification model).\n",
            "Some weights of DistilBertForSequenceClassification were not initialized from the model checkpoint at distilbert-base-uncased and are newly initialized: ['pre_classifier.weight', 'classifier.weight', 'classifier.bias', 'pre_classifier.bias']\n",
            "You should probably TRAIN this model on a down-stream task to be able to use it for predictions and inference.\n"
          ]
        }
      ]
    },
    {
      "cell_type": "code",
      "source": [
        "train_encoding = tokenizer(X_train, truncation=True, padding=True)\n",
        "val_encoding = tokenizer(X_val, truncation=True, padding=True)\n",
        "test_encoding = tokenizer(X_test, truncation=True, padding=True)"
      ],
      "metadata": {
        "id": "fsWYEJEzmD5x"
      },
      "id": "fsWYEJEzmD5x",
      "execution_count": 27,
      "outputs": []
    },
    {
      "cell_type": "markdown",
      "source": [
        "## Dataset"
      ],
      "metadata": {
        "id": "Et7xLkuV2i9c"
      },
      "id": "Et7xLkuV2i9c"
    },
    {
      "cell_type": "code",
      "source": [
        "class LanguageDataset(Dataset):\n",
        "    def __init__(self, encoding, labels):\n",
        "        self.encoding = encoding\n",
        "        self.labels = labels\n",
        "\n",
        "    def __len__(self):\n",
        "        return len(self.labels)\n",
        "\n",
        "    def __getitem__(self, idx):\n",
        "        item = {key: torch.tensor(value[idx]) for key, value in self.encoding.items()}\n",
        "        item['labels'] = torch.tensor(self.labels[idx])\n",
        "        return item"
      ],
      "metadata": {
        "id": "9wXXlfYEk17N"
      },
      "id": "9wXXlfYEk17N",
      "execution_count": 28,
      "outputs": []
    },
    {
      "cell_type": "code",
      "source": [
        "train_dataset = LanguageDataset(train_encoding, y_train)\n",
        "val_dataset = LanguageDataset(val_encoding, y_val)\n",
        "test_dataset = LanguageDataset(test_encoding, y_test)"
      ],
      "metadata": {
        "id": "ggOhjNpYimkV"
      },
      "id": "ggOhjNpYimkV",
      "execution_count": 29,
      "outputs": []
    },
    {
      "cell_type": "markdown",
      "source": [
        "## Transformer Class"
      ],
      "metadata": {
        "id": "KWjvCkEY2mAz"
      },
      "id": "KWjvCkEY2mAz"
    },
    {
      "cell_type": "code",
      "source": [
        "class Transformer():\n",
        "\n",
        "    def __init__(self, model, tokenizer):\n",
        "        self.model =  model\n",
        "        self.tokenizer = tokenizer\n",
        "\n",
        "    def set_trainer(\n",
        "        self, \n",
        "        train_dataset, \n",
        "        val_dataset, \n",
        "        per_device_train_batch_size=10, \n",
        "        per_device_eval_batch_size=5, \n",
        "        learning_rate=3e-05,\n",
        "        weight_decay=0.0,\n",
        "        adam_beta1=0.93,\n",
        "        adam_beta2=0.999,\n",
        "        adam_epsilon=1e-08,\n",
        "        num_train_epochs=60,\n",
        "        warmup_steps=100,\n",
        "        logging_steps=20,\n",
        "        save_steps=2000,\n",
        "        ):\n",
        "\n",
        "        training_args = TrainingArguments(\n",
        "            output_dir = './results',\n",
        "            do_train=True,\n",
        "            do_eval=True,\n",
        "            per_device_train_batch_size=per_device_train_batch_size,\n",
        "            per_device_eval_batch_size=per_device_eval_batch_size,\n",
        "            learning_rate=learning_rate,\n",
        "            weight_decay=weight_decay,\n",
        "            adam_beta1=adam_beta1,\n",
        "            adam_beta2=adam_beta2,\n",
        "            adam_epsilon=adam_epsilon,\n",
        "            num_train_epochs=num_train_epochs,\n",
        "            warmup_steps=warmup_steps,\n",
        "            logging_dir='./logs',\n",
        "            logging_steps=logging_steps,\n",
        "            save_steps=save_steps,\n",
        "        )\n",
        "\n",
        "        self.trainer = Trainer(\n",
        "            model=model,\n",
        "            args=training_args,\n",
        "            train_dataset=train_dataset,\n",
        "            eval_dataset=val_dataset,\n",
        "    )\n",
        "        \n",
        "    def train(self):\n",
        "        self.trainer.train()\n",
        "\n",
        "    def predict(self, X, dataset=True):\n",
        "        self.model.eval()\n",
        "\n",
        "        if dataset:\n",
        "            X_dataloader = DataLoader(dataset=X, batch_size=5, shuffle=False)\n",
        "            predicted_labels = []\n",
        "            \n",
        "            with torch.no_grad():\n",
        "                for inputs in X_dataloader:\n",
        "                    inputs_cuda = {key: value.to(device) for key, value in inputs.items()}\n",
        "                    logits = self.model(**inputs_cuda).logits\n",
        "                    predicted_class_id = logits.argmax(dim=1)\n",
        "                    predicted_labels += [self.model.config.id2label[index.item()] for index in predicted_class_id]\n",
        "            return np.array([int(x.replace('LABEL_', '')) for x in predicted_labels])\n",
        "\n",
        "        else:\n",
        "            inputs = self.tokenizer(X, truncation=True, padding=True)\n",
        "\n",
        "            with torch.no_grad():\n",
        "                inputs_cuda = {key: value.to(device) for key, value in inputs.items()}\n",
        "                logits = self.model(**inputs_cuda).logits\n",
        "\n",
        "            predicted_class_id = logits.argmax().item()\n",
        "            return self.model.config.id2label[predicted_class_id]\n",
        "\n",
        "    def get_accuracy(self, X, y):\n",
        "        predicted = self.predict(X)\n",
        "        return np.mean(predicted == y)\n",
        "\n",
        "    def get_f1_score(self, X, y, average):\n",
        "        predicted = self.predict(X)\n",
        "        return f1_score(y, predicted, average=average)\n",
        "    \n",
        "    def get_confusion_matrix(self, X, y):\n",
        "        predicted = self.predict(X)\n",
        "        return confusion_matrix(y, predicted, labels=list(range(len(valid_languages))))"
      ],
      "metadata": {
        "id": "JWvJX_oLtHbG"
      },
      "id": "JWvJX_oLtHbG",
      "execution_count": 30,
      "outputs": []
    },
    {
      "cell_type": "code",
      "source": [
        "transformer = Transformer(model, tokenizer)"
      ],
      "metadata": {
        "id": "aByOpP2c5tSk"
      },
      "id": "aByOpP2c5tSk",
      "execution_count": 31,
      "outputs": []
    },
    {
      "cell_type": "markdown",
      "source": [
        "## Train"
      ],
      "metadata": {
        "id": "sX-yX31u2sMu"
      },
      "id": "sX-yX31u2sMu"
    },
    {
      "cell_type": "code",
      "source": [
        "transformer.set_trainer(train_dataset, val_dataset)\n",
        "transformer.train()"
      ],
      "metadata": {
        "colab": {
          "base_uri": "https://localhost:8080/",
          "height": 1000
        },
        "id": "ctdKtWZj2qEi",
        "outputId": "87491b90-4003-44b9-8fd5-ddc931fc7dbb"
      },
      "id": "ctdKtWZj2qEi",
      "execution_count": 33,
      "outputs": [
        {
          "output_type": "stream",
          "name": "stderr",
          "text": [
            "PyTorch: setting up devices\n",
            "The default value for the training argument `--report_to` will change in v5 (from all installed integrations to none). In v5, you will need to use `--report_to all` to get the same behavior as now. You should start updating your code and make this info disappear :-).\n",
            "/usr/local/lib/python3.7/dist-packages/transformers/optimization.py:310: FutureWarning: This implementation of AdamW is deprecated and will be removed in a future version. Use the PyTorch implementation torch.optim.AdamW instead, or set `no_deprecation_warning=True` to disable this warning\n",
            "  FutureWarning,\n",
            "***** Running training *****\n",
            "  Num examples = 120\n",
            "  Num Epochs = 60\n",
            "  Instantaneous batch size per device = 10\n",
            "  Total train batch size (w. parallel, distributed & accumulation) = 10\n",
            "  Gradient Accumulation steps = 1\n",
            "  Total optimization steps = 720\n"
          ]
        },
        {
          "output_type": "display_data",
          "data": {
            "text/plain": [
              "<IPython.core.display.HTML object>"
            ],
            "text/html": [
              "\n",
              "    <div>\n",
              "      \n",
              "      <progress value='720' max='720' style='width:300px; height:20px; vertical-align: middle;'></progress>\n",
              "      [720/720 06:06, Epoch 60/60]\n",
              "    </div>\n",
              "    <table border=\"1\" class=\"dataframe\">\n",
              "  <thead>\n",
              " <tr style=\"text-align: left;\">\n",
              "      <th>Step</th>\n",
              "      <th>Training Loss</th>\n",
              "    </tr>\n",
              "  </thead>\n",
              "  <tbody>\n",
              "    <tr>\n",
              "      <td>20</td>\n",
              "      <td>1.608800</td>\n",
              "    </tr>\n",
              "    <tr>\n",
              "      <td>40</td>\n",
              "      <td>1.551600</td>\n",
              "    </tr>\n",
              "    <tr>\n",
              "      <td>60</td>\n",
              "      <td>1.342800</td>\n",
              "    </tr>\n",
              "    <tr>\n",
              "      <td>80</td>\n",
              "      <td>0.958000</td>\n",
              "    </tr>\n",
              "    <tr>\n",
              "      <td>100</td>\n",
              "      <td>0.613500</td>\n",
              "    </tr>\n",
              "    <tr>\n",
              "      <td>120</td>\n",
              "      <td>0.412000</td>\n",
              "    </tr>\n",
              "    <tr>\n",
              "      <td>140</td>\n",
              "      <td>0.292200</td>\n",
              "    </tr>\n",
              "    <tr>\n",
              "      <td>160</td>\n",
              "      <td>0.198500</td>\n",
              "    </tr>\n",
              "    <tr>\n",
              "      <td>180</td>\n",
              "      <td>0.162300</td>\n",
              "    </tr>\n",
              "    <tr>\n",
              "      <td>200</td>\n",
              "      <td>0.159000</td>\n",
              "    </tr>\n",
              "    <tr>\n",
              "      <td>220</td>\n",
              "      <td>0.120500</td>\n",
              "    </tr>\n",
              "    <tr>\n",
              "      <td>240</td>\n",
              "      <td>0.155900</td>\n",
              "    </tr>\n",
              "    <tr>\n",
              "      <td>260</td>\n",
              "      <td>0.128900</td>\n",
              "    </tr>\n",
              "    <tr>\n",
              "      <td>280</td>\n",
              "      <td>0.145100</td>\n",
              "    </tr>\n",
              "    <tr>\n",
              "      <td>300</td>\n",
              "      <td>0.132400</td>\n",
              "    </tr>\n",
              "    <tr>\n",
              "      <td>320</td>\n",
              "      <td>0.120700</td>\n",
              "    </tr>\n",
              "    <tr>\n",
              "      <td>340</td>\n",
              "      <td>0.147800</td>\n",
              "    </tr>\n",
              "    <tr>\n",
              "      <td>360</td>\n",
              "      <td>0.123000</td>\n",
              "    </tr>\n",
              "    <tr>\n",
              "      <td>380</td>\n",
              "      <td>0.125500</td>\n",
              "    </tr>\n",
              "    <tr>\n",
              "      <td>400</td>\n",
              "      <td>0.124500</td>\n",
              "    </tr>\n",
              "    <tr>\n",
              "      <td>420</td>\n",
              "      <td>0.115500</td>\n",
              "    </tr>\n",
              "    <tr>\n",
              "      <td>440</td>\n",
              "      <td>0.108900</td>\n",
              "    </tr>\n",
              "    <tr>\n",
              "      <td>460</td>\n",
              "      <td>0.139100</td>\n",
              "    </tr>\n",
              "    <tr>\n",
              "      <td>480</td>\n",
              "      <td>0.119100</td>\n",
              "    </tr>\n",
              "    <tr>\n",
              "      <td>500</td>\n",
              "      <td>0.119000</td>\n",
              "    </tr>\n",
              "    <tr>\n",
              "      <td>520</td>\n",
              "      <td>0.106500</td>\n",
              "    </tr>\n",
              "    <tr>\n",
              "      <td>540</td>\n",
              "      <td>0.143400</td>\n",
              "    </tr>\n",
              "    <tr>\n",
              "      <td>560</td>\n",
              "      <td>0.122300</td>\n",
              "    </tr>\n",
              "    <tr>\n",
              "      <td>580</td>\n",
              "      <td>0.129600</td>\n",
              "    </tr>\n",
              "    <tr>\n",
              "      <td>600</td>\n",
              "      <td>0.131700</td>\n",
              "    </tr>\n",
              "    <tr>\n",
              "      <td>620</td>\n",
              "      <td>0.150700</td>\n",
              "    </tr>\n",
              "    <tr>\n",
              "      <td>640</td>\n",
              "      <td>0.116900</td>\n",
              "    </tr>\n",
              "    <tr>\n",
              "      <td>660</td>\n",
              "      <td>0.114900</td>\n",
              "    </tr>\n",
              "    <tr>\n",
              "      <td>680</td>\n",
              "      <td>0.108800</td>\n",
              "    </tr>\n",
              "    <tr>\n",
              "      <td>700</td>\n",
              "      <td>0.128600</td>\n",
              "    </tr>\n",
              "    <tr>\n",
              "      <td>720</td>\n",
              "      <td>0.135000</td>\n",
              "    </tr>\n",
              "  </tbody>\n",
              "</table><p>"
            ]
          },
          "metadata": {}
        },
        {
          "output_type": "stream",
          "name": "stderr",
          "text": [
            "Saving model checkpoint to ./results/checkpoint-500\n",
            "Configuration saved in ./results/checkpoint-500/config.json\n",
            "Model weights saved in ./results/checkpoint-500/pytorch_model.bin\n",
            "\n",
            "\n",
            "Training completed. Do not forget to share your model on huggingface.co/models =)\n",
            "\n",
            "\n"
          ]
        }
      ]
    },
    {
      "cell_type": "markdown",
      "source": [
        "## Calculate f1 score"
      ],
      "metadata": {
        "id": "y6rAEwED282o"
      },
      "id": "y6rAEwED282o"
    },
    {
      "cell_type": "code",
      "source": [
        "f1_macro = transformer.get_f1_score(test_dataset, y_test, average='macro')\n",
        "f1_macro"
      ],
      "metadata": {
        "colab": {
          "base_uri": "https://localhost:8080/"
        },
        "id": "_hP7rs_k29qf",
        "outputId": "1cd42e41-18cb-434a-f57e-7353b0a7fbad"
      },
      "id": "_hP7rs_k29qf",
      "execution_count": 34,
      "outputs": [
        {
          "output_type": "execute_result",
          "data": {
            "text/plain": [
              "0.5865800865800865"
            ]
          },
          "metadata": {},
          "execution_count": 34
        }
      ]
    },
    {
      "cell_type": "code",
      "source": [
        "f1_micro = transformer.get_f1_score(test_dataset, y_test, average='micro')\n",
        "f1_micro"
      ],
      "metadata": {
        "colab": {
          "base_uri": "https://localhost:8080/"
        },
        "id": "qaxJ6qRw3Dv6",
        "outputId": "7a742ab0-38e5-43c6-e514-927c3a1e0b34"
      },
      "id": "qaxJ6qRw3Dv6",
      "execution_count": 35,
      "outputs": [
        {
          "output_type": "execute_result",
          "data": {
            "text/plain": [
              "0.6666666666666666"
            ]
          },
          "metadata": {},
          "execution_count": 35
        }
      ]
    },
    {
      "cell_type": "markdown",
      "source": [
        "## Calculate Accuracy"
      ],
      "metadata": {
        "id": "GnKzdLTw3Gbz"
      },
      "id": "GnKzdLTw3Gbz"
    },
    {
      "cell_type": "code",
      "source": [
        "accuracy = transformer.get_accuracy(test_dataset, y_test)\n",
        "accuracy"
      ],
      "metadata": {
        "colab": {
          "base_uri": "https://localhost:8080/"
        },
        "id": "cq9-34b73S4b",
        "outputId": "e515e52a-1c74-49bb-8df2-41a1c6d2d7a3"
      },
      "id": "cq9-34b73S4b",
      "execution_count": 42,
      "outputs": [
        {
          "output_type": "execute_result",
          "data": {
            "text/plain": [
              "0.6666666666666666"
            ]
          },
          "metadata": {},
          "execution_count": 42
        }
      ]
    },
    {
      "cell_type": "markdown",
      "source": [
        "## Confusion Matrix"
      ],
      "metadata": {
        "id": "9qLxbZWa3aRU"
      },
      "id": "9qLxbZWa3aRU"
    },
    {
      "cell_type": "code",
      "source": [
        "transformer_confusion_matrix = transformer.get_confusion_matrix(test_dataset, y_test)\n",
        "transformer_confusion_matrix"
      ],
      "metadata": {
        "colab": {
          "base_uri": "https://localhost:8080/"
        },
        "id": "88oK7mnT3bM5",
        "outputId": "349f92ba-9de6-48cc-a006-f474e01700b3"
      },
      "id": "88oK7mnT3bM5",
      "execution_count": 45,
      "outputs": [
        {
          "output_type": "execute_result",
          "data": {
            "text/plain": [
              "array([[5, 0, 0, 0, 0],\n",
              "       [0, 1, 0, 2, 0],\n",
              "       [0, 0, 1, 0, 0],\n",
              "       [1, 0, 1, 0, 1],\n",
              "       [0, 0, 0, 0, 3]])"
            ]
          },
          "metadata": {},
          "execution_count": 45
        }
      ]
    },
    {
      "cell_type": "markdown",
      "source": [
        "## Save and Load Object"
      ],
      "metadata": {
        "id": "TLV7JqCl190W"
      },
      "id": "TLV7JqCl190W"
    },
    {
      "cell_type": "code",
      "source": [
        "def save_object(obj, file_name):\n",
        "    with open(file_name, 'wb') as file:\n",
        "        pickle.dump(obj, file, pickle.HIGHEST_PROTOCOL)\n",
        "        \n",
        "def load_object(file_name):\n",
        "    with open(file_name, 'rb') as file:\n",
        "        return pickle.load(file)"
      ],
      "metadata": {
        "id": "iEiHCiwS1-s6"
      },
      "id": "iEiHCiwS1-s6",
      "execution_count": 46,
      "outputs": []
    },
    {
      "cell_type": "markdown",
      "source": [
        "## Save Model"
      ],
      "metadata": {
        "id": "4Vbp6-3o2C5a"
      },
      "id": "4Vbp6-3o2C5a"
    },
    {
      "cell_type": "code",
      "source": [
        "pip install transformers[onnx]"
      ],
      "metadata": {
        "colab": {
          "base_uri": "https://localhost:8080/",
          "height": 1000
        },
        "id": "CWlAS55h-Bzl",
        "outputId": "1b96e177-def8-44b1-f74d-c2f34cfd6a6c"
      },
      "id": "CWlAS55h-Bzl",
      "execution_count": 48,
      "outputs": [
        {
          "output_type": "stream",
          "name": "stdout",
          "text": [
            "Looking in indexes: https://pypi.org/simple, https://us-python.pkg.dev/colab-wheels/public/simple/\n",
            "Requirement already satisfied: transformers[onnx] in /usr/local/lib/python3.7/dist-packages (4.20.1)\n",
            "Requirement already satisfied: pyyaml>=5.1 in /usr/local/lib/python3.7/dist-packages (from transformers[onnx]) (6.0)\n",
            "Requirement already satisfied: huggingface-hub<1.0,>=0.1.0 in /usr/local/lib/python3.7/dist-packages (from transformers[onnx]) (0.8.1)\n",
            "Requirement already satisfied: numpy>=1.17 in /usr/local/lib/python3.7/dist-packages (from transformers[onnx]) (1.21.6)\n",
            "Requirement already satisfied: regex!=2019.12.17 in /usr/local/lib/python3.7/dist-packages (from transformers[onnx]) (2022.6.2)\n",
            "Requirement already satisfied: packaging>=20.0 in /usr/local/lib/python3.7/dist-packages (from transformers[onnx]) (21.3)\n",
            "Requirement already satisfied: importlib-metadata in /usr/local/lib/python3.7/dist-packages (from transformers[onnx]) (4.12.0)\n",
            "Requirement already satisfied: tqdm>=4.27 in /usr/local/lib/python3.7/dist-packages (from transformers[onnx]) (4.64.0)\n",
            "Requirement already satisfied: requests in /usr/local/lib/python3.7/dist-packages (from transformers[onnx]) (2.23.0)\n",
            "Requirement already satisfied: filelock in /usr/local/lib/python3.7/dist-packages (from transformers[onnx]) (3.7.1)\n",
            "Requirement already satisfied: tokenizers!=0.11.3,<0.13,>=0.11.1 in /usr/local/lib/python3.7/dist-packages (from transformers[onnx]) (0.12.1)\n",
            "Collecting onnxruntime>=1.4.0\n",
            "  Downloading onnxruntime-1.12.0-cp37-cp37m-manylinux_2_27_x86_64.whl (4.9 MB)\n",
            "\u001b[K     |████████████████████████████████| 4.9 MB 7.2 MB/s \n",
            "\u001b[?25hCollecting onnxconverter-common\n",
            "  Downloading onnxconverter_common-1.9.0-py2.py3-none-any.whl (78 kB)\n",
            "\u001b[K     |████████████████████████████████| 78 kB 9.9 MB/s \n",
            "\u001b[?25hCollecting onnxruntime-tools>=1.4.2\n",
            "  Downloading onnxruntime_tools-1.7.0-py3-none-any.whl (212 kB)\n",
            "\u001b[K     |████████████████████████████████| 212 kB 81.4 MB/s \n",
            "\u001b[?25hCollecting tf2onnx\n",
            "  Downloading tf2onnx-1.11.1-py3-none-any.whl (440 kB)\n",
            "\u001b[K     |████████████████████████████████| 440 kB 77.5 MB/s \n",
            "\u001b[?25hRequirement already satisfied: typing-extensions>=3.7.4.3 in /usr/local/lib/python3.7/dist-packages (from huggingface-hub<1.0,>=0.1.0->transformers[onnx]) (4.1.1)\n",
            "Requirement already satisfied: flatbuffers in /usr/local/lib/python3.7/dist-packages (from onnxruntime>=1.4.0->transformers[onnx]) (2.0)\n",
            "Collecting coloredlogs\n",
            "  Downloading coloredlogs-15.0.1-py2.py3-none-any.whl (46 kB)\n",
            "\u001b[K     |████████████████████████████████| 46 kB 5.0 MB/s \n",
            "\u001b[?25hRequirement already satisfied: protobuf in /usr/local/lib/python3.7/dist-packages (from onnxruntime>=1.4.0->transformers[onnx]) (3.17.3)\n",
            "Requirement already satisfied: sympy in /usr/local/lib/python3.7/dist-packages (from onnxruntime>=1.4.0->transformers[onnx]) (1.7.1)\n",
            "Requirement already satisfied: psutil in /usr/local/lib/python3.7/dist-packages (from onnxruntime-tools>=1.4.2->transformers[onnx]) (5.4.8)\n",
            "Collecting py-cpuinfo\n",
            "  Downloading py-cpuinfo-8.0.0.tar.gz (99 kB)\n",
            "\u001b[K     |████████████████████████████████| 99 kB 12.3 MB/s \n",
            "\u001b[?25hCollecting onnx\n",
            "  Downloading onnx-1.12.0-cp37-cp37m-manylinux_2_17_x86_64.manylinux2014_x86_64.whl (13.1 MB)\n",
            "\u001b[K     |████████████████████████████████| 13.1 MB 53.6 MB/s \n",
            "\u001b[?25hCollecting py3nvml\n",
            "  Downloading py3nvml-0.2.7-py3-none-any.whl (55 kB)\n",
            "\u001b[K     |████████████████████████████████| 55 kB 4.9 MB/s \n",
            "\u001b[?25hRequirement already satisfied: pyparsing!=3.0.5,>=2.0.2 in /usr/local/lib/python3.7/dist-packages (from packaging>=20.0->transformers[onnx]) (3.0.9)\n",
            "Collecting humanfriendly>=9.1\n",
            "  Downloading humanfriendly-10.0-py2.py3-none-any.whl (86 kB)\n",
            "\u001b[K     |████████████████████████████████| 86 kB 7.6 MB/s \n",
            "\u001b[?25hRequirement already satisfied: zipp>=0.5 in /usr/local/lib/python3.7/dist-packages (from importlib-metadata->transformers[onnx]) (3.8.1)\n",
            "Requirement already satisfied: six>=1.9 in /usr/local/lib/python3.7/dist-packages (from protobuf->onnxruntime>=1.4.0->transformers[onnx]) (1.15.0)\n",
            "Collecting xmltodict\n",
            "  Downloading xmltodict-0.13.0-py2.py3-none-any.whl (10.0 kB)\n",
            "Requirement already satisfied: idna<3,>=2.5 in /usr/local/lib/python3.7/dist-packages (from requests->transformers[onnx]) (2.10)\n",
            "Requirement already satisfied: chardet<4,>=3.0.2 in /usr/local/lib/python3.7/dist-packages (from requests->transformers[onnx]) (3.0.4)\n",
            "Requirement already satisfied: urllib3!=1.25.0,!=1.25.1,<1.26,>=1.21.1 in /usr/local/lib/python3.7/dist-packages (from requests->transformers[onnx]) (1.24.3)\n",
            "Requirement already satisfied: certifi>=2017.4.17 in /usr/local/lib/python3.7/dist-packages (from requests->transformers[onnx]) (2022.6.15)\n",
            "Requirement already satisfied: mpmath>=0.19 in /usr/local/lib/python3.7/dist-packages (from sympy->onnxruntime>=1.4.0->transformers[onnx]) (1.2.1)\n",
            "Collecting flatbuffers\n",
            "  Downloading flatbuffers-1.12-py2.py3-none-any.whl (15 kB)\n",
            "Building wheels for collected packages: py-cpuinfo\n",
            "  Building wheel for py-cpuinfo (setup.py) ... \u001b[?25l\u001b[?25hdone\n",
            "  Created wheel for py-cpuinfo: filename=py_cpuinfo-8.0.0-py3-none-any.whl size=22257 sha256=4c2ae49c007eb6840d61b692e81db302e081af72a6538e4286132806b268334d\n",
            "  Stored in directory: /root/.cache/pip/wheels/d2/f1/1f/041add21dc9c4220157f1bd2bd6afe1f1a49524c3396b94401\n",
            "Successfully built py-cpuinfo\n",
            "Installing collected packages: xmltodict, humanfriendly, py3nvml, py-cpuinfo, onnx, flatbuffers, coloredlogs, tf2onnx, onnxruntime-tools, onnxruntime, onnxconverter-common\n",
            "  Attempting uninstall: flatbuffers\n",
            "    Found existing installation: flatbuffers 2.0\n",
            "    Uninstalling flatbuffers-2.0:\n",
            "      Successfully uninstalled flatbuffers-2.0\n",
            "Successfully installed coloredlogs-15.0.1 flatbuffers-1.12 humanfriendly-10.0 onnx-1.12.0 onnxconverter-common-1.9.0 onnxruntime-1.12.0 onnxruntime-tools-1.7.0 py-cpuinfo-8.0.0 py3nvml-0.2.7 tf2onnx-1.11.1 xmltodict-0.13.0\n"
          ]
        },
        {
          "output_type": "display_data",
          "data": {
            "application/vnd.colab-display-data+json": {
              "pip_warning": {
                "packages": [
                  "flatbuffers"
                ]
              }
            }
          },
          "metadata": {}
        }
      ]
    },
    {
      "cell_type": "code",
      "source": [
        "CLASSIFICATION_PATH = 'Classification.pkl'\n",
        "save_object(classification, CLASSIFICATION_PATH)\n",
        "TRANSFORMER_PATH = 'Transformer.pkl'\n",
        "save_object(transformer, TRANSFORMER_PATH)"
      ],
      "metadata": {
        "colab": {
          "base_uri": "https://localhost:8080/",
          "height": 329
        },
        "id": "btRhVQqh2F8J",
        "outputId": "3c8791da-04e2-4202-eb72-c87833913621"
      },
      "id": "btRhVQqh2F8J",
      "execution_count": 47,
      "outputs": [
        {
          "output_type": "error",
          "ename": "AttributeError",
          "evalue": "ignored",
          "traceback": [
            "\u001b[0;31m---------------------------------------------------------------------------\u001b[0m",
            "\u001b[0;31mAttributeError\u001b[0m                            Traceback (most recent call last)",
            "\u001b[0;32m<ipython-input-47-f1dea68bf7d7>\u001b[0m in \u001b[0;36m<module>\u001b[0;34m()\u001b[0m\n\u001b[1;32m      2\u001b[0m \u001b[0msave_object\u001b[0m\u001b[0;34m(\u001b[0m\u001b[0mclassification\u001b[0m\u001b[0;34m,\u001b[0m \u001b[0mCLASSIFICATION_PATH\u001b[0m\u001b[0;34m)\u001b[0m\u001b[0;34m\u001b[0m\u001b[0;34m\u001b[0m\u001b[0m\n\u001b[1;32m      3\u001b[0m \u001b[0mTRANSFORMER_PATH\u001b[0m \u001b[0;34m=\u001b[0m \u001b[0;34m'Transformer.pkl'\u001b[0m\u001b[0;34m\u001b[0m\u001b[0;34m\u001b[0m\u001b[0m\n\u001b[0;32m----> 4\u001b[0;31m \u001b[0msave_object\u001b[0m\u001b[0;34m(\u001b[0m\u001b[0mtransformer\u001b[0m\u001b[0;34m,\u001b[0m \u001b[0mTRANSFORMER_PATH\u001b[0m\u001b[0;34m)\u001b[0m\u001b[0;34m\u001b[0m\u001b[0;34m\u001b[0m\u001b[0m\n\u001b[0m",
            "\u001b[0;32m<ipython-input-46-5b308e8ebf6f>\u001b[0m in \u001b[0;36msave_object\u001b[0;34m(obj, file_name)\u001b[0m\n\u001b[1;32m      1\u001b[0m \u001b[0;32mdef\u001b[0m \u001b[0msave_object\u001b[0m\u001b[0;34m(\u001b[0m\u001b[0mobj\u001b[0m\u001b[0;34m,\u001b[0m \u001b[0mfile_name\u001b[0m\u001b[0;34m)\u001b[0m\u001b[0;34m:\u001b[0m\u001b[0;34m\u001b[0m\u001b[0;34m\u001b[0m\u001b[0m\n\u001b[1;32m      2\u001b[0m     \u001b[0;32mwith\u001b[0m \u001b[0mopen\u001b[0m\u001b[0;34m(\u001b[0m\u001b[0mfile_name\u001b[0m\u001b[0;34m,\u001b[0m \u001b[0;34m'wb'\u001b[0m\u001b[0;34m)\u001b[0m \u001b[0;32mas\u001b[0m \u001b[0mfile\u001b[0m\u001b[0;34m:\u001b[0m\u001b[0;34m\u001b[0m\u001b[0;34m\u001b[0m\u001b[0m\n\u001b[0;32m----> 3\u001b[0;31m         \u001b[0mpickle\u001b[0m\u001b[0;34m.\u001b[0m\u001b[0mdump\u001b[0m\u001b[0;34m(\u001b[0m\u001b[0mobj\u001b[0m\u001b[0;34m,\u001b[0m \u001b[0mfile\u001b[0m\u001b[0;34m,\u001b[0m \u001b[0mpickle\u001b[0m\u001b[0;34m.\u001b[0m\u001b[0mHIGHEST_PROTOCOL\u001b[0m\u001b[0;34m)\u001b[0m\u001b[0;34m\u001b[0m\u001b[0;34m\u001b[0m\u001b[0m\n\u001b[0m\u001b[1;32m      4\u001b[0m \u001b[0;34m\u001b[0m\u001b[0m\n\u001b[1;32m      5\u001b[0m \u001b[0;32mdef\u001b[0m \u001b[0mload_object\u001b[0m\u001b[0;34m(\u001b[0m\u001b[0mfile_name\u001b[0m\u001b[0;34m)\u001b[0m\u001b[0;34m:\u001b[0m\u001b[0;34m\u001b[0m\u001b[0;34m\u001b[0m\u001b[0m\n",
            "\u001b[0;31mAttributeError\u001b[0m: Can't pickle local object 'get_linear_schedule_with_warmup.<locals>.lr_lambda'"
          ]
        }
      ]
    },
    {
      "cell_type": "markdown",
      "source": [
        "## Load Model"
      ],
      "metadata": {
        "id": "HfFItJmI2V5B"
      },
      "id": "HfFItJmI2V5B"
    },
    {
      "cell_type": "code",
      "source": [
        "classification = load_object(CLASSIFICATION_PATH)\n",
        "transformer = load_object(TRANSFORMER_PATH)"
      ],
      "metadata": {
        "id": "11Tby1bM2YBp"
      },
      "id": "11Tby1bM2YBp",
      "execution_count": null,
      "outputs": []
    },
    {
      "cell_type": "markdown",
      "id": "dd285fe5",
      "metadata": {
        "id": "dd285fe5"
      },
      "source": [
        "## Technical Report"
      ]
    },
    {
      "cell_type": "markdown",
      "id": "89f400e7",
      "metadata": {
        "id": "89f400e7"
      },
      "source": [
        "<div dir = \"rtl\">\n",
        "    در این پروژه تمام کد‌های ریپازیتوری‌های crawl شده را در نظر گرفتیم و با استفاده از TfidfVectorizer برای تمام کد ها بردار متناظرشان را بدست آوردیم.\n",
        "    سپس با استفاده از sklearn و با دانستن زبان هر کد (که لیبل اصلی آن محسوب می‌شود) روی این داده‌ها کار training را انجام دادیم.\n",
        "    با استفاده از مدل بدست آورده زبان تمام کد‌هایی که برای بخش test گذاشتیم را پیش‌بینی کرده و مشاهده کردیم که بالای ۹۵٪ پاسخ‌ها صحیح هستند.\n",
        "    برای هر ریپازیتوری نیز برای آنکه زبانی که بیشترین میزان استفاده شده را تخمین بزنیم تمام کد‌های آن را concat کردیم و روی حاصل prediction را انجام دادیم.\n",
        "    در نهایت نتایج بدست آمده را روی نمودار رسم کردیم.\n",
        "</div>"
      ]
    },
    {
      "cell_type": "markdown",
      "id": "8e8fc1bb",
      "metadata": {
        "id": "8e8fc1bb"
      },
      "source": [
        "<div dir = \"rtl\">\n",
        "    تمام توضیحات چگونگی crawling و دیگر مواردی که در بخش clustring نیز انجام شده‌اند در notebook مخصوص clustering قابل مشاهده است.\n",
        "</div>"
      ]
    }
  ],
  "metadata": {
    "kernelspec": {
      "display_name": "Python 3 (ipykernel)",
      "language": "python",
      "name": "python3"
    },
    "language_info": {
      "codemirror_mode": {
        "name": "ipython",
        "version": 3
      },
      "file_extension": ".py",
      "mimetype": "text/x-python",
      "name": "python",
      "nbconvert_exporter": "python",
      "pygments_lexer": "ipython3",
      "version": "3.9.0"
    },
    "colab": {
      "name": "Classification.ipynb",
      "provenance": [],
      "collapsed_sections": []
    },
    "gpuClass": "standard",
    "accelerator": "GPU"
  },
  "nbformat": 4,
  "nbformat_minor": 5
}