{
 "cells": [
  {
   "cell_type": "code",
   "execution_count": 1,
   "metadata": {},
   "outputs": [],
   "source": [
    "from elasticsearch import Elasticsearch\n"
   ]
  },
  {
   "cell_type": "code",
   "execution_count": 3,
   "metadata": {},
   "outputs": [],
   "source": [
    "import pandas as pd\n",
    "\n",
    "readmes_df = pd.read_json('string.json', orient= 'records')"
   ]
  },
  {
   "cell_type": "code",
   "execution_count": 6,
   "metadata": {},
   "outputs": [
    {
     "data": {
      "text/html": [
       "<div>\n",
       "<style scoped>\n",
       "    .dataframe tbody tr th:only-of-type {\n",
       "        vertical-align: middle;\n",
       "    }\n",
       "\n",
       "    .dataframe tbody tr th {\n",
       "        vertical-align: top;\n",
       "    }\n",
       "\n",
       "    .dataframe thead th {\n",
       "        text-align: right;\n",
       "    }\n",
       "</style>\n",
       "<table border=\"1\" class=\"dataframe\">\n",
       "  <thead>\n",
       "    <tr style=\"text-align: right;\">\n",
       "      <th></th>\n",
       "      <th>url</th>\n",
       "      <th>text</th>\n",
       "    </tr>\n",
       "  </thead>\n",
       "  <tbody>\n",
       "    <tr>\n",
       "      <th>1400</th>\n",
       "      <td>https://github.com/JunningWu/Learning-NVDLA-Notes</td>\n",
       "      <td>learning nvdla notes some usefull notes when l...</td>\n",
       "    </tr>\n",
       "    <tr>\n",
       "      <th>1401</th>\n",
       "      <td>https://github.com/KestrelComputer/kestrel</td>\n",
       "      <td>archived have decided to archive this site bec...</td>\n",
       "    </tr>\n",
       "    <tr>\n",
       "      <th>1402</th>\n",
       "      <td>https://github.com/mshr-h/vscode-verilog-hdl-s...</td>\n",
       "      <td>verilog hdl/systemverilog/bluespec systemveril...</td>\n",
       "    </tr>\n",
       "    <tr>\n",
       "      <th>1403</th>\n",
       "      <td>https://github.com/Nic30/hdlConvertor</td>\n",
       "      <td>hdlconvertor generated code this library is sy...</td>\n",
       "    </tr>\n",
       "    <tr>\n",
       "      <th>1404</th>\n",
       "      <td>https://github.com/The-Powder-Toy/The-Powder-Toy</td>\n",
       "      <td>the powder toy july NUMBER get the latest vers...</td>\n",
       "    </tr>\n",
       "  </tbody>\n",
       "</table>\n",
       "</div>"
      ],
      "text/plain": [
       "                                                    url  \\\n",
       "1400  https://github.com/JunningWu/Learning-NVDLA-Notes   \n",
       "1401         https://github.com/KestrelComputer/kestrel   \n",
       "1402  https://github.com/mshr-h/vscode-verilog-hdl-s...   \n",
       "1403              https://github.com/Nic30/hdlConvertor   \n",
       "1404   https://github.com/The-Powder-Toy/The-Powder-Toy   \n",
       "\n",
       "                                                   text  \n",
       "1400  learning nvdla notes some usefull notes when l...  \n",
       "1401  archived have decided to archive this site bec...  \n",
       "1402  verilog hdl/systemverilog/bluespec systemveril...  \n",
       "1403  hdlconvertor generated code this library is sy...  \n",
       "1404  the powder toy july NUMBER get the latest vers...  "
      ]
     },
     "execution_count": 6,
     "metadata": {},
     "output_type": "execute_result"
    }
   ],
   "source": [
    "readmes_df.tail()\n",
    "\n",
    "for i in range(0, len(readmes_df['text'])):\n",
    "          readmes_df['text'][i] = ' '.join(map(str, readmes_df['text'][i]))\n",
    "\n",
    "readmes_df.tail()"
   ]
  },
  {
   "cell_type": "code",
   "execution_count": 7,
   "metadata": {},
   "outputs": [],
   "source": [
    "readmes_df.to_json('test.json', orient= 'records')"
   ]
  },
  {
   "cell_type": "code",
   "execution_count": 9,
   "metadata": {},
   "outputs": [
    {
     "name": "stderr",
     "output_type": "stream",
     "text": [
      "/Library/Frameworks/Python.framework/Versions/3.6/lib/python3.6/site-packages/ipykernel_launcher.py:21: DeprecationWarning: The 'body' parameter is deprecated for the 'index' API and will be removed in a future version. Instead use the 'document' parameter. See https://github.com/elastic/elasticsearch-py/issues/1698 for more information\n"
     ]
    }
   ],
   "source": [
    "import json\n",
    "from elasticsearch import Elasticsearch\n",
    "from elasticsearch_dsl import Q, Search\n",
    "\n",
    "es = Elasticsearch(\"http://localhost:9200\")\n",
    "\n",
    "data = json.load(open('test.json'))\n",
    "for a_data in data:\n",
    "    res = es.index(index='my-index', body=a_data)\n",
    "\n",
    "\n",
    "# body = {'query': {'bool': {'must': [{'match': {'gender': 'male'}},\n",
    "#                                  {'range': {'age': {'gte': 25}}}]}}}\n",
    "# res = es.search(index='my-index', body=body)\n",
    "# print(res)\n",
    "\n",
    "\n"
   ]
  },
  {
   "cell_type": "code",
   "execution_count": 12,
   "metadata": {},
   "outputs": [
    {
     "name": "stdout",
     "output_type": "stream",
     "text": [
      "https://github.com/ellisonleao/magictools\n",
      "https://github.com/leereilly/games\n",
      "https://github.com/pixijs/pixijs\n",
      "https://github.com/playcanvas/engine\n",
      "https://github.com/turbulenz/turbulenz_engine\n",
      "https://github.com/egret-labs/egret-core\n",
      "https://github.com/leomaurodesenv/game-datasets\n",
      "https://github.com/JoseDeFreitas/awesome-youtubers\n",
      "https://github.com/melonjs/melonJS\n",
      "https://github.com/godotengine/godot\n"
     ]
    }
   ],
   "source": [
    "query = Q('match', text='the html5 creation engine')\n",
    "s = Search(using=es, index='my-index').query(query)\n",
    "response = s.execute()\n",
    "for hit in response:\n",
    "    print(hit.url)"
   ]
  },
  {
   "cell_type": "markdown",
   "metadata": {},
   "source": [
    "<div dir = \"rtl\">\n",
    "\n",
    "الستیک سرچ یک موتور جست و جوی آماده و متن باز است. مبنای الستیک سرچ معماری rest است. ابتدا نیاز است تا خود الستیک سرچ بر روی سیستم نصب باشد تا با استفاده از آن یک سرور الستیک سرچ بر روی پورت 9200 لوکال داشته باشیم. برای ارتباط برقرار کردن و اتصال الستیک سرچ به پایتون نیاز است تا پکیج elasticsearch را نصب کنیم. با استفاده از این پکیج میتوانیم با سرور الستیک سرچ بدون ریکوئست مستقیم ارتباط برقرار کنیم. همجنین از این پکیج استفاده میکنیم تا دیتای خود را ایندکس کنیم. دیتای مورد استفاده همان دیتای تمرین سوم است. به دلیل اینکه اساس الستیک سرچ معماری rest است فرمت این دیتا ها باید به صورت json باشد. برای کوئری زدن همان طور که اشاره شد میتوان به صورت مستقیم به سرور الستیک سرچ ریکوئست زد اما میتوان از پکیج dsl استفاده کرد تا روند جست و جو ساده تر و قابل انعطاف تر باشد. مطابق اکسلی که از نتایج خروجی های الستیک سرچ گذاشته شد، الستیک سرچ نسبت به دیگر روش های بازیابی در معیار MRR بهبود داشته. همچنین در خروجی ها به جز اولین خروجی مرتبط نیز نتایج قابل قبول تری نسبت به بقیه روش های بازیابی داشته است.\n",
    "\n",
    "</div>"
   ]
  }
 ],
 "metadata": {
  "kernelspec": {
   "display_name": "Python 3.6.8 64-bit",
   "language": "python",
   "name": "python3"
  },
  "language_info": {
   "codemirror_mode": {
    "name": "ipython",
    "version": 3
   },
   "file_extension": ".py",
   "mimetype": "text/x-python",
   "name": "python",
   "nbconvert_exporter": "python",
   "pygments_lexer": "ipython3",
   "version": "3.6.8"
  },
  "orig_nbformat": 4,
  "vscode": {
   "interpreter": {
    "hash": "aee8b7b246df8f9039afb4144a1f6fd8d2ca17a180786b69acc140d282b71a49"
   }
  }
 },
 "nbformat": 4,
 "nbformat_minor": 2
}
