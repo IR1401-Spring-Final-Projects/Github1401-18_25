{
 "cells": [
  {
   "cell_type": "code",
   "execution_count": null,
   "id": "cf79a349",
   "metadata": {},
   "outputs": [],
   "source": [
    "#!pip install scikit-learn"
   ]
  },
  {
   "cell_type": "code",
   "execution_count": null,
   "id": "3ea3f412",
   "metadata": {},
   "outputs": [],
   "source": [
    "#!pip install pandas"
   ]
  },
  {
   "cell_type": "code",
   "execution_count": null,
   "id": "ba43ef44",
   "metadata": {},
   "outputs": [],
   "source": [
    "#!pip install yellowbrick"
   ]
  },
  {
   "cell_type": "code",
   "execution_count": 31,
   "id": "23e567ff",
   "metadata": {},
   "outputs": [
    {
     "name": "stdout",
     "output_type": "stream",
     "text": [
      "Requirement already satisfied: transformers in /usr/local/Cellar/ipython/8.4.0/libexec/lib/python3.10/site-packages (4.20.1)\n",
      "Requirement already satisfied: huggingface-hub<1.0,>=0.1.0 in /usr/local/Cellar/ipython/8.4.0/libexec/lib/python3.10/site-packages (from transformers) (0.8.1)\n",
      "Requirement already satisfied: pyyaml>=5.1 in /usr/local/lib/python3.10/site-packages (from transformers) (6.0)\n",
      "Requirement already satisfied: regex!=2019.12.17 in /usr/local/Cellar/ipython/8.4.0/libexec/lib/python3.10/site-packages (from transformers) (2022.7.25)\n",
      "Requirement already satisfied: filelock in /usr/local/Cellar/ipython/8.4.0/libexec/lib/python3.10/site-packages (from transformers) (3.7.1)\n",
      "Requirement already satisfied: packaging>=20.0 in /usr/local/Cellar/ipython/8.4.0/libexec/lib/python3.10/site-packages (from transformers) (21.3)\n",
      "Requirement already satisfied: tqdm>=4.27 in /usr/local/Cellar/ipython/8.4.0/libexec/lib/python3.10/site-packages (from transformers) (4.64.0)\n",
      "Requirement already satisfied: numpy>=1.17 in /usr/local/Cellar/ipython/8.4.0/libexec/lib/python3.10/site-packages (from transformers) (1.23.1)\n",
      "Requirement already satisfied: requests in /usr/local/lib/python3.10/site-packages (from transformers) (2.28.1)\n",
      "Requirement already satisfied: tokenizers!=0.11.3,<0.13,>=0.11.1 in /usr/local/Cellar/ipython/8.4.0/libexec/lib/python3.10/site-packages (from transformers) (0.12.1)\n",
      "Requirement already satisfied: typing-extensions>=3.7.4.3 in /usr/local/Cellar/ipython/8.4.0/libexec/lib/python3.10/site-packages (from huggingface-hub<1.0,>=0.1.0->transformers) (4.3.0)\n",
      "Requirement already satisfied: pyparsing!=3.0.5,>=2.0.2 in /usr/local/Cellar/ipython/8.4.0/libexec/lib/python3.10/site-packages (from packaging>=20.0->transformers) (3.0.9)\n",
      "Requirement already satisfied: urllib3<1.27,>=1.21.1 in /usr/local/lib/python3.10/site-packages (from requests->transformers) (1.26.10)\n",
      "Requirement already satisfied: certifi>=2017.4.17 in /usr/local/lib/python3.10/site-packages (from requests->transformers) (2022.6.15)\n",
      "Requirement already satisfied: idna<4,>=2.5 in /usr/local/lib/python3.10/site-packages (from requests->transformers) (3.3)\n",
      "Requirement already satisfied: charset-normalizer<3,>=2 in /usr/local/lib/python3.10/site-packages (from requests->transformers) (2.1.0)\n",
      "\u001b[33mWARNING: You are using pip version 22.0.4; however, version 22.2 is available.\n",
      "You should consider upgrading via the '/usr/local/Cellar/ipython/8.4.0/libexec/bin/python3.10 -m pip install --upgrade pip' command.\u001b[0m\u001b[33m\n",
      "\u001b[0mNote: you may need to restart the kernel to use updated packages.\n"
     ]
    }
   ],
   "source": [
    "pip install transformers"
   ]
  },
  {
   "cell_type": "markdown",
   "id": "ed65487e",
   "metadata": {},
   "source": [
    "## Define dataset"
   ]
  },
  {
   "cell_type": "code",
   "execution_count": 1,
   "id": "89f13c98",
   "metadata": {},
   "outputs": [],
   "source": [
    "import numpy  as np\n",
    "import pandas as pd\n",
    "import json\n",
    "from sklearn.feature_extraction.text import TfidfVectorizer\n",
    "from sklearn.preprocessing import normalize\n",
    "from sklearn.cluster import KMeans\n",
    "from sklearn.metrics import accuracy_score\n",
    "from sklearn.manifold import TSNE\n",
    "import matplotlib.pyplot  as plt\n",
    "from pathlib import Path\n",
    "import os\n",
    "import gensim"
   ]
  },
  {
   "cell_type": "code",
   "execution_count": 2,
   "id": "d24271ce",
   "metadata": {},
   "outputs": [],
   "source": [
    "file = open('repos_dict.json')\n",
    "repos_dict = json.load(file)    "
   ]
  },
  {
   "cell_type": "code",
   "execution_count": null,
   "id": "cfad52e4",
   "metadata": {},
   "outputs": [],
   "source": [
    "REPO_NAME = 'repo_name'\n",
    "FILE_NAME = 'file_name'\n",
    "LANG = 'language'\n",
    "CODE = 'code'\n",
    "valid_languages = ['Java', 'Python', 'Shell', 'C++', 'Go']\n",
    "\n",
    "def get_code_df(dirr):\n",
    "    code_df = pd.DataFrame(columns=[REPO_NAME, FILE_NAME, LANG, CODE])\n",
    "    for addr, folders, files in os.walk(dirr):\n",
    "        if not folders:\n",
    "            temp = get_files(addr, files)\n",
    "            if type(temp) != bool:\n",
    "                code_df = code_df.append(temp, ignore_index=True)\n",
    "            else:\n",
    "                pass\n",
    "    return code_df\n",
    "            \n",
    "\n",
    "def get_files(folder_addr, file_names:list):\n",
    "    result = []\n",
    "    repo_name = folder_addr.split('/')[-2]\n",
    "    language = folder_addr.split('/')[-1]\n",
    "    if language not in valid_languages:\n",
    "        return False\n",
    "    for file in file_names:\n",
    "        splitted_name = file.split('.')\n",
    "        name = '.'.join(splitted_name[0:-2])\n",
    "        code = Path(folder_addr+'/'+file).read_text()\n",
    "        result.append((repo_name, name, language, code))\n",
    "    return pd.DataFrame(result ,columns=[REPO_NAME, FILE_NAME, LANG, CODE])\n",
    "    \n",
    "data = get_code_df('preprocessed_data')\n",
    "data.to_csv('code_v1.csv')"
   ]
  },
  {
   "cell_type": "code",
   "execution_count": 4,
   "id": "b7b12d22",
   "metadata": {},
   "outputs": [],
   "source": [
    "def get_concatanated(repo):\n",
    "    text = ''\n",
    "    for language in valid_languages:\n",
    "        path = Path(f'preprocessed_data/{repo}/{language}')\n",
    "        if not path.exists():\n",
    "            continue\n",
    "        for p in path.iterdir():\n",
    "            code = p.read_text()\n",
    "            text += code\n",
    "            text += ' '\n",
    "    return text\n",
    "\n",
    "def get_valid_test():\n",
    "    result = []\n",
    "    for repo in repos_dict:\n",
    "        if repo['language'] not in valid_languages:\n",
    "            continue\n",
    "        code = get_concatanated(repo['dir_name'])\n",
    "        result.append((repo['dir_name'], repo['url'], repo['language'], code))\n",
    "    return pd.DataFrame(result ,columns=[REPO_NAME, FILE_NAME, LANG, CODE])"
   ]
  },
  {
   "cell_type": "code",
   "execution_count": 5,
   "id": "de461b31",
   "metadata": {},
   "outputs": [],
   "source": [
    "repos_df = get_valid_test()"
   ]
  },
  {
   "cell_type": "code",
   "execution_count": 6,
   "id": "3cc03ecd",
   "metadata": {},
   "outputs": [],
   "source": [
    "def get_part_of_data(counts):\n",
    "    part_of_data =  pd.DataFrame(columns=[REPO_NAME, FILE_NAME, LANG, CODE])\n",
    "    for count, language in zip(counts, valid_languages):\n",
    "        part_of_data = part_of_data.append(data.loc[data[LANG] == language][0:count], ignore_index = True)\n",
    "    return part_of_data"
   ]
  },
  {
   "cell_type": "code",
   "execution_count": null,
   "id": "a16cd4a6",
   "metadata": {},
   "outputs": [],
   "source": [
    "counts = [200, 200, 200, 200, 200]\n",
    "data1 = get_part_of_data(counts).append(repos_df, ignore_index=True)\n",
    "true_labels = [label for label, count in enumerate(counts) for _ in range(count)]"
   ]
  },
  {
   "cell_type": "code",
   "execution_count": 9,
   "id": "fa6c0b80",
   "metadata": {},
   "outputs": [
    {
     "data": {
      "text/html": [
       "<div>\n",
       "<style scoped>\n",
       "    .dataframe tbody tr th:only-of-type {\n",
       "        vertical-align: middle;\n",
       "    }\n",
       "\n",
       "    .dataframe tbody tr th {\n",
       "        vertical-align: top;\n",
       "    }\n",
       "\n",
       "    .dataframe thead th {\n",
       "        text-align: right;\n",
       "    }\n",
       "</style>\n",
       "<table border=\"1\" class=\"dataframe\">\n",
       "  <thead>\n",
       "    <tr style=\"text-align: right;\">\n",
       "      <th></th>\n",
       "      <th>repo_name</th>\n",
       "      <th>file_name</th>\n",
       "      <th>language</th>\n",
       "      <th>code</th>\n",
       "    </tr>\n",
       "  </thead>\n",
       "  <tbody>\n",
       "    <tr>\n",
       "      <th>0</th>\n",
       "      <td>itinance_react-native-fs</td>\n",
       "      <td>android.src.main.java.com.rnfs.IORejectionExce...</td>\n",
       "      <td>Java</td>\n",
       "      <td>package com . rnfs ; class IORejectionExceptio...</td>\n",
       "    </tr>\n",
       "    <tr>\n",
       "      <th>1</th>\n",
       "      <td>itinance_react-native-fs</td>\n",
       "      <td>android.src.main.java.com.rnfs.Uploader</td>\n",
       "      <td>Java</td>\n",
       "      <td>package com . rnfs ; import android . os . Asy...</td>\n",
       "    </tr>\n",
       "    <tr>\n",
       "      <th>2</th>\n",
       "      <td>itinance_react-native-fs</td>\n",
       "      <td>android.src.main.java.com.rnfs.UploadResult</td>\n",
       "      <td>Java</td>\n",
       "      <td>package com . rnfs ; import com . facebook . r...</td>\n",
       "    </tr>\n",
       "    <tr>\n",
       "      <th>3</th>\n",
       "      <td>itinance_react-native-fs</td>\n",
       "      <td>android.src.main.java.com.rnfs.DownloadParams</td>\n",
       "      <td>Java</td>\n",
       "      <td>package com . rnfs ; import java . io . File ;...</td>\n",
       "    </tr>\n",
       "    <tr>\n",
       "      <th>4</th>\n",
       "      <td>itinance_react-native-fs</td>\n",
       "      <td>android.src.main.java.com.rnfs.RNFSPackage</td>\n",
       "      <td>Java</td>\n",
       "      <td>package com . rnfs ; import java . util . * ; ...</td>\n",
       "    </tr>\n",
       "    <tr>\n",
       "      <th>...</th>\n",
       "      <td>...</td>\n",
       "      <td>...</td>\n",
       "      <td>...</td>\n",
       "      <td>...</td>\n",
       "    </tr>\n",
       "    <tr>\n",
       "      <th>995</th>\n",
       "      <td>inancgumus_learngo</td>\n",
       "      <td>14-arrays.06-challenge-moodly.challenge.main</td>\n",
       "      <td>Go</td>\n",
       "      <td>/ / / / / / / / / / / / / / package main / / ...</td>\n",
       "    </tr>\n",
       "    <tr>\n",
       "      <th>996</th>\n",
       "      <td>inancgumus_learngo</td>\n",
       "      <td>16-slices.exercises.20-observe-the-cap-growth....</td>\n",
       "      <td>Go</td>\n",
       "      <td>/ / / / / / / / / / / / / / package main impo...</td>\n",
       "    </tr>\n",
       "    <tr>\n",
       "      <th>997</th>\n",
       "      <td>inancgumus_learngo</td>\n",
       "      <td>06-variables.01-basic-data-types.exercises.02-...</td>\n",
       "      <td>Go</td>\n",
       "      <td>/ / / / / / / / / / / / / / package main impo...</td>\n",
       "    </tr>\n",
       "    <tr>\n",
       "      <th>998</th>\n",
       "      <td>inancgumus_learngo</td>\n",
       "      <td>26-pointers.03-pointers-composites.main</td>\n",
       "      <td>Go</td>\n",
       "      <td>/ / / / / / / / / / / / / / package main impo...</td>\n",
       "    </tr>\n",
       "    <tr>\n",
       "      <th>999</th>\n",
       "      <td>inancgumus_learngo</td>\n",
       "      <td>translation.chinese.03-包和作用域.01-packages.bye</td>\n",
       "      <td>Go</td>\n",
       "      <td>/ / / / / / / / / / / / / / package main impo...</td>\n",
       "    </tr>\n",
       "  </tbody>\n",
       "</table>\n",
       "<p>1000 rows × 4 columns</p>\n",
       "</div>"
      ],
      "text/plain": [
       "                    repo_name  \\\n",
       "0    itinance_react-native-fs   \n",
       "1    itinance_react-native-fs   \n",
       "2    itinance_react-native-fs   \n",
       "3    itinance_react-native-fs   \n",
       "4    itinance_react-native-fs   \n",
       "..                        ...   \n",
       "995        inancgumus_learngo   \n",
       "996        inancgumus_learngo   \n",
       "997        inancgumus_learngo   \n",
       "998        inancgumus_learngo   \n",
       "999        inancgumus_learngo   \n",
       "\n",
       "                                             file_name language  \\\n",
       "0    android.src.main.java.com.rnfs.IORejectionExce...     Java   \n",
       "1              android.src.main.java.com.rnfs.Uploader     Java   \n",
       "2          android.src.main.java.com.rnfs.UploadResult     Java   \n",
       "3        android.src.main.java.com.rnfs.DownloadParams     Java   \n",
       "4           android.src.main.java.com.rnfs.RNFSPackage     Java   \n",
       "..                                                 ...      ...   \n",
       "995       14-arrays.06-challenge-moodly.challenge.main       Go   \n",
       "996  16-slices.exercises.20-observe-the-cap-growth....       Go   \n",
       "997  06-variables.01-basic-data-types.exercises.02-...       Go   \n",
       "998            26-pointers.03-pointers-composites.main       Go   \n",
       "999       translation.chinese.03-包和作用域.01-packages.bye       Go   \n",
       "\n",
       "                                                  code  \n",
       "0    package com . rnfs ; class IORejectionExceptio...  \n",
       "1    package com . rnfs ; import android . os . Asy...  \n",
       "2    package com . rnfs ; import com . facebook . r...  \n",
       "3    package com . rnfs ; import java . io . File ;...  \n",
       "4    package com . rnfs ; import java . util . * ; ...  \n",
       "..                                                 ...  \n",
       "995   / / / / / / / / / / / / / / package main / / ...  \n",
       "996   / / / / / / / / / / / / / / package main impo...  \n",
       "997   / / / / / / / / / / / / / / package main impo...  \n",
       "998   / / / / / / / / / / / / / / package main impo...  \n",
       "999   / / / / / / / / / / / / / / package main impo...  \n",
       "\n",
       "[1000 rows x 4 columns]"
      ]
     },
     "execution_count": 9,
     "metadata": {},
     "output_type": "execute_result"
    }
   ],
   "source": [
    "data1 = data1[:1000]\n",
    "data1"
   ]
  },
  {
   "cell_type": "code",
   "execution_count": 10,
   "id": "fd198833",
   "metadata": {},
   "outputs": [
    {
     "data": {
      "text/plain": [
       "{'C++', 'Go', 'Java', 'Python', 'Shell'}"
      ]
     },
     "execution_count": 10,
     "metadata": {},
     "output_type": "execute_result"
    }
   ],
   "source": [
    "set(repos_df[LANG])"
   ]
  },
  {
   "cell_type": "code",
   "execution_count": 11,
   "id": "0a6db9ba",
   "metadata": {},
   "outputs": [
    {
     "data": {
      "text/html": [
       "<div>\n",
       "<style scoped>\n",
       "    .dataframe tbody tr th:only-of-type {\n",
       "        vertical-align: middle;\n",
       "    }\n",
       "\n",
       "    .dataframe tbody tr th {\n",
       "        vertical-align: top;\n",
       "    }\n",
       "\n",
       "    .dataframe thead th {\n",
       "        text-align: right;\n",
       "    }\n",
       "</style>\n",
       "<table border=\"1\" class=\"dataframe\">\n",
       "  <thead>\n",
       "    <tr style=\"text-align: right;\">\n",
       "      <th></th>\n",
       "      <th>repo_name</th>\n",
       "      <th>file_name</th>\n",
       "      <th>language</th>\n",
       "      <th>code</th>\n",
       "    </tr>\n",
       "  </thead>\n",
       "  <tbody>\n",
       "    <tr>\n",
       "      <th>0</th>\n",
       "      <td>gothinkster_realworld</td>\n",
       "      <td>https://github.com/gothinkster/realworld</td>\n",
       "      <td>Shell</td>\n",
       "      <td># set - x SCRIPTDIR = \" \" $ ( dirname \" \" ) \"...</td>\n",
       "    </tr>\n",
       "    <tr>\n",
       "      <th>1</th>\n",
       "      <td>nvm-sh_nvm</td>\n",
       "      <td>https://github.com/nvm-sh/nvm</td>\n",
       "      <td>Shell</td>\n",
       "      <td># { # nvm_has ( ) { type \" \" &gt; / dev / null N...</td>\n",
       "    </tr>\n",
       "    <tr>\n",
       "      <th>2</th>\n",
       "      <td>jgraph_drawio-desktop</td>\n",
       "      <td>https://github.com/jgraph/drawio-desktop</td>\n",
       "      <td>Shell</td>\n",
       "      <td># set - eo pipefail # SOURCE_FILE_PATH = ' ' ...</td>\n",
       "    </tr>\n",
       "    <tr>\n",
       "      <th>3</th>\n",
       "      <td>mathiasbynens_dotfiles</td>\n",
       "      <td>https://github.com/mathiasbynens/dotfiles</td>\n",
       "      <td>Shell</td>\n",
       "      <td># cd \" \" $ { BASH_SOURCE } \" \" ; git pull ori...</td>\n",
       "    </tr>\n",
       "    <tr>\n",
       "      <th>4</th>\n",
       "      <td>dwmkerr_hacker-laws</td>\n",
       "      <td>https://github.com/dwmkerr/hacker-laws</td>\n",
       "      <td>Shell</td>\n",
       "      <td># # # # version = $ NUM date = $ ( date \" \" )...</td>\n",
       "    </tr>\n",
       "    <tr>\n",
       "      <th>...</th>\n",
       "      <td>...</td>\n",
       "      <td>...</td>\n",
       "      <td>...</td>\n",
       "      <td>...</td>\n",
       "    </tr>\n",
       "    <tr>\n",
       "      <th>145</th>\n",
       "      <td>sanic-org_sanic</td>\n",
       "      <td>https://github.com/sanic-org/sanic</td>\n",
       "      <td>Python</td>\n",
       "      <td>import asyncio import sys from typing import A...</td>\n",
       "    </tr>\n",
       "    <tr>\n",
       "      <th>146</th>\n",
       "      <td>nginx-proxy_nginx-proxy</td>\n",
       "      <td>https://github.com/nginx-proxy/nginx-proxy</td>\n",
       "      <td>Python</td>\n",
       "      <td>import pytest def test_arbitrary_headers_are_p...</td>\n",
       "    </tr>\n",
       "    <tr>\n",
       "      <th>147</th>\n",
       "      <td>binux_pyspider</td>\n",
       "      <td>https://github.com/binux/pyspider</td>\n",
       "      <td>Python</td>\n",
       "      <td># # # # # # import os import re import six im...</td>\n",
       "    </tr>\n",
       "    <tr>\n",
       "      <th>148</th>\n",
       "      <td>openai_gpt-2</td>\n",
       "      <td>https://github.com/openai/gpt-2</td>\n",
       "      <td>Python</td>\n",
       "      <td>import numpy as np import tensorflow as tf fro...</td>\n",
       "    </tr>\n",
       "    <tr>\n",
       "      <th>149</th>\n",
       "      <td>jhao104_proxy_pool</td>\n",
       "      <td>https://github.com/jhao104/proxy_pool</td>\n",
       "      <td>Python</td>\n",
       "      <td># # ' ' ' ' ' ' __author__ = ' ' from redis ....</td>\n",
       "    </tr>\n",
       "  </tbody>\n",
       "</table>\n",
       "<p>150 rows × 4 columns</p>\n",
       "</div>"
      ],
      "text/plain": [
       "                   repo_name                                   file_name  \\\n",
       "0      gothinkster_realworld    https://github.com/gothinkster/realworld   \n",
       "1                 nvm-sh_nvm               https://github.com/nvm-sh/nvm   \n",
       "2      jgraph_drawio-desktop    https://github.com/jgraph/drawio-desktop   \n",
       "3     mathiasbynens_dotfiles   https://github.com/mathiasbynens/dotfiles   \n",
       "4        dwmkerr_hacker-laws      https://github.com/dwmkerr/hacker-laws   \n",
       "..                       ...                                         ...   \n",
       "145          sanic-org_sanic          https://github.com/sanic-org/sanic   \n",
       "146  nginx-proxy_nginx-proxy  https://github.com/nginx-proxy/nginx-proxy   \n",
       "147           binux_pyspider           https://github.com/binux/pyspider   \n",
       "148             openai_gpt-2             https://github.com/openai/gpt-2   \n",
       "149       jhao104_proxy_pool       https://github.com/jhao104/proxy_pool   \n",
       "\n",
       "    language                                               code  \n",
       "0      Shell   # set - x SCRIPTDIR = \" \" $ ( dirname \" \" ) \"...  \n",
       "1      Shell   # { # nvm_has ( ) { type \" \" > / dev / null N...  \n",
       "2      Shell   # set - eo pipefail # SOURCE_FILE_PATH = ' ' ...  \n",
       "3      Shell   # cd \" \" $ { BASH_SOURCE } \" \" ; git pull ori...  \n",
       "4      Shell   # # # # version = $ NUM date = $ ( date \" \" )...  \n",
       "..       ...                                                ...  \n",
       "145   Python  import asyncio import sys from typing import A...  \n",
       "146   Python  import pytest def test_arbitrary_headers_are_p...  \n",
       "147   Python   # # # # # # import os import re import six im...  \n",
       "148   Python  import numpy as np import tensorflow as tf fro...  \n",
       "149   Python   # # ' ' ' ' ' ' __author__ = ' ' from redis ....  \n",
       "\n",
       "[150 rows x 4 columns]"
      ]
     },
     "execution_count": 11,
     "metadata": {},
     "output_type": "execute_result"
    }
   ],
   "source": [
    "repos_df"
   ]
  },
  {
   "cell_type": "code",
   "execution_count": 12,
   "id": "60d7e30d",
   "metadata": {},
   "outputs": [],
   "source": [
    "X_text = list(data1[CODE])\n",
    "Y = list(valid_languages.index(y) for y in data1[LANG])"
   ]
  },
  {
   "cell_type": "code",
   "execution_count": 58,
   "id": "042ff93c",
   "metadata": {},
   "outputs": [],
   "source": [
    "X_text_train, X_text_testval, Y_text_train, Y_text_testval = train_test_split(X_text, Y, test_size=0.2, random_state=1)\n",
    "X_text_val, X_text_test, Y_text_val, Y_text_test = train_test_split(X_text_testval, Y_text_testval, test_size=0.5, random_state=1)"
   ]
  },
  {
   "cell_type": "code",
   "execution_count": 13,
   "id": "dc87bd96",
   "metadata": {},
   "outputs": [],
   "source": [
    "X_text_repo = list(repos_df[CODE])\n",
    "Y_repo = list(valid_languages.index(y) for y in repos_df[LANG])"
   ]
  },
  {
   "cell_type": "code",
   "execution_count": 14,
   "id": "d2d13883",
   "metadata": {},
   "outputs": [],
   "source": [
    "from sklearn.feature_extraction.text import TfidfVectorizer\n",
    "vectorizer = TfidfVectorizer(ngram_range=(1,1), stop_words=None, norm='l2')\n",
    "total_tfidf = vectorizer.fit_transform([x for x in X_text] + [x for x in X_text_repo])"
   ]
  },
  {
   "cell_type": "code",
   "execution_count": 15,
   "id": "c5a6c6ed",
   "metadata": {},
   "outputs": [
    {
     "data": {
      "text/plain": [
       "<1150x118681 sparse matrix of type '<class 'numpy.float64'>'\n",
       "\twith 221345 stored elements in Compressed Sparse Row format>"
      ]
     },
     "execution_count": 15,
     "metadata": {},
     "output_type": "execute_result"
    }
   ],
   "source": [
    "total_tfidf"
   ]
  },
  {
   "cell_type": "code",
   "execution_count": 16,
   "id": "e5386a12",
   "metadata": {},
   "outputs": [],
   "source": [
    "X_tfidf = total_tfidf[:1000]"
   ]
  },
  {
   "cell_type": "code",
   "execution_count": 17,
   "id": "e6446e2f",
   "metadata": {},
   "outputs": [],
   "source": [
    "from sklearn.model_selection import train_test_split\n",
    "X_train, X_testval, Y_train, Y_testval = train_test_split(X_tfidf, Y, test_size=0.2, random_state=1)\n",
    "X_val, X_test, Y_val, Y_test = train_test_split(X_testval, Y_testval, test_size=0.5, random_state=1)"
   ]
  },
  {
   "cell_type": "markdown",
   "id": "e6797710",
   "metadata": {},
   "source": [
    "## Classification"
   ]
  },
  {
   "cell_type": "code",
   "execution_count": 18,
   "id": "866895b6",
   "metadata": {},
   "outputs": [],
   "source": [
    "from sklearn.linear_model import LogisticRegression\n",
    "clf = LogisticRegression(random_state=0).fit(X_train, Y_train)"
   ]
  },
  {
   "cell_type": "code",
   "execution_count": 19,
   "id": "0e1762a4",
   "metadata": {},
   "outputs": [],
   "source": [
    "Y_predict = clf.predict(X_test)"
   ]
  },
  {
   "cell_type": "markdown",
   "id": "4299f052",
   "metadata": {},
   "source": [
    "## Calculate f1 score"
   ]
  },
  {
   "cell_type": "code",
   "execution_count": 20,
   "id": "2fc36374",
   "metadata": {},
   "outputs": [],
   "source": [
    "from sklearn.metrics import f1_score"
   ]
  },
  {
   "cell_type": "code",
   "execution_count": 21,
   "id": "76913567",
   "metadata": {},
   "outputs": [
    {
     "data": {
      "text/plain": [
       "0.9571428571428571"
      ]
     },
     "execution_count": 21,
     "metadata": {},
     "output_type": "execute_result"
    }
   ],
   "source": [
    "f1_score(Y_test, Y_predict, average='macro')"
   ]
  },
  {
   "cell_type": "code",
   "execution_count": 22,
   "id": "6c639d27",
   "metadata": {},
   "outputs": [
    {
     "data": {
      "text/plain": [
       "0.96"
      ]
     },
     "execution_count": 22,
     "metadata": {},
     "output_type": "execute_result"
    }
   ],
   "source": [
    "f1_score(Y_test, Y_predict, average='micro')"
   ]
  },
  {
   "cell_type": "markdown",
   "id": "c473022a",
   "metadata": {},
   "source": [
    "As you see our f1-score both in macro case and micro case is more than 0.95"
   ]
  },
  {
   "cell_type": "markdown",
   "id": "1ce28826",
   "metadata": {},
   "source": [
    "## Visualize"
   ]
  },
  {
   "cell_type": "code",
   "execution_count": 23,
   "id": "a194edd2",
   "metadata": {},
   "outputs": [],
   "source": [
    "from yellowbrick.text import TSNEVisualizer\n",
    "\n",
    "def plotted_scatter(vectorized_data, label):\n",
    "    tsne = TSNEVisualizer()\n",
    "    tsne.fit(vectorized_data, label)\n",
    "    tsne.show()"
   ]
  },
  {
   "cell_type": "markdown",
   "id": "40f8fdfb",
   "metadata": {},
   "source": [
    "Here we will visualize our results for 900 codes of Java, Python, C++, Shell, and Go."
   ]
  },
  {
   "cell_type": "code",
   "execution_count": 24,
   "id": "c2565776",
   "metadata": {},
   "outputs": [
    {
     "name": "stderr",
     "output_type": "stream",
     "text": [
      "/usr/local/Cellar/ipython/8.4.0/libexec/lib/python3.10/site-packages/sklearn/manifold/_t_sne.py:795: FutureWarning: The default initialization in TSNE will change from 'random' to 'pca' in 1.2.\n",
      "  warnings.warn(\n",
      "/usr/local/Cellar/ipython/8.4.0/libexec/lib/python3.10/site-packages/sklearn/manifold/_t_sne.py:805: FutureWarning: The default learning rate in TSNE will change from 200.0 to 'auto' in 1.2.\n",
      "  warnings.warn(\n",
      "*c* argument looks like a single numeric RGB or RGBA sequence, which should be avoided as value-mapping will have precedence in case its length matches with *x* & *y*.  Please use the *color* keyword-argument or provide a 2D array with a single row if you intend to specify the same RGB or RGBA value for all points.\n",
      "*c* argument looks like a single numeric RGB or RGBA sequence, which should be avoided as value-mapping will have precedence in case its length matches with *x* & *y*.  Please use the *color* keyword-argument or provide a 2D array with a single row if you intend to specify the same RGB or RGBA value for all points.\n",
      "*c* argument looks like a single numeric RGB or RGBA sequence, which should be avoided as value-mapping will have precedence in case its length matches with *x* & *y*.  Please use the *color* keyword-argument or provide a 2D array with a single row if you intend to specify the same RGB or RGBA value for all points.\n",
      "*c* argument looks like a single numeric RGB or RGBA sequence, which should be avoided as value-mapping will have precedence in case its length matches with *x* & *y*.  Please use the *color* keyword-argument or provide a 2D array with a single row if you intend to specify the same RGB or RGBA value for all points.\n",
      "*c* argument looks like a single numeric RGB or RGBA sequence, which should be avoided as value-mapping will have precedence in case its length matches with *x* & *y*.  Please use the *color* keyword-argument or provide a 2D array with a single row if you intend to specify the same RGB or RGBA value for all points.\n"
     ]
    },
    {
     "data": {
      "image/png": "[encoded data removed]",
      "text/plain": [
       "<Figure size 432x288 with 1 Axes>"
      ]
     },
     "metadata": {},
     "output_type": "display_data"
    }
   ],
   "source": [
    "Y_predict = clf.predict(X_tfidf)\n",
    "plotted_scatter(X_tfidf[:900], Y_predict[:900])"
   ]
  },
  {
   "cell_type": "markdown",
   "id": "ba2b3f96",
   "metadata": {},
   "source": [
    "As you see these 4 languages has been separated in the picture successfully. Only C++ and Java are tied together, which makes sense considering the similarity between these 2 languages."
   ]
  },
  {
   "cell_type": "markdown",
   "id": "4c5c4311",
   "metadata": {},
   "source": [
    "Now we will draw the results using the true labels."
   ]
  },
  {
   "cell_type": "code",
   "execution_count": 25,
   "id": "1c929192",
   "metadata": {
    "scrolled": false
   },
   "outputs": [
    {
     "name": "stderr",
     "output_type": "stream",
     "text": [
      "/usr/local/Cellar/ipython/8.4.0/libexec/lib/python3.10/site-packages/sklearn/manifold/_t_sne.py:795: FutureWarning: The default initialization in TSNE will change from 'random' to 'pca' in 1.2.\n",
      "  warnings.warn(\n",
      "/usr/local/Cellar/ipython/8.4.0/libexec/lib/python3.10/site-packages/sklearn/manifold/_t_sne.py:805: FutureWarning: The default learning rate in TSNE will change from 200.0 to 'auto' in 1.2.\n",
      "  warnings.warn(\n",
      "*c* argument looks like a single numeric RGB or RGBA sequence, which should be avoided as value-mapping will have precedence in case its length matches with *x* & *y*.  Please use the *color* keyword-argument or provide a 2D array with a single row if you intend to specify the same RGB or RGBA value for all points.\n",
      "*c* argument looks like a single numeric RGB or RGBA sequence, which should be avoided as value-mapping will have precedence in case its length matches with *x* & *y*.  Please use the *color* keyword-argument or provide a 2D array with a single row if you intend to specify the same RGB or RGBA value for all points.\n",
      "*c* argument looks like a single numeric RGB or RGBA sequence, which should be avoided as value-mapping will have precedence in case its length matches with *x* & *y*.  Please use the *color* keyword-argument or provide a 2D array with a single row if you intend to specify the same RGB or RGBA value for all points.\n",
      "*c* argument looks like a single numeric RGB or RGBA sequence, which should be avoided as value-mapping will have precedence in case its length matches with *x* & *y*.  Please use the *color* keyword-argument or provide a 2D array with a single row if you intend to specify the same RGB or RGBA value for all points.\n",
      "*c* argument looks like a single numeric RGB or RGBA sequence, which should be avoided as value-mapping will have precedence in case its length matches with *x* & *y*.  Please use the *color* keyword-argument or provide a 2D array with a single row if you intend to specify the same RGB or RGBA value for all points.\n"
     ]
    },
    {
     "data": {
      "image/png": "[encoded data removed]",
      "text/plain": [
       "<Figure size 432x288 with 1 Axes>"
      ]
     },
     "metadata": {},
     "output_type": "display_data"
    }
   ],
   "source": [
    "plotted_scatter(X_tfidf[:900], Y[:900])"
   ]
  },
  {
   "cell_type": "markdown",
   "id": "7cb864b5",
   "metadata": {},
   "source": [
    "We can easily see the similarity between these results and results we made."
   ]
  },
  {
   "cell_type": "markdown",
   "id": "a34636fb",
   "metadata": {},
   "source": [
    "## Visualize concatanated repo codes result"
   ]
  },
  {
   "cell_type": "markdown",
   "id": "b550acec",
   "metadata": {},
   "source": [
    "Here we will concatanate all the codes in any repository to predict what is the most used language in that repository"
   ]
  },
  {
   "cell_type": "code",
   "execution_count": 26,
   "id": "9d6c72b2",
   "metadata": {},
   "outputs": [],
   "source": [
    "X_tfidf_repo = total_tfidf[1000:]"
   ]
  },
  {
   "cell_type": "code",
   "execution_count": 27,
   "id": "5c6ec446",
   "metadata": {},
   "outputs": [
    {
     "name": "stderr",
     "output_type": "stream",
     "text": [
      "/usr/local/Cellar/ipython/8.4.0/libexec/lib/python3.10/site-packages/sklearn/manifold/_t_sne.py:795: FutureWarning: The default initialization in TSNE will change from 'random' to 'pca' in 1.2.\n",
      "  warnings.warn(\n",
      "/usr/local/Cellar/ipython/8.4.0/libexec/lib/python3.10/site-packages/sklearn/manifold/_t_sne.py:805: FutureWarning: The default learning rate in TSNE will change from 200.0 to 'auto' in 1.2.\n",
      "  warnings.warn(\n",
      "*c* argument looks like a single numeric RGB or RGBA sequence, which should be avoided as value-mapping will have precedence in case its length matches with *x* & *y*.  Please use the *color* keyword-argument or provide a 2D array with a single row if you intend to specify the same RGB or RGBA value for all points.\n",
      "*c* argument looks like a single numeric RGB or RGBA sequence, which should be avoided as value-mapping will have precedence in case its length matches with *x* & *y*.  Please use the *color* keyword-argument or provide a 2D array with a single row if you intend to specify the same RGB or RGBA value for all points.\n",
      "*c* argument looks like a single numeric RGB or RGBA sequence, which should be avoided as value-mapping will have precedence in case its length matches with *x* & *y*.  Please use the *color* keyword-argument or provide a 2D array with a single row if you intend to specify the same RGB or RGBA value for all points.\n",
      "*c* argument looks like a single numeric RGB or RGBA sequence, which should be avoided as value-mapping will have precedence in case its length matches with *x* & *y*.  Please use the *color* keyword-argument or provide a 2D array with a single row if you intend to specify the same RGB or RGBA value for all points.\n",
      "*c* argument looks like a single numeric RGB or RGBA sequence, which should be avoided as value-mapping will have precedence in case its length matches with *x* & *y*.  Please use the *color* keyword-argument or provide a 2D array with a single row if you intend to specify the same RGB or RGBA value for all points.\n"
     ]
    },
    {
     "data": {
      "image/png": "[encoded data removed]",
      "text/plain": [
       "<Figure size 432x288 with 1 Axes>"
      ]
     },
     "metadata": {},
     "output_type": "display_data"
    }
   ],
   "source": [
    "Y_predict_repo = clf.predict(X_tfidf_repo)\n",
    "plotted_scatter(X_tfidf_repo, Y_predict_repo)"
   ]
  },
  {
   "cell_type": "markdown",
   "id": "33697f64",
   "metadata": {},
   "source": [
    "Again we can see the similarity between visualization of our answer and the correct answer."
   ]
  },
  {
   "cell_type": "code",
   "execution_count": 28,
   "id": "020f8659",
   "metadata": {},
   "outputs": [
    {
     "name": "stderr",
     "output_type": "stream",
     "text": [
      "/usr/local/Cellar/ipython/8.4.0/libexec/lib/python3.10/site-packages/sklearn/manifold/_t_sne.py:795: FutureWarning: The default initialization in TSNE will change from 'random' to 'pca' in 1.2.\n",
      "  warnings.warn(\n",
      "/usr/local/Cellar/ipython/8.4.0/libexec/lib/python3.10/site-packages/sklearn/manifold/_t_sne.py:805: FutureWarning: The default learning rate in TSNE will change from 200.0 to 'auto' in 1.2.\n",
      "  warnings.warn(\n",
      "*c* argument looks like a single numeric RGB or RGBA sequence, which should be avoided as value-mapping will have precedence in case its length matches with *x* & *y*.  Please use the *color* keyword-argument or provide a 2D array with a single row if you intend to specify the same RGB or RGBA value for all points.\n",
      "*c* argument looks like a single numeric RGB or RGBA sequence, which should be avoided as value-mapping will have precedence in case its length matches with *x* & *y*.  Please use the *color* keyword-argument or provide a 2D array with a single row if you intend to specify the same RGB or RGBA value for all points.\n",
      "*c* argument looks like a single numeric RGB or RGBA sequence, which should be avoided as value-mapping will have precedence in case its length matches with *x* & *y*.  Please use the *color* keyword-argument or provide a 2D array with a single row if you intend to specify the same RGB or RGBA value for all points.\n",
      "*c* argument looks like a single numeric RGB or RGBA sequence, which should be avoided as value-mapping will have precedence in case its length matches with *x* & *y*.  Please use the *color* keyword-argument or provide a 2D array with a single row if you intend to specify the same RGB or RGBA value for all points.\n",
      "*c* argument looks like a single numeric RGB or RGBA sequence, which should be avoided as value-mapping will have precedence in case its length matches with *x* & *y*.  Please use the *color* keyword-argument or provide a 2D array with a single row if you intend to specify the same RGB or RGBA value for all points.\n"
     ]
    },
    {
     "data": {
      "image/png": "[encoded data removed]",
      "text/plain": [
       "<Figure size 432x288 with 1 Axes>"
      ]
     },
     "metadata": {},
     "output_type": "display_data"
    }
   ],
   "source": [
    "plotted_scatter(X_tfidf_repo, Y_repo)"
   ]
  },
  {
   "cell_type": "markdown",
   "id": "0acbd2a8",
   "metadata": {},
   "source": [
    "## Transformer"
   ]
  },
  {
   "cell_type": "code",
   "execution_count": 30,
   "id": "f20ed195",
   "metadata": {},
   "outputs": [
    {
     "ename": "TypeError",
     "evalue": "unhashable type: 'csr_matrix'",
     "output_type": "error",
     "traceback": [
      "\u001b[0;31m---------------------------------------------------------------------------\u001b[0m",
      "\u001b[0;31mTypeError\u001b[0m                                 Traceback (most recent call last)",
      "Input \u001b[0;32mIn [30]\u001b[0m, in \u001b[0;36m<cell line: 1>\u001b[0;34m()\u001b[0m\n\u001b[0;32m----> 1\u001b[0m w2v_model \u001b[38;5;241m=\u001b[39m \u001b[43mgensim\u001b[49m\u001b[38;5;241;43m.\u001b[39;49m\u001b[43mmodels\u001b[49m\u001b[38;5;241;43m.\u001b[39;49m\u001b[43mWord2Vec\u001b[49m\u001b[43m(\u001b[49m\u001b[43mX_train\u001b[49m\u001b[43m,\u001b[49m\n\u001b[1;32m      2\u001b[0m \u001b[43m                                   \u001b[49m\u001b[43mvector_size\u001b[49m\u001b[38;5;241;43m=\u001b[39;49m\u001b[38;5;241;43m100\u001b[39;49m\u001b[43m,\u001b[49m\n\u001b[1;32m      3\u001b[0m \u001b[43m                                   \u001b[49m\u001b[43mwindow\u001b[49m\u001b[38;5;241;43m=\u001b[39;49m\u001b[38;5;241;43m5\u001b[39;49m\u001b[43m,\u001b[49m\n\u001b[1;32m      4\u001b[0m \u001b[43m                                   \u001b[49m\u001b[43mmin_count\u001b[49m\u001b[38;5;241;43m=\u001b[39;49m\u001b[38;5;241;43m2\u001b[39;49m\u001b[43m)\u001b[49m\n",
      "File \u001b[0;32m/usr/local/Cellar/ipython/8.4.0/libexec/lib/python3.10/site-packages/gensim/models/word2vec.py:426\u001b[0m, in \u001b[0;36mWord2Vec.__init__\u001b[0;34m(self, sentences, corpus_file, vector_size, alpha, window, min_count, max_vocab_size, sample, seed, workers, min_alpha, sg, hs, negative, ns_exponent, cbow_mean, hashfxn, epochs, null_word, trim_rule, sorted_vocab, batch_words, compute_loss, callbacks, comment, max_final_vocab, shrink_windows)\u001b[0m\n\u001b[1;32m    424\u001b[0m \u001b[38;5;28;01mif\u001b[39;00m corpus_iterable \u001b[38;5;129;01mis\u001b[39;00m \u001b[38;5;129;01mnot\u001b[39;00m \u001b[38;5;28;01mNone\u001b[39;00m \u001b[38;5;129;01mor\u001b[39;00m corpus_file \u001b[38;5;129;01mis\u001b[39;00m \u001b[38;5;129;01mnot\u001b[39;00m \u001b[38;5;28;01mNone\u001b[39;00m:\n\u001b[1;32m    425\u001b[0m     \u001b[38;5;28mself\u001b[39m\u001b[38;5;241m.\u001b[39m_check_corpus_sanity(corpus_iterable\u001b[38;5;241m=\u001b[39mcorpus_iterable, corpus_file\u001b[38;5;241m=\u001b[39mcorpus_file, passes\u001b[38;5;241m=\u001b[39m(epochs \u001b[38;5;241m+\u001b[39m \u001b[38;5;241m1\u001b[39m))\n\u001b[0;32m--> 426\u001b[0m     \u001b[38;5;28;43mself\u001b[39;49m\u001b[38;5;241;43m.\u001b[39;49m\u001b[43mbuild_vocab\u001b[49m\u001b[43m(\u001b[49m\u001b[43mcorpus_iterable\u001b[49m\u001b[38;5;241;43m=\u001b[39;49m\u001b[43mcorpus_iterable\u001b[49m\u001b[43m,\u001b[49m\u001b[43m \u001b[49m\u001b[43mcorpus_file\u001b[49m\u001b[38;5;241;43m=\u001b[39;49m\u001b[43mcorpus_file\u001b[49m\u001b[43m,\u001b[49m\u001b[43m \u001b[49m\u001b[43mtrim_rule\u001b[49m\u001b[38;5;241;43m=\u001b[39;49m\u001b[43mtrim_rule\u001b[49m\u001b[43m)\u001b[49m\n\u001b[1;32m    427\u001b[0m     \u001b[38;5;28mself\u001b[39m\u001b[38;5;241m.\u001b[39mtrain(\n\u001b[1;32m    428\u001b[0m         corpus_iterable\u001b[38;5;241m=\u001b[39mcorpus_iterable, corpus_file\u001b[38;5;241m=\u001b[39mcorpus_file, total_examples\u001b[38;5;241m=\u001b[39m\u001b[38;5;28mself\u001b[39m\u001b[38;5;241m.\u001b[39mcorpus_count,\n\u001b[1;32m    429\u001b[0m         total_words\u001b[38;5;241m=\u001b[39m\u001b[38;5;28mself\u001b[39m\u001b[38;5;241m.\u001b[39mcorpus_total_words, epochs\u001b[38;5;241m=\u001b[39m\u001b[38;5;28mself\u001b[39m\u001b[38;5;241m.\u001b[39mepochs, start_alpha\u001b[38;5;241m=\u001b[39m\u001b[38;5;28mself\u001b[39m\u001b[38;5;241m.\u001b[39malpha,\n\u001b[1;32m    430\u001b[0m         end_alpha\u001b[38;5;241m=\u001b[39m\u001b[38;5;28mself\u001b[39m\u001b[38;5;241m.\u001b[39mmin_alpha, compute_loss\u001b[38;5;241m=\u001b[39m\u001b[38;5;28mself\u001b[39m\u001b[38;5;241m.\u001b[39mcompute_loss, callbacks\u001b[38;5;241m=\u001b[39mcallbacks)\n\u001b[1;32m    431\u001b[0m \u001b[38;5;28;01melse\u001b[39;00m:\n",
      "File \u001b[0;32m/usr/local/Cellar/ipython/8.4.0/libexec/lib/python3.10/site-packages/gensim/models/word2vec.py:488\u001b[0m, in \u001b[0;36mWord2Vec.build_vocab\u001b[0;34m(self, corpus_iterable, corpus_file, update, progress_per, keep_raw_vocab, trim_rule, **kwargs)\u001b[0m\n\u001b[1;32m    450\u001b[0m \u001b[38;5;124;03m\"\"\"Build vocabulary from a sequence of sentences (can be a once-only generator stream).\u001b[39;00m\n\u001b[1;32m    451\u001b[0m \n\u001b[1;32m    452\u001b[0m \u001b[38;5;124;03mParameters\u001b[39;00m\n\u001b[0;32m   (...)\u001b[0m\n\u001b[1;32m    485\u001b[0m \n\u001b[1;32m    486\u001b[0m \u001b[38;5;124;03m\"\"\"\u001b[39;00m\n\u001b[1;32m    487\u001b[0m \u001b[38;5;28mself\u001b[39m\u001b[38;5;241m.\u001b[39m_check_corpus_sanity(corpus_iterable\u001b[38;5;241m=\u001b[39mcorpus_iterable, corpus_file\u001b[38;5;241m=\u001b[39mcorpus_file, passes\u001b[38;5;241m=\u001b[39m\u001b[38;5;241m1\u001b[39m)\n\u001b[0;32m--> 488\u001b[0m total_words, corpus_count \u001b[38;5;241m=\u001b[39m \u001b[38;5;28;43mself\u001b[39;49m\u001b[38;5;241;43m.\u001b[39;49m\u001b[43mscan_vocab\u001b[49m\u001b[43m(\u001b[49m\n\u001b[1;32m    489\u001b[0m \u001b[43m    \u001b[49m\u001b[43mcorpus_iterable\u001b[49m\u001b[38;5;241;43m=\u001b[39;49m\u001b[43mcorpus_iterable\u001b[49m\u001b[43m,\u001b[49m\u001b[43m \u001b[49m\u001b[43mcorpus_file\u001b[49m\u001b[38;5;241;43m=\u001b[39;49m\u001b[43mcorpus_file\u001b[49m\u001b[43m,\u001b[49m\u001b[43m \u001b[49m\u001b[43mprogress_per\u001b[49m\u001b[38;5;241;43m=\u001b[39;49m\u001b[43mprogress_per\u001b[49m\u001b[43m,\u001b[49m\u001b[43m \u001b[49m\u001b[43mtrim_rule\u001b[49m\u001b[38;5;241;43m=\u001b[39;49m\u001b[43mtrim_rule\u001b[49m\u001b[43m)\u001b[49m\n\u001b[1;32m    490\u001b[0m \u001b[38;5;28mself\u001b[39m\u001b[38;5;241m.\u001b[39mcorpus_count \u001b[38;5;241m=\u001b[39m corpus_count\n\u001b[1;32m    491\u001b[0m \u001b[38;5;28mself\u001b[39m\u001b[38;5;241m.\u001b[39mcorpus_total_words \u001b[38;5;241m=\u001b[39m total_words\n",
      "File \u001b[0;32m/usr/local/Cellar/ipython/8.4.0/libexec/lib/python3.10/site-packages/gensim/models/word2vec.py:583\u001b[0m, in \u001b[0;36mWord2Vec.scan_vocab\u001b[0;34m(self, corpus_iterable, corpus_file, progress_per, workers, trim_rule)\u001b[0m\n\u001b[1;32m    580\u001b[0m \u001b[38;5;28;01mif\u001b[39;00m corpus_file:\n\u001b[1;32m    581\u001b[0m     corpus_iterable \u001b[38;5;241m=\u001b[39m LineSentence(corpus_file)\n\u001b[0;32m--> 583\u001b[0m total_words, corpus_count \u001b[38;5;241m=\u001b[39m \u001b[38;5;28;43mself\u001b[39;49m\u001b[38;5;241;43m.\u001b[39;49m\u001b[43m_scan_vocab\u001b[49m\u001b[43m(\u001b[49m\u001b[43mcorpus_iterable\u001b[49m\u001b[43m,\u001b[49m\u001b[43m \u001b[49m\u001b[43mprogress_per\u001b[49m\u001b[43m,\u001b[49m\u001b[43m \u001b[49m\u001b[43mtrim_rule\u001b[49m\u001b[43m)\u001b[49m\n\u001b[1;32m    585\u001b[0m logger\u001b[38;5;241m.\u001b[39minfo(\n\u001b[1;32m    586\u001b[0m     \u001b[38;5;124m\"\u001b[39m\u001b[38;5;124mcollected \u001b[39m\u001b[38;5;132;01m%i\u001b[39;00m\u001b[38;5;124m word types from a corpus of \u001b[39m\u001b[38;5;132;01m%i\u001b[39;00m\u001b[38;5;124m raw words and \u001b[39m\u001b[38;5;132;01m%i\u001b[39;00m\u001b[38;5;124m sentences\u001b[39m\u001b[38;5;124m\"\u001b[39m,\n\u001b[1;32m    587\u001b[0m     \u001b[38;5;28mlen\u001b[39m(\u001b[38;5;28mself\u001b[39m\u001b[38;5;241m.\u001b[39mraw_vocab), total_words, corpus_count\n\u001b[1;32m    588\u001b[0m )\n\u001b[1;32m    590\u001b[0m \u001b[38;5;28;01mreturn\u001b[39;00m total_words, corpus_count\n",
      "File \u001b[0;32m/usr/local/Cellar/ipython/8.4.0/libexec/lib/python3.10/site-packages/gensim/models/word2vec.py:567\u001b[0m, in \u001b[0;36mWord2Vec._scan_vocab\u001b[0;34m(self, sentences, progress_per, trim_rule)\u001b[0m\n\u001b[1;32m    562\u001b[0m     logger\u001b[38;5;241m.\u001b[39minfo(\n\u001b[1;32m    563\u001b[0m         \u001b[38;5;124m\"\u001b[39m\u001b[38;5;124mPROGRESS: at sentence #\u001b[39m\u001b[38;5;132;01m%i\u001b[39;00m\u001b[38;5;124m, processed \u001b[39m\u001b[38;5;132;01m%i\u001b[39;00m\u001b[38;5;124m words, keeping \u001b[39m\u001b[38;5;132;01m%i\u001b[39;00m\u001b[38;5;124m word types\u001b[39m\u001b[38;5;124m\"\u001b[39m,\n\u001b[1;32m    564\u001b[0m         sentence_no, total_words, \u001b[38;5;28mlen\u001b[39m(vocab),\n\u001b[1;32m    565\u001b[0m     )\n\u001b[1;32m    566\u001b[0m \u001b[38;5;28;01mfor\u001b[39;00m word \u001b[38;5;129;01min\u001b[39;00m sentence:\n\u001b[0;32m--> 567\u001b[0m     vocab[word] \u001b[38;5;241m+\u001b[39m\u001b[38;5;241m=\u001b[39m \u001b[38;5;241m1\u001b[39m\n\u001b[1;32m    568\u001b[0m total_words \u001b[38;5;241m+\u001b[39m\u001b[38;5;241m=\u001b[39m \u001b[38;5;28mlen\u001b[39m(sentence)\n\u001b[1;32m    570\u001b[0m \u001b[38;5;28;01mif\u001b[39;00m \u001b[38;5;28mself\u001b[39m\u001b[38;5;241m.\u001b[39mmax_vocab_size \u001b[38;5;129;01mand\u001b[39;00m \u001b[38;5;28mlen\u001b[39m(vocab) \u001b[38;5;241m>\u001b[39m \u001b[38;5;28mself\u001b[39m\u001b[38;5;241m.\u001b[39mmax_vocab_size:\n",
      "\u001b[0;31mTypeError\u001b[0m: unhashable type: 'csr_matrix'"
     ]
    }
   ],
   "source": [
    "w2v_model = gensim.models.Word2Vec(X_train,\n",
    "                                   vector_size=100,\n",
    "                                   window=5,\n",
    "                                   min_count=2)"
   ]
  },
  {
   "cell_type": "code",
   "execution_count": 33,
   "id": "63826ea6",
   "metadata": {},
   "outputs": [],
   "source": [
    "#!pip install tensorflow-text"
   ]
  },
  {
   "cell_type": "code",
   "execution_count": 42,
   "id": "ef01d113",
   "metadata": {},
   "outputs": [],
   "source": [
    "import tensorflow as tf\n",
    "import tensorflow_hub as hub\n",
    "import tensorflow_text as text\n",
    "\n",
    "bert_preprocess = hub.KerasLayer(\"https://tfhub.dev/tensorflow/bert_en_uncased_preprocess/3\")\n",
    "bert_encoder = hub.KerasLayer(\"https://tfhub.dev/tensorflow/bert_en_uncased_L-12_H-768_A-12/4\")\n",
    "# Bert layers\n",
    "text_input = tf.keras.layers.Input(shape=(), dtype=tf.string, name='text')\n",
    "preprocessed_text = bert_preprocess(text_input)\n",
    "outputs = bert_encoder(preprocessed_text)\n",
    "# Neural network layers\n",
    "l = tf.keras.layers.Dropout(0.1, name=\"dropout\")(outputs['pooled_output'])\n",
    "l = tf.keras.layers.Dense(1, activation='sigmoid', name=\"output\")(l)\n",
    "# Use inputs and outputs to construct a final model\n",
    "model = tf.keras.Model(inputs=[text_input], outputs = [l])\n",
    "model.compile(optimizer='adam', loss='binary_crossentropy', metrics=['accuracy'])"
   ]
  },
  {
   "cell_type": "code",
   "execution_count": 57,
   "id": "34628f6c",
   "metadata": {},
   "outputs": [
    {
     "name": "stdout",
     "output_type": "stream",
     "text": [
      "Epoch 1/7\n",
      "32/32 [==============================] - 203s 6s/step - loss: -4.1517 - accuracy: 0.1990\n",
      "Epoch 2/7\n",
      "32/32 [==============================] - 188s 6s/step - loss: -10.0948 - accuracy: 0.2000\n",
      "Epoch 3/7\n",
      "32/32 [==============================] - 180s 6s/step - loss: -15.9580 - accuracy: 0.2000\n",
      "Epoch 4/7\n",
      "32/32 [==============================] - 200s 6s/step - loss: -21.9086 - accuracy: 0.2000\n",
      "Epoch 5/7\n",
      "32/32 [==============================] - 187s 6s/step - loss: -27.8593 - accuracy: 0.2000\n",
      "Epoch 6/7\n",
      "32/32 [==============================] - 187s 6s/step - loss: -34.1415 - accuracy: 0.2000\n",
      "Epoch 7/7\n",
      "32/32 [==============================] - 205s 6s/step - loss: -40.2024 - accuracy: 0.2000\n"
     ]
    },
    {
     "data": {
      "text/plain": [
       "<keras.callbacks.History at 0x14f85d9c0>"
      ]
     },
     "execution_count": 57,
     "metadata": {},
     "output_type": "execute_result"
    }
   ],
   "source": [
    "X_train_arr = np.asarray(X_text_train)\n",
    "Y_train_arr = np.asarray(Y_text_train)\n",
    "model.fit(X_train_arr, Y_train_arr, epochs=7, batch_size = 32)"
   ]
  },
  {
   "cell_type": "code",
   "execution_count": 61,
   "id": "97cf4ecc",
   "metadata": {},
   "outputs": [
    {
     "name": "stdout",
     "output_type": "stream",
     "text": [
      "4/4 [==============================] - 14s 3s/step\n",
      "[1.         1.         1.         1.         1.         1.\n",
      " 1.         1.         1.         1.         1.         1.\n",
      " 1.         1.         1.         1.         1.         1.\n",
      " 1.         1.         1.         1.         1.         1.\n",
      " 1.         1.         1.         1.         1.         1.\n",
      " 1.         1.         1.         1.         1.         1.\n",
      " 1.         1.         1.         1.         1.         1.\n",
      " 1.         1.         1.         1.         1.         1.\n",
      " 1.         1.         1.         1.         1.         1.\n",
      " 1.         1.         1.         1.         1.         1.\n",
      " 1.         1.         1.         1.         1.         1.\n",
      " 1.         1.         1.         1.         1.         1.\n",
      " 1.         1.         1.         1.         1.         1.\n",
      " 1.         0.99999994 1.         1.         1.         1.\n",
      " 1.         1.         1.         1.         1.         1.\n",
      " 1.         1.         1.         1.         1.         1.\n",
      " 1.         1.         1.         1.        ]\n"
     ]
    }
   ],
   "source": [
    "y_predicted = model.predict(X_text_test)\n",
    "y_predicted = y_predicted.flatten()\n",
    "print(y_predicted)"
   ]
  },
  {
   "cell_type": "markdown",
   "id": "dd285fe5",
   "metadata": {},
   "source": [
    "## Technical Report"
   ]
  },
  {
   "cell_type": "markdown",
   "id": "89f400e7",
   "metadata": {},
   "source": [
    "<div dir = \"rtl\">\n",
    "    در این پروژه تمام کد‌های ریپازیتوری‌های crawl شده را در نظر گرفتیم و با استفاده از TfidfVectorizer برای تمام کد ها بردار متناظرشان را بدست آوردیم.\n",
    "    سپس با استفاده از sklearn و با دانستن زبان هر کد (که لیبل اصلی آن محسوب می‌شود) روی این داده‌ها کار training را انجام دادیم.\n",
    "    با استفاده از مدل بدست آورده زبان تمام کد‌هایی که برای بخش test گذاشتیم را پیش‌بینی کرده و مشاهده کردیم که بالای ۹۵٪ پاسخ‌ها صحیح هستند.\n",
    "    برای هر ریپازیتوری نیز برای آنکه زبانی که بیشترین میزان استفاده شده را تخمین بزنیم تمام کد‌های آن را concat کردیم و روی حاصل prediction را انجام دادیم.\n",
    "    در نهایت نتایج بدست آمده را روی نمودار رسم کردیم.\n",
    "</div>"
   ]
  },
  {
   "cell_type": "markdown",
   "id": "8e8fc1bb",
   "metadata": {},
   "source": [
    "<div dir = \"rtl\">\n",
    "    تمام توضیحات چگونگی crawling و دیگر مواردی که در بخش clustring نیز انجام شده‌اند در notebook مخصوص clustering قابل مشاهده است.\n",
    "</div>"
   ]
  }
 ],
 "metadata": {
  "kernelspec": {
   "display_name": "Python 3 (ipykernel)",
   "language": "python",
   "name": "python3"
  },
  "language_info": {
   "codemirror_mode": {
    "name": "ipython",
    "version": 3
   },
   "file_extension": ".py",
   "mimetype": "text/x-python",
   "name": "python",
   "nbconvert_exporter": "python",
   "pygments_lexer": "ipython3",
   "version": "3.10.5"
  }
 },
 "nbformat": 4,
 "nbformat_minor": 5
}
