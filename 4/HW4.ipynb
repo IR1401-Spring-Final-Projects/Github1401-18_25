{
 "cells": [
  {
   "cell_type": "markdown",
   "metadata": {
    "id": "WuAEg-skIoep"
   },
   "source": [
    "<div style=\"color:red;font-size:40px;\">\n",
    "<center>\n",
    "<font size=\"6\" >\n",
    "به نام خدا \n",
    "<br><br>\n",
    "<font size=\"5\" color=\"grey\" >\n",
    "<b>\n",
    "README\n",
    "خوشه بندی بر روی کدهای \n",
    "\n",
    "\n",
    "</b>\n",
    "<br>\n",
    "<font size=\"4\" color=\"black\">\n",
    "دانشجویان:\n",
    "<br>\n",
    " (98101339) سایه جارالهی \n",
    "<br>\n",
    " (98171104) بردیا محمدی \n",
    "<br>\n",
    "امیررضا سلیمان‌بیگی (98109837)\n",
    "<br>\n",
    "استاد: دکتر احسان‌الدین عسگری\n",
    "</center>\n",
    "<br>\n",
    "</div>"
   ]
  },
  {
   "cell_type": "code",
   "execution_count": 137,
   "metadata": {
    "id": "c3PQaW9b0IXv"
   },
   "outputs": [],
   "source": [
    "import numpy  as np\n",
    "import pandas as pd\n",
    "import json\n",
    "from sklearn.feature_extraction.text import TfidfVectorizer\n",
    "from sklearn.preprocessing import normalize\n",
    "from sklearn.cluster import KMeans\n",
    "from sklearn.metrics import accuracy_score\n",
    "from sklearn.manifold import TSNE\n",
    "import config \n",
    "import seaborn as sns\n",
    "import matplotlib.pyplot  as plt\n",
    "from pathlib import Path"
   ]
  },
  {
   "cell_type": "markdown",
   "metadata": {
    "id": "3RKlsFkXZ2no"
   },
   "source": [
    "## Crawling"
   ]
  },
  {
   "cell_type": "code",
   "execution_count": null,
   "metadata": {
    "id": "7XltOHAxa7VP"
   },
   "outputs": [],
   "source": [
    "from pathlib import Path\n",
    "import json\n",
    "import re\n",
    "import requests\n",
    "import base64\n",
    "import codecs\n",
    "import time\n",
    "import config\n",
    "\n",
    "\n",
    "def check_rate_limit(headers):\n",
    "\n",
    "    url = 'https://api.github.com/rate_limit'\n",
    "    response = requests.get(url, headers=headers)\n",
    "    result = response.json()\n",
    "    for key, value_out in result.items():\n",
    "        if key == 'rate' and value_out['remaining'] == 0:\n",
    "            return False\n",
    "        elif key == 'resources':\n",
    "            for _, value_in in value_out.items():\n",
    "                if value_in['remaining'] == 0:\n",
    "                    return False\n",
    "    return True\n",
    "\n",
    "\n",
    "def get_repos_dict(headers, language: str, min_size: str = '500', max_size: str = '5000', stars: str = '1000'):\n",
    "    url = 'https://api.github.com/search/repositories'\n",
    "    params = {\n",
    "        # in KB\n",
    "        'q': f'size:{min_size}..{max_size} stars:>={stars} is:public language:{language}',\n",
    "        'sort': 'stars',\n",
    "        'order': 'desc',\n",
    "        'per_page': 30,\n",
    "        'page': 1\n",
    "    }\n",
    "\n",
    "    response = requests.get(url, headers=headers, params=params)\n",
    "    if response.status_code != requests.codes.ok:\n",
    "        handle_error('Error in get_repos_dict', headers)\n",
    "        response = requests.get(url, headers=headers, params=params)\n",
    "    result = response.json()\n",
    "    repos_dict = []\n",
    "    for repo in result['items']:\n",
    "        repos_dict.append({\n",
    "            \"url\": repo[\"html_url\"],\n",
    "            \"content_url\": repo[\"contents_url\"][:-7],\n",
    "            \"dir_name\": re.sub('/', '_', repo[\"full_name\"]),\n",
    "            \"language\": repo[\"language\"]\n",
    "        })\n",
    "    return repos_dict\n",
    "\n",
    "\n",
    "def save_repos_files(token: str):\n",
    "\n",
    "    headers = {\n",
    "        'Accept': 'application/vnd.github.v3+json',\n",
    "        'Authorization': f'token {token}'\n",
    "    }\n",
    "\n",
    "    programming_languages = json.loads(\n",
    "        Path('programming_languages.json').read_text()\n",
    "    )\n",
    "\n",
    "    programming_languages_dict = {\n",
    "        language[\"format\"]: language[\"name\"] for language in programming_languages\n",
    "    }\n",
    "\n",
    "    repos_dict = []\n",
    "    for language in programming_languages:\n",
    "        if language[\"crawl\"]:\n",
    "            print(language)\n",
    "            repos_dict += get_repos_dict(\n",
    "                headers=headers,\n",
    "                language=language['name']\n",
    "            )\n",
    "\n",
    "    save_repos_content(headers, programming_languages_dict, repos_dict)\n",
    "    Path('repos_dict.json').write_text(json.dumps(repos_dict))\n",
    "\n",
    "\n",
    "def save_repos_content(headers, programming_languages_dict, repos_dict):\n",
    "    data_path = Path('data')\n",
    "    if data_path.exists():\n",
    "        data_path.rmdir()\n",
    "    data_path.mkdir()\n",
    "\n",
    "    for repo in repos_dict:\n",
    "        repo_path = Path(data_path.name) / repo[\"dir_name\"]\n",
    "        repo_path.mkdir()\n",
    "\n",
    "        response = requests.get(repo[\"content_url\"], headers=headers)\n",
    "        if response.status_code != requests.codes.ok:\n",
    "            handle_error('Error in save_repos_content', headers)\n",
    "            response = requests.get(repo[\"content_url\"], headers=headers)\n",
    "        content = response.json()\n",
    "\n",
    "        start_time = time.time()\n",
    "        files_url = get_repo_files_url(\n",
    "            headers,\n",
    "            content,\n",
    "            programming_languages_dict,\n",
    "            start_time\n",
    "        )\n",
    "        repo[\"files_url\"] = files_url\n",
    "\n",
    "        for file in files_url:\n",
    "            save_file(headers, file, repo_path)\n",
    "\n",
    "\n",
    "def get_repo_files_url(headers, content, programming_languages_dict, start_time, root_name=''):\n",
    "\n",
    "    if time.time() - start_time > 120:\n",
    "        return []\n",
    "\n",
    "    files_url = []\n",
    "    for item in content:\n",
    "        name = item[\"name\"]\n",
    "        if item[\"type\"] == \"file\" and re.match('^.*\\..+$', name):\n",
    "            format = re.search('^.*\\.(.+?)$', name).group(1)\n",
    "            if format in programming_languages_dict:\n",
    "                files_url.append({\n",
    "                    \"url\": item[\"url\"],\n",
    "                    \"name\": f'{root_name}.{name}' if root_name != '' else name,\n",
    "                    \"language\": programming_languages_dict[format]\n",
    "                })\n",
    "\n",
    "        elif item[\"type\"] == \"dir\":\n",
    "            response = requests.get(item[\"url\"], headers=headers)\n",
    "            if response.status_code != requests.codes.ok:\n",
    "                handle_error('Error in get_repo_files_url', headers)\n",
    "                response = requests.get(item[\"url\"], headers=headers)\n",
    "            files_url += get_repo_files_url(\n",
    "                headers,\n",
    "                response.json(),\n",
    "                programming_languages_dict,\n",
    "                start_time,\n",
    "                root_name=f'{root_name}.{name}' if root_name != '' else name\n",
    "            )\n",
    "\n",
    "    return files_url\n",
    "\n",
    "\n",
    "def save_file(headers, file, repo_path):\n",
    "\n",
    "    response = requests.get(file[\"url\"], headers=headers)\n",
    "    if response.status_code != requests.codes.ok:\n",
    "        handle_error('Error in save_file', headers)\n",
    "        response = requests.get(file[\"url\"], headers=headers)\n",
    "    result = response.json()\n",
    "\n",
    "    if result[\"encoding\"] != \"base64\":\n",
    "        print(\"Error, encoding is not base64, url: {url}\".format(\n",
    "            url=file[\"url\"]))\n",
    "        decoded_content = result[\"content\"]\n",
    "    else:\n",
    "        content = base64.b64decode(result[\"content\"])\n",
    "        decoded_content = codecs.decode(content)\n",
    "\n",
    "    language_path = Path(str(repo_path)) / file[\"language\"]\n",
    "    if not language_path.exists():\n",
    "        language_path.mkdir()\n",
    "\n",
    "    file_path = Path(str(language_path)) / f'{file[\"name\"]}.txt'\n",
    "    file_path.write_text(decoded_content)\n",
    "\n",
    "\n",
    "def handle_error(error_message: str, headers):\n",
    "    print(error_message)\n",
    "    while True:\n",
    "        time.sleep(60)\n",
    "        if check_rate_limit(headers):\n",
    "            break"
   ]
  },
  {
   "cell_type": "code",
   "execution_count": null,
   "metadata": {
    "id": "UP_9ih_vddLv"
   },
   "outputs": [],
   "source": [
    "save_repos_files(token=config.token)"
   ]
  },
  {
   "cell_type": "markdown",
   "metadata": {
    "id": "qareWpDpvUtG"
   },
   "source": [
    "## Preprocess"
   ]
  },
  {
   "cell_type": "code",
   "execution_count": null,
   "metadata": {
    "id": "psTbXMJevSL_"
   },
   "outputs": [],
   "source": [
    "import json\n",
    "import re\n",
    "from pathlib import Path\n",
    "\n",
    "\n",
    "def remove_multi_line_comments(string: str) -> str:\n",
    "\n",
    "    # ruby comments\n",
    "    multi_line_ruby_regex = re.compile(\n",
    "        r'''(\n",
    "        (?<=\\n=begin).*?(?=\\n=end\\s*\\n) |\n",
    "        (?<=^=begin).*?(?=\\n=end\\s*\\n) |\n",
    "        (?<=\\n=begin).*?(?=\\n=end$) |\n",
    "        (?<=^=begin).*?(?=\\n=end$)\n",
    "        )''',\n",
    "        flags=re.DOTALL | re.VERBOSE | re.MULTILINE\n",
    "    )\n",
    "    string = multi_line_ruby_regex.sub('\\n', string)\n",
    "\n",
    "    # Python comments\n",
    "    multi_line_python_regex = re.compile(\n",
    "        r'''(\n",
    "            (?<=\\n)\\'{3}.*?\\'{3}(?=\\s*\\n) |\n",
    "            (?<=^)\\'{3}.*?\\'{3}(?=\\s*\\n) |\n",
    "            (?<=\\n)\\'{3}.*?\\'{3}(?=$) |\n",
    "            (?<=^)\\'{3}.*?\\'{3}(?=$) |\n",
    "            (?<=\\n)\\\"{3}.*?\\\"{3}(?=\\s*\\n) |\n",
    "            (?<=^)\\\"{3}.*?\\\"{3}(?=\\s*\\n) |\n",
    "            (?<=\\n)\\\"{3}.*?\\\"{3}(?=$) |\n",
    "            (?<=^)\\\"{3}.*?\\\"{3}(?=$)\n",
    "        )''',\n",
    "        flags=re.DOTALL | re.VERBOSE | re.MULTILINE\n",
    "    )\n",
    "    string = multi_line_python_regex.sub('\\''*6, string)\n",
    "\n",
    "    multi_line_comment_regex = re.compile(\n",
    "        r'''(\n",
    "        (?<=\\n/\\*).*?(?=\\*/\\s*\\n) |\n",
    "        (?<=^/\\*).*?(?=\\*/\\s*\\n) |\n",
    "        (?<=\\n/\\*).*?(?=\\*/$) |\n",
    "        (?<=^/\\*).*?(?=\\*/$)\n",
    "        )''',\n",
    "        flags=re.DOTALL | re.VERBOSE | re.MULTILINE\n",
    "    )\n",
    "    string = multi_line_comment_regex.sub('', string)\n",
    "\n",
    "    return string\n",
    "\n",
    "\n",
    "def remove_inline_comments(string: str) -> str:\n",
    "    inline_regex = re.compile(\n",
    "        r'''(\n",
    "            (?<=//).+ | # comments like: // This is a comment\n",
    "            (?<=\\#).+ # comments like: # This is a comment\n",
    "        )''',\n",
    "        flags=re.VERBOSE\n",
    "    )\n",
    "    return inline_regex.sub('', string)\n",
    "\n",
    "\n",
    "def replace_numbers(string: str) -> str:\n",
    "    num_regex = re.compile(\n",
    "        r'''(\n",
    "            (?<!\\w)\\d+(\\.\\d*)?\n",
    "        )''',\n",
    "        flags=re.VERBOSE\n",
    "    )\n",
    "    # return num_regex.findall(string)\n",
    "    return num_regex.sub('NUM', string)\n",
    "\n",
    "\n",
    "def remove_indents(string: str) -> str:\n",
    "    regex = re.compile(\n",
    "        r'''(\n",
    "            (?<=\\n)\\s+ |\n",
    "            (?<=^)\\s+\n",
    "        )''',\n",
    "        flags=re.VERBOSE\n",
    "    )\n",
    "    return regex.sub('', string)\n",
    "\n",
    "\n",
    "def remove_strings(string: str) -> str:\n",
    "\n",
    "    str_qoute_text_regex = re.compile(\n",
    "        r'''(\n",
    "            \\'.*?\\'\n",
    "        )''',\n",
    "        flags=re.VERBOSE | re.DOTALL\n",
    "    )\n",
    "    string = str_qoute_text_regex.sub(\"\\'\\'\", string)\n",
    "\n",
    "    str_double_qoute_text_regex = re.compile(\n",
    "        r'''(\n",
    "            \\\".*?\\\"\n",
    "        )''',\n",
    "        flags=re.VERBOSE | re.DOTALL\n",
    "    )\n",
    "    string = str_double_qoute_text_regex.sub('\\\"\\\"', string)\n",
    "\n",
    "    str_multi_qoute_text_regex = re.compile(\n",
    "        r'''(\n",
    "            \\'{3}.*?\\'{3}\n",
    "        )''',\n",
    "        flags=re.VERBOSE | re.DOTALL\n",
    "    )\n",
    "    string = str_multi_qoute_text_regex.sub(\"\\'\\'\\'\\'\\'\\'\", string)\n",
    "\n",
    "    str_multi_double_qoute_text_regex = re.compile(\n",
    "        r'''(\n",
    "            \\\"{3}.*?\\\"{3}\n",
    "        )''',\n",
    "        flags=re.VERBOSE | re.DOTALL\n",
    "    )\n",
    "    string = str_multi_double_qoute_text_regex.sub('\\\"\\\"\\\"\\\"\\\"\\\"', string)\n",
    "\n",
    "    return string\n",
    "\n",
    "\n",
    "def extract_tokens(string: str) -> str:\n",
    "    num_id_regex = re.compile(\n",
    "        r'''(\n",
    "            (?<=\\W) |\n",
    "            (?=\\W)\n",
    "        )''',\n",
    "        flags=re.VERBOSE\n",
    "    )\n",
    "    return num_id_regex.sub(' ', string)\n",
    "\n",
    "\n",
    "def remove_non_ascii_characters(string: str) -> str:\n",
    "    non_ascii_regex = re.compile(\n",
    "        r'''(\n",
    "            [^\\x00-\\x7f]\n",
    "        )''',\n",
    "        flags=re.VERBOSE\n",
    "    )\n",
    "    return non_ascii_regex.sub('', string)\n",
    "\n",
    "\n",
    "def preprocess(string: str):\n",
    "    string = remove_non_ascii_characters(string)\n",
    "    string = remove_indents(string)\n",
    "    string = replace_numbers(string)\n",
    "    string = remove_inline_comments(string)\n",
    "    string = remove_multi_line_comments(string)\n",
    "    string = remove_strings(string)\n",
    "    string = extract_tokens(string)\n",
    "    string = re.sub('\\s+', ' ', string)\n",
    "    return string\n",
    "\n",
    "\n",
    "def preprocess_repos():\n",
    "    repos_dict = json.loads(Path('repos_dict.json').read_text())\n",
    "\n",
    "    preprocessed_data_path = Path('preprocessed_data')\n",
    "    preprocessed_data_path.mkdir()\n",
    "\n",
    "    for repo in repos_dict:\n",
    "\n",
    "        last_repo_path = Path('data') / repo[\"dir_name\"]\n",
    "        repo_path = Path(str(preprocessed_data_path)) / repo[\"dir_name\"]\n",
    "        print(repo_path)\n",
    "        repo_path.mkdir()\n",
    "\n",
    "        for file in repo[\"files_url\"]:\n",
    "            preprocess_file(last_repo_path, repo_path, file)\n",
    "\n",
    "\n",
    "def preprocess_file(last_repo_path, repo_path, file):\n",
    "\n",
    "    language_path = Path(str(repo_path)) / file[\"language\"]\n",
    "    if not language_path.exists():\n",
    "        language_path.mkdir()\n",
    "\n",
    "    code_path = Path(\n",
    "        str(language_path)) / f'{file[\"name\"]}.txt'\n",
    "    last_code_path = Path(str(last_repo_path)) / \\\n",
    "        file[\"language\"] / f'{file[\"name\"]}.txt'\n",
    "    if not last_code_path.exists():\n",
    "        return\n",
    "    code = last_code_path.read_text()\n",
    "    preprocessed_code = preprocess(code)\n",
    "    code_path.write_text(preprocessed_code)\n",
    "\n",
    "\n",
    "path = Path('preprocessed_data')\n",
    "preprocess_repos()"
   ]
  },
  {
   "cell_type": "markdown",
   "metadata": {
    "id": "rCEqQSy0a-vP"
   },
   "source": [
    "## Convert data to CSV "
   ]
  },
  {
   "cell_type": "code",
   "execution_count": 138,
   "metadata": {
    "id": "21iNIMKRE2n1"
   },
   "outputs": [
    {
     "name": "stderr",
     "output_type": "stream",
     "text": [
      "/var/folders/20/39xftvjd67d7x2ykjzb972b40000gn/T/ipykernel_12834/610630523.py:15: FutureWarning: The frame.append method is deprecated and will be removed from pandas in a future version. Use pandas.concat instead.\n",
      "  code_df = code_df.append(temp, ignore_index=True)\n",
      "/var/folders/20/39xftvjd67d7x2ykjzb972b40000gn/T/ipykernel_12834/610630523.py:15: FutureWarning: The frame.append method is deprecated and will be removed from pandas in a future version. Use pandas.concat instead.\n",
      "  code_df = code_df.append(temp, ignore_index=True)\n",
      "/var/folders/20/39xftvjd67d7x2ykjzb972b40000gn/T/ipykernel_12834/610630523.py:15: FutureWarning: The frame.append method is deprecated and will be removed from pandas in a future version. Use pandas.concat instead.\n",
      "  code_df = code_df.append(temp, ignore_index=True)\n",
      "/var/folders/20/39xftvjd67d7x2ykjzb972b40000gn/T/ipykernel_12834/610630523.py:15: FutureWarning: The frame.append method is deprecated and will be removed from pandas in a future version. Use pandas.concat instead.\n",
      "  code_df = code_df.append(temp, ignore_index=True)\n",
      "/var/folders/20/39xftvjd67d7x2ykjzb972b40000gn/T/ipykernel_12834/610630523.py:15: FutureWarning: The frame.append method is deprecated and will be removed from pandas in a future version. Use pandas.concat instead.\n",
      "  code_df = code_df.append(temp, ignore_index=True)\n",
      "/var/folders/20/39xftvjd67d7x2ykjzb972b40000gn/T/ipykernel_12834/610630523.py:15: FutureWarning: The frame.append method is deprecated and will be removed from pandas in a future version. Use pandas.concat instead.\n",
      "  code_df = code_df.append(temp, ignore_index=True)\n",
      "/var/folders/20/39xftvjd67d7x2ykjzb972b40000gn/T/ipykernel_12834/610630523.py:15: FutureWarning: The frame.append method is deprecated and will be removed from pandas in a future version. Use pandas.concat instead.\n",
      "  code_df = code_df.append(temp, ignore_index=True)\n",
      "/var/folders/20/39xftvjd67d7x2ykjzb972b40000gn/T/ipykernel_12834/610630523.py:15: FutureWarning: The frame.append method is deprecated and will be removed from pandas in a future version. Use pandas.concat instead.\n",
      "  code_df = code_df.append(temp, ignore_index=True)\n",
      "/var/folders/20/39xftvjd67d7x2ykjzb972b40000gn/T/ipykernel_12834/610630523.py:15: FutureWarning: The frame.append method is deprecated and will be removed from pandas in a future version. Use pandas.concat instead.\n",
      "  code_df = code_df.append(temp, ignore_index=True)\n",
      "/var/folders/20/39xftvjd67d7x2ykjzb972b40000gn/T/ipykernel_12834/610630523.py:15: FutureWarning: The frame.append method is deprecated and will be removed from pandas in a future version. Use pandas.concat instead.\n",
      "  code_df = code_df.append(temp, ignore_index=True)\n",
      "/var/folders/20/39xftvjd67d7x2ykjzb972b40000gn/T/ipykernel_12834/610630523.py:15: FutureWarning: The frame.append method is deprecated and will be removed from pandas in a future version. Use pandas.concat instead.\n",
      "  code_df = code_df.append(temp, ignore_index=True)\n",
      "/var/folders/20/39xftvjd67d7x2ykjzb972b40000gn/T/ipykernel_12834/610630523.py:15: FutureWarning: The frame.append method is deprecated and will be removed from pandas in a future version. Use pandas.concat instead.\n",
      "  code_df = code_df.append(temp, ignore_index=True)\n",
      "/var/folders/20/39xftvjd67d7x2ykjzb972b40000gn/T/ipykernel_12834/610630523.py:15: FutureWarning: The frame.append method is deprecated and will be removed from pandas in a future version. Use pandas.concat instead.\n",
      "  code_df = code_df.append(temp, ignore_index=True)\n",
      "/var/folders/20/39xftvjd67d7x2ykjzb972b40000gn/T/ipykernel_12834/610630523.py:15: FutureWarning: The frame.append method is deprecated and will be removed from pandas in a future version. Use pandas.concat instead.\n",
      "  code_df = code_df.append(temp, ignore_index=True)\n",
      "/var/folders/20/39xftvjd67d7x2ykjzb972b40000gn/T/ipykernel_12834/610630523.py:15: FutureWarning: The frame.append method is deprecated and will be removed from pandas in a future version. Use pandas.concat instead.\n",
      "  code_df = code_df.append(temp, ignore_index=True)\n",
      "/var/folders/20/39xftvjd67d7x2ykjzb972b40000gn/T/ipykernel_12834/610630523.py:15: FutureWarning: The frame.append method is deprecated and will be removed from pandas in a future version. Use pandas.concat instead.\n",
      "  code_df = code_df.append(temp, ignore_index=True)\n",
      "/var/folders/20/39xftvjd67d7x2ykjzb972b40000gn/T/ipykernel_12834/610630523.py:15: FutureWarning: The frame.append method is deprecated and will be removed from pandas in a future version. Use pandas.concat instead.\n",
      "  code_df = code_df.append(temp, ignore_index=True)\n",
      "/var/folders/20/39xftvjd67d7x2ykjzb972b40000gn/T/ipykernel_12834/610630523.py:15: FutureWarning: The frame.append method is deprecated and will be removed from pandas in a future version. Use pandas.concat instead.\n",
      "  code_df = code_df.append(temp, ignore_index=True)\n",
      "/var/folders/20/39xftvjd67d7x2ykjzb972b40000gn/T/ipykernel_12834/610630523.py:15: FutureWarning: The frame.append method is deprecated and will be removed from pandas in a future version. Use pandas.concat instead.\n",
      "  code_df = code_df.append(temp, ignore_index=True)\n",
      "/var/folders/20/39xftvjd67d7x2ykjzb972b40000gn/T/ipykernel_12834/610630523.py:15: FutureWarning: The frame.append method is deprecated and will be removed from pandas in a future version. Use pandas.concat instead.\n",
      "  code_df = code_df.append(temp, ignore_index=True)\n",
      "/var/folders/20/39xftvjd67d7x2ykjzb972b40000gn/T/ipykernel_12834/610630523.py:15: FutureWarning: The frame.append method is deprecated and will be removed from pandas in a future version. Use pandas.concat instead.\n",
      "  code_df = code_df.append(temp, ignore_index=True)\n",
      "/var/folders/20/39xftvjd67d7x2ykjzb972b40000gn/T/ipykernel_12834/610630523.py:15: FutureWarning: The frame.append method is deprecated and will be removed from pandas in a future version. Use pandas.concat instead.\n",
      "  code_df = code_df.append(temp, ignore_index=True)\n",
      "/var/folders/20/39xftvjd67d7x2ykjzb972b40000gn/T/ipykernel_12834/610630523.py:15: FutureWarning: The frame.append method is deprecated and will be removed from pandas in a future version. Use pandas.concat instead.\n",
      "  code_df = code_df.append(temp, ignore_index=True)\n",
      "/var/folders/20/39xftvjd67d7x2ykjzb972b40000gn/T/ipykernel_12834/610630523.py:15: FutureWarning: The frame.append method is deprecated and will be removed from pandas in a future version. Use pandas.concat instead.\n",
      "  code_df = code_df.append(temp, ignore_index=True)\n",
      "/var/folders/20/39xftvjd67d7x2ykjzb972b40000gn/T/ipykernel_12834/610630523.py:15: FutureWarning: The frame.append method is deprecated and will be removed from pandas in a future version. Use pandas.concat instead.\n",
      "  code_df = code_df.append(temp, ignore_index=True)\n",
      "/var/folders/20/39xftvjd67d7x2ykjzb972b40000gn/T/ipykernel_12834/610630523.py:15: FutureWarning: The frame.append method is deprecated and will be removed from pandas in a future version. Use pandas.concat instead.\n",
      "  code_df = code_df.append(temp, ignore_index=True)\n",
      "/var/folders/20/39xftvjd67d7x2ykjzb972b40000gn/T/ipykernel_12834/610630523.py:15: FutureWarning: The frame.append method is deprecated and will be removed from pandas in a future version. Use pandas.concat instead.\n",
      "  code_df = code_df.append(temp, ignore_index=True)\n",
      "/var/folders/20/39xftvjd67d7x2ykjzb972b40000gn/T/ipykernel_12834/610630523.py:15: FutureWarning: The frame.append method is deprecated and will be removed from pandas in a future version. Use pandas.concat instead.\n",
      "  code_df = code_df.append(temp, ignore_index=True)\n",
      "/var/folders/20/39xftvjd67d7x2ykjzb972b40000gn/T/ipykernel_12834/610630523.py:15: FutureWarning: The frame.append method is deprecated and will be removed from pandas in a future version. Use pandas.concat instead.\n",
      "  code_df = code_df.append(temp, ignore_index=True)\n",
      "/var/folders/20/39xftvjd67d7x2ykjzb972b40000gn/T/ipykernel_12834/610630523.py:15: FutureWarning: The frame.append method is deprecated and will be removed from pandas in a future version. Use pandas.concat instead.\n",
      "  code_df = code_df.append(temp, ignore_index=True)\n",
      "/var/folders/20/39xftvjd67d7x2ykjzb972b40000gn/T/ipykernel_12834/610630523.py:15: FutureWarning: The frame.append method is deprecated and will be removed from pandas in a future version. Use pandas.concat instead.\n",
      "  code_df = code_df.append(temp, ignore_index=True)\n",
      "/var/folders/20/39xftvjd67d7x2ykjzb972b40000gn/T/ipykernel_12834/610630523.py:15: FutureWarning: The frame.append method is deprecated and will be removed from pandas in a future version. Use pandas.concat instead.\n",
      "  code_df = code_df.append(temp, ignore_index=True)\n",
      "/var/folders/20/39xftvjd67d7x2ykjzb972b40000gn/T/ipykernel_12834/610630523.py:15: FutureWarning: The frame.append method is deprecated and will be removed from pandas in a future version. Use pandas.concat instead.\n",
      "  code_df = code_df.append(temp, ignore_index=True)\n",
      "/var/folders/20/39xftvjd67d7x2ykjzb972b40000gn/T/ipykernel_12834/610630523.py:15: FutureWarning: The frame.append method is deprecated and will be removed from pandas in a future version. Use pandas.concat instead.\n",
      "  code_df = code_df.append(temp, ignore_index=True)\n",
      "/var/folders/20/39xftvjd67d7x2ykjzb972b40000gn/T/ipykernel_12834/610630523.py:15: FutureWarning: The frame.append method is deprecated and will be removed from pandas in a future version. Use pandas.concat instead.\n",
      "  code_df = code_df.append(temp, ignore_index=True)\n",
      "/var/folders/20/39xftvjd67d7x2ykjzb972b40000gn/T/ipykernel_12834/610630523.py:15: FutureWarning: The frame.append method is deprecated and will be removed from pandas in a future version. Use pandas.concat instead.\n",
      "  code_df = code_df.append(temp, ignore_index=True)\n"
     ]
    },
    {
     "name": "stderr",
     "output_type": "stream",
     "text": [
      "/var/folders/20/39xftvjd67d7x2ykjzb972b40000gn/T/ipykernel_12834/610630523.py:15: FutureWarning: The frame.append method is deprecated and will be removed from pandas in a future version. Use pandas.concat instead.\n",
      "  code_df = code_df.append(temp, ignore_index=True)\n",
      "/var/folders/20/39xftvjd67d7x2ykjzb972b40000gn/T/ipykernel_12834/610630523.py:15: FutureWarning: The frame.append method is deprecated and will be removed from pandas in a future version. Use pandas.concat instead.\n",
      "  code_df = code_df.append(temp, ignore_index=True)\n",
      "/var/folders/20/39xftvjd67d7x2ykjzb972b40000gn/T/ipykernel_12834/610630523.py:15: FutureWarning: The frame.append method is deprecated and will be removed from pandas in a future version. Use pandas.concat instead.\n",
      "  code_df = code_df.append(temp, ignore_index=True)\n",
      "/var/folders/20/39xftvjd67d7x2ykjzb972b40000gn/T/ipykernel_12834/610630523.py:15: FutureWarning: The frame.append method is deprecated and will be removed from pandas in a future version. Use pandas.concat instead.\n",
      "  code_df = code_df.append(temp, ignore_index=True)\n",
      "/var/folders/20/39xftvjd67d7x2ykjzb972b40000gn/T/ipykernel_12834/610630523.py:15: FutureWarning: The frame.append method is deprecated and will be removed from pandas in a future version. Use pandas.concat instead.\n",
      "  code_df = code_df.append(temp, ignore_index=True)\n",
      "/var/folders/20/39xftvjd67d7x2ykjzb972b40000gn/T/ipykernel_12834/610630523.py:15: FutureWarning: The frame.append method is deprecated and will be removed from pandas in a future version. Use pandas.concat instead.\n",
      "  code_df = code_df.append(temp, ignore_index=True)\n",
      "/var/folders/20/39xftvjd67d7x2ykjzb972b40000gn/T/ipykernel_12834/610630523.py:15: FutureWarning: The frame.append method is deprecated and will be removed from pandas in a future version. Use pandas.concat instead.\n",
      "  code_df = code_df.append(temp, ignore_index=True)\n",
      "/var/folders/20/39xftvjd67d7x2ykjzb972b40000gn/T/ipykernel_12834/610630523.py:15: FutureWarning: The frame.append method is deprecated and will be removed from pandas in a future version. Use pandas.concat instead.\n",
      "  code_df = code_df.append(temp, ignore_index=True)\n",
      "/var/folders/20/39xftvjd67d7x2ykjzb972b40000gn/T/ipykernel_12834/610630523.py:15: FutureWarning: The frame.append method is deprecated and will be removed from pandas in a future version. Use pandas.concat instead.\n",
      "  code_df = code_df.append(temp, ignore_index=True)\n",
      "/var/folders/20/39xftvjd67d7x2ykjzb972b40000gn/T/ipykernel_12834/610630523.py:15: FutureWarning: The frame.append method is deprecated and will be removed from pandas in a future version. Use pandas.concat instead.\n",
      "  code_df = code_df.append(temp, ignore_index=True)\n",
      "/var/folders/20/39xftvjd67d7x2ykjzb972b40000gn/T/ipykernel_12834/610630523.py:15: FutureWarning: The frame.append method is deprecated and will be removed from pandas in a future version. Use pandas.concat instead.\n",
      "  code_df = code_df.append(temp, ignore_index=True)\n",
      "/var/folders/20/39xftvjd67d7x2ykjzb972b40000gn/T/ipykernel_12834/610630523.py:15: FutureWarning: The frame.append method is deprecated and will be removed from pandas in a future version. Use pandas.concat instead.\n",
      "  code_df = code_df.append(temp, ignore_index=True)\n",
      "/var/folders/20/39xftvjd67d7x2ykjzb972b40000gn/T/ipykernel_12834/610630523.py:15: FutureWarning: The frame.append method is deprecated and will be removed from pandas in a future version. Use pandas.concat instead.\n",
      "  code_df = code_df.append(temp, ignore_index=True)\n",
      "/var/folders/20/39xftvjd67d7x2ykjzb972b40000gn/T/ipykernel_12834/610630523.py:15: FutureWarning: The frame.append method is deprecated and will be removed from pandas in a future version. Use pandas.concat instead.\n",
      "  code_df = code_df.append(temp, ignore_index=True)\n",
      "/var/folders/20/39xftvjd67d7x2ykjzb972b40000gn/T/ipykernel_12834/610630523.py:15: FutureWarning: The frame.append method is deprecated and will be removed from pandas in a future version. Use pandas.concat instead.\n",
      "  code_df = code_df.append(temp, ignore_index=True)\n",
      "/var/folders/20/39xftvjd67d7x2ykjzb972b40000gn/T/ipykernel_12834/610630523.py:15: FutureWarning: The frame.append method is deprecated and will be removed from pandas in a future version. Use pandas.concat instead.\n",
      "  code_df = code_df.append(temp, ignore_index=True)\n",
      "/var/folders/20/39xftvjd67d7x2ykjzb972b40000gn/T/ipykernel_12834/610630523.py:15: FutureWarning: The frame.append method is deprecated and will be removed from pandas in a future version. Use pandas.concat instead.\n",
      "  code_df = code_df.append(temp, ignore_index=True)\n",
      "/var/folders/20/39xftvjd67d7x2ykjzb972b40000gn/T/ipykernel_12834/610630523.py:15: FutureWarning: The frame.append method is deprecated and will be removed from pandas in a future version. Use pandas.concat instead.\n",
      "  code_df = code_df.append(temp, ignore_index=True)\n",
      "/var/folders/20/39xftvjd67d7x2ykjzb972b40000gn/T/ipykernel_12834/610630523.py:15: FutureWarning: The frame.append method is deprecated and will be removed from pandas in a future version. Use pandas.concat instead.\n",
      "  code_df = code_df.append(temp, ignore_index=True)\n",
      "/var/folders/20/39xftvjd67d7x2ykjzb972b40000gn/T/ipykernel_12834/610630523.py:15: FutureWarning: The frame.append method is deprecated and will be removed from pandas in a future version. Use pandas.concat instead.\n",
      "  code_df = code_df.append(temp, ignore_index=True)\n",
      "/var/folders/20/39xftvjd67d7x2ykjzb972b40000gn/T/ipykernel_12834/610630523.py:15: FutureWarning: The frame.append method is deprecated and will be removed from pandas in a future version. Use pandas.concat instead.\n",
      "  code_df = code_df.append(temp, ignore_index=True)\n",
      "/var/folders/20/39xftvjd67d7x2ykjzb972b40000gn/T/ipykernel_12834/610630523.py:15: FutureWarning: The frame.append method is deprecated and will be removed from pandas in a future version. Use pandas.concat instead.\n",
      "  code_df = code_df.append(temp, ignore_index=True)\n",
      "/var/folders/20/39xftvjd67d7x2ykjzb972b40000gn/T/ipykernel_12834/610630523.py:15: FutureWarning: The frame.append method is deprecated and will be removed from pandas in a future version. Use pandas.concat instead.\n",
      "  code_df = code_df.append(temp, ignore_index=True)\n",
      "/var/folders/20/39xftvjd67d7x2ykjzb972b40000gn/T/ipykernel_12834/610630523.py:15: FutureWarning: The frame.append method is deprecated and will be removed from pandas in a future version. Use pandas.concat instead.\n",
      "  code_df = code_df.append(temp, ignore_index=True)\n",
      "/var/folders/20/39xftvjd67d7x2ykjzb972b40000gn/T/ipykernel_12834/610630523.py:15: FutureWarning: The frame.append method is deprecated and will be removed from pandas in a future version. Use pandas.concat instead.\n",
      "  code_df = code_df.append(temp, ignore_index=True)\n",
      "/var/folders/20/39xftvjd67d7x2ykjzb972b40000gn/T/ipykernel_12834/610630523.py:15: FutureWarning: The frame.append method is deprecated and will be removed from pandas in a future version. Use pandas.concat instead.\n",
      "  code_df = code_df.append(temp, ignore_index=True)\n",
      "/var/folders/20/39xftvjd67d7x2ykjzb972b40000gn/T/ipykernel_12834/610630523.py:15: FutureWarning: The frame.append method is deprecated and will be removed from pandas in a future version. Use pandas.concat instead.\n",
      "  code_df = code_df.append(temp, ignore_index=True)\n",
      "/var/folders/20/39xftvjd67d7x2ykjzb972b40000gn/T/ipykernel_12834/610630523.py:15: FutureWarning: The frame.append method is deprecated and will be removed from pandas in a future version. Use pandas.concat instead.\n",
      "  code_df = code_df.append(temp, ignore_index=True)\n",
      "/var/folders/20/39xftvjd67d7x2ykjzb972b40000gn/T/ipykernel_12834/610630523.py:15: FutureWarning: The frame.append method is deprecated and will be removed from pandas in a future version. Use pandas.concat instead.\n",
      "  code_df = code_df.append(temp, ignore_index=True)\n",
      "/var/folders/20/39xftvjd67d7x2ykjzb972b40000gn/T/ipykernel_12834/610630523.py:15: FutureWarning: The frame.append method is deprecated and will be removed from pandas in a future version. Use pandas.concat instead.\n",
      "  code_df = code_df.append(temp, ignore_index=True)\n",
      "/var/folders/20/39xftvjd67d7x2ykjzb972b40000gn/T/ipykernel_12834/610630523.py:15: FutureWarning: The frame.append method is deprecated and will be removed from pandas in a future version. Use pandas.concat instead.\n",
      "  code_df = code_df.append(temp, ignore_index=True)\n",
      "/var/folders/20/39xftvjd67d7x2ykjzb972b40000gn/T/ipykernel_12834/610630523.py:15: FutureWarning: The frame.append method is deprecated and will be removed from pandas in a future version. Use pandas.concat instead.\n",
      "  code_df = code_df.append(temp, ignore_index=True)\n",
      "/var/folders/20/39xftvjd67d7x2ykjzb972b40000gn/T/ipykernel_12834/610630523.py:15: FutureWarning: The frame.append method is deprecated and will be removed from pandas in a future version. Use pandas.concat instead.\n",
      "  code_df = code_df.append(temp, ignore_index=True)\n"
     ]
    },
    {
     "name": "stderr",
     "output_type": "stream",
     "text": [
      "/var/folders/20/39xftvjd67d7x2ykjzb972b40000gn/T/ipykernel_12834/610630523.py:15: FutureWarning: The frame.append method is deprecated and will be removed from pandas in a future version. Use pandas.concat instead.\n",
      "  code_df = code_df.append(temp, ignore_index=True)\n",
      "/var/folders/20/39xftvjd67d7x2ykjzb972b40000gn/T/ipykernel_12834/610630523.py:15: FutureWarning: The frame.append method is deprecated and will be removed from pandas in a future version. Use pandas.concat instead.\n",
      "  code_df = code_df.append(temp, ignore_index=True)\n",
      "/var/folders/20/39xftvjd67d7x2ykjzb972b40000gn/T/ipykernel_12834/610630523.py:15: FutureWarning: The frame.append method is deprecated and will be removed from pandas in a future version. Use pandas.concat instead.\n",
      "  code_df = code_df.append(temp, ignore_index=True)\n",
      "/var/folders/20/39xftvjd67d7x2ykjzb972b40000gn/T/ipykernel_12834/610630523.py:15: FutureWarning: The frame.append method is deprecated and will be removed from pandas in a future version. Use pandas.concat instead.\n",
      "  code_df = code_df.append(temp, ignore_index=True)\n",
      "/var/folders/20/39xftvjd67d7x2ykjzb972b40000gn/T/ipykernel_12834/610630523.py:15: FutureWarning: The frame.append method is deprecated and will be removed from pandas in a future version. Use pandas.concat instead.\n",
      "  code_df = code_df.append(temp, ignore_index=True)\n",
      "/var/folders/20/39xftvjd67d7x2ykjzb972b40000gn/T/ipykernel_12834/610630523.py:15: FutureWarning: The frame.append method is deprecated and will be removed from pandas in a future version. Use pandas.concat instead.\n",
      "  code_df = code_df.append(temp, ignore_index=True)\n",
      "/var/folders/20/39xftvjd67d7x2ykjzb972b40000gn/T/ipykernel_12834/610630523.py:15: FutureWarning: The frame.append method is deprecated and will be removed from pandas in a future version. Use pandas.concat instead.\n",
      "  code_df = code_df.append(temp, ignore_index=True)\n",
      "/var/folders/20/39xftvjd67d7x2ykjzb972b40000gn/T/ipykernel_12834/610630523.py:15: FutureWarning: The frame.append method is deprecated and will be removed from pandas in a future version. Use pandas.concat instead.\n",
      "  code_df = code_df.append(temp, ignore_index=True)\n",
      "/var/folders/20/39xftvjd67d7x2ykjzb972b40000gn/T/ipykernel_12834/610630523.py:15: FutureWarning: The frame.append method is deprecated and will be removed from pandas in a future version. Use pandas.concat instead.\n",
      "  code_df = code_df.append(temp, ignore_index=True)\n",
      "/var/folders/20/39xftvjd67d7x2ykjzb972b40000gn/T/ipykernel_12834/610630523.py:15: FutureWarning: The frame.append method is deprecated and will be removed from pandas in a future version. Use pandas.concat instead.\n",
      "  code_df = code_df.append(temp, ignore_index=True)\n",
      "/var/folders/20/39xftvjd67d7x2ykjzb972b40000gn/T/ipykernel_12834/610630523.py:15: FutureWarning: The frame.append method is deprecated and will be removed from pandas in a future version. Use pandas.concat instead.\n",
      "  code_df = code_df.append(temp, ignore_index=True)\n",
      "/var/folders/20/39xftvjd67d7x2ykjzb972b40000gn/T/ipykernel_12834/610630523.py:15: FutureWarning: The frame.append method is deprecated and will be removed from pandas in a future version. Use pandas.concat instead.\n",
      "  code_df = code_df.append(temp, ignore_index=True)\n",
      "/var/folders/20/39xftvjd67d7x2ykjzb972b40000gn/T/ipykernel_12834/610630523.py:15: FutureWarning: The frame.append method is deprecated and will be removed from pandas in a future version. Use pandas.concat instead.\n",
      "  code_df = code_df.append(temp, ignore_index=True)\n",
      "/var/folders/20/39xftvjd67d7x2ykjzb972b40000gn/T/ipykernel_12834/610630523.py:15: FutureWarning: The frame.append method is deprecated and will be removed from pandas in a future version. Use pandas.concat instead.\n",
      "  code_df = code_df.append(temp, ignore_index=True)\n",
      "/var/folders/20/39xftvjd67d7x2ykjzb972b40000gn/T/ipykernel_12834/610630523.py:15: FutureWarning: The frame.append method is deprecated and will be removed from pandas in a future version. Use pandas.concat instead.\n",
      "  code_df = code_df.append(temp, ignore_index=True)\n",
      "/var/folders/20/39xftvjd67d7x2ykjzb972b40000gn/T/ipykernel_12834/610630523.py:15: FutureWarning: The frame.append method is deprecated and will be removed from pandas in a future version. Use pandas.concat instead.\n",
      "  code_df = code_df.append(temp, ignore_index=True)\n",
      "/var/folders/20/39xftvjd67d7x2ykjzb972b40000gn/T/ipykernel_12834/610630523.py:15: FutureWarning: The frame.append method is deprecated and will be removed from pandas in a future version. Use pandas.concat instead.\n",
      "  code_df = code_df.append(temp, ignore_index=True)\n",
      "/var/folders/20/39xftvjd67d7x2ykjzb972b40000gn/T/ipykernel_12834/610630523.py:15: FutureWarning: The frame.append method is deprecated and will be removed from pandas in a future version. Use pandas.concat instead.\n",
      "  code_df = code_df.append(temp, ignore_index=True)\n",
      "/var/folders/20/39xftvjd67d7x2ykjzb972b40000gn/T/ipykernel_12834/610630523.py:15: FutureWarning: The frame.append method is deprecated and will be removed from pandas in a future version. Use pandas.concat instead.\n",
      "  code_df = code_df.append(temp, ignore_index=True)\n",
      "/var/folders/20/39xftvjd67d7x2ykjzb972b40000gn/T/ipykernel_12834/610630523.py:15: FutureWarning: The frame.append method is deprecated and will be removed from pandas in a future version. Use pandas.concat instead.\n",
      "  code_df = code_df.append(temp, ignore_index=True)\n",
      "/var/folders/20/39xftvjd67d7x2ykjzb972b40000gn/T/ipykernel_12834/610630523.py:15: FutureWarning: The frame.append method is deprecated and will be removed from pandas in a future version. Use pandas.concat instead.\n",
      "  code_df = code_df.append(temp, ignore_index=True)\n",
      "/var/folders/20/39xftvjd67d7x2ykjzb972b40000gn/T/ipykernel_12834/610630523.py:15: FutureWarning: The frame.append method is deprecated and will be removed from pandas in a future version. Use pandas.concat instead.\n",
      "  code_df = code_df.append(temp, ignore_index=True)\n",
      "/var/folders/20/39xftvjd67d7x2ykjzb972b40000gn/T/ipykernel_12834/610630523.py:15: FutureWarning: The frame.append method is deprecated and will be removed from pandas in a future version. Use pandas.concat instead.\n",
      "  code_df = code_df.append(temp, ignore_index=True)\n",
      "/var/folders/20/39xftvjd67d7x2ykjzb972b40000gn/T/ipykernel_12834/610630523.py:15: FutureWarning: The frame.append method is deprecated and will be removed from pandas in a future version. Use pandas.concat instead.\n",
      "  code_df = code_df.append(temp, ignore_index=True)\n",
      "/var/folders/20/39xftvjd67d7x2ykjzb972b40000gn/T/ipykernel_12834/610630523.py:15: FutureWarning: The frame.append method is deprecated and will be removed from pandas in a future version. Use pandas.concat instead.\n",
      "  code_df = code_df.append(temp, ignore_index=True)\n",
      "/var/folders/20/39xftvjd67d7x2ykjzb972b40000gn/T/ipykernel_12834/610630523.py:15: FutureWarning: The frame.append method is deprecated and will be removed from pandas in a future version. Use pandas.concat instead.\n",
      "  code_df = code_df.append(temp, ignore_index=True)\n",
      "/var/folders/20/39xftvjd67d7x2ykjzb972b40000gn/T/ipykernel_12834/610630523.py:15: FutureWarning: The frame.append method is deprecated and will be removed from pandas in a future version. Use pandas.concat instead.\n",
      "  code_df = code_df.append(temp, ignore_index=True)\n",
      "/var/folders/20/39xftvjd67d7x2ykjzb972b40000gn/T/ipykernel_12834/610630523.py:15: FutureWarning: The frame.append method is deprecated and will be removed from pandas in a future version. Use pandas.concat instead.\n",
      "  code_df = code_df.append(temp, ignore_index=True)\n",
      "/var/folders/20/39xftvjd67d7x2ykjzb972b40000gn/T/ipykernel_12834/610630523.py:15: FutureWarning: The frame.append method is deprecated and will be removed from pandas in a future version. Use pandas.concat instead.\n",
      "  code_df = code_df.append(temp, ignore_index=True)\n",
      "/var/folders/20/39xftvjd67d7x2ykjzb972b40000gn/T/ipykernel_12834/610630523.py:15: FutureWarning: The frame.append method is deprecated and will be removed from pandas in a future version. Use pandas.concat instead.\n",
      "  code_df = code_df.append(temp, ignore_index=True)\n",
      "/var/folders/20/39xftvjd67d7x2ykjzb972b40000gn/T/ipykernel_12834/610630523.py:15: FutureWarning: The frame.append method is deprecated and will be removed from pandas in a future version. Use pandas.concat instead.\n",
      "  code_df = code_df.append(temp, ignore_index=True)\n",
      "/var/folders/20/39xftvjd67d7x2ykjzb972b40000gn/T/ipykernel_12834/610630523.py:15: FutureWarning: The frame.append method is deprecated and will be removed from pandas in a future version. Use pandas.concat instead.\n",
      "  code_df = code_df.append(temp, ignore_index=True)\n",
      "/var/folders/20/39xftvjd67d7x2ykjzb972b40000gn/T/ipykernel_12834/610630523.py:15: FutureWarning: The frame.append method is deprecated and will be removed from pandas in a future version. Use pandas.concat instead.\n",
      "  code_df = code_df.append(temp, ignore_index=True)\n"
     ]
    },
    {
     "name": "stderr",
     "output_type": "stream",
     "text": [
      "/var/folders/20/39xftvjd67d7x2ykjzb972b40000gn/T/ipykernel_12834/610630523.py:15: FutureWarning: The frame.append method is deprecated and will be removed from pandas in a future version. Use pandas.concat instead.\n",
      "  code_df = code_df.append(temp, ignore_index=True)\n",
      "/var/folders/20/39xftvjd67d7x2ykjzb972b40000gn/T/ipykernel_12834/610630523.py:15: FutureWarning: The frame.append method is deprecated and will be removed from pandas in a future version. Use pandas.concat instead.\n",
      "  code_df = code_df.append(temp, ignore_index=True)\n",
      "/var/folders/20/39xftvjd67d7x2ykjzb972b40000gn/T/ipykernel_12834/610630523.py:15: FutureWarning: The frame.append method is deprecated and will be removed from pandas in a future version. Use pandas.concat instead.\n",
      "  code_df = code_df.append(temp, ignore_index=True)\n",
      "/var/folders/20/39xftvjd67d7x2ykjzb972b40000gn/T/ipykernel_12834/610630523.py:15: FutureWarning: The frame.append method is deprecated and will be removed from pandas in a future version. Use pandas.concat instead.\n",
      "  code_df = code_df.append(temp, ignore_index=True)\n",
      "/var/folders/20/39xftvjd67d7x2ykjzb972b40000gn/T/ipykernel_12834/610630523.py:15: FutureWarning: The frame.append method is deprecated and will be removed from pandas in a future version. Use pandas.concat instead.\n",
      "  code_df = code_df.append(temp, ignore_index=True)\n",
      "/var/folders/20/39xftvjd67d7x2ykjzb972b40000gn/T/ipykernel_12834/610630523.py:15: FutureWarning: The frame.append method is deprecated and will be removed from pandas in a future version. Use pandas.concat instead.\n",
      "  code_df = code_df.append(temp, ignore_index=True)\n",
      "/var/folders/20/39xftvjd67d7x2ykjzb972b40000gn/T/ipykernel_12834/610630523.py:15: FutureWarning: The frame.append method is deprecated and will be removed from pandas in a future version. Use pandas.concat instead.\n",
      "  code_df = code_df.append(temp, ignore_index=True)\n",
      "/var/folders/20/39xftvjd67d7x2ykjzb972b40000gn/T/ipykernel_12834/610630523.py:15: FutureWarning: The frame.append method is deprecated and will be removed from pandas in a future version. Use pandas.concat instead.\n",
      "  code_df = code_df.append(temp, ignore_index=True)\n",
      "/var/folders/20/39xftvjd67d7x2ykjzb972b40000gn/T/ipykernel_12834/610630523.py:15: FutureWarning: The frame.append method is deprecated and will be removed from pandas in a future version. Use pandas.concat instead.\n",
      "  code_df = code_df.append(temp, ignore_index=True)\n",
      "/var/folders/20/39xftvjd67d7x2ykjzb972b40000gn/T/ipykernel_12834/610630523.py:15: FutureWarning: The frame.append method is deprecated and will be removed from pandas in a future version. Use pandas.concat instead.\n",
      "  code_df = code_df.append(temp, ignore_index=True)\n",
      "/var/folders/20/39xftvjd67d7x2ykjzb972b40000gn/T/ipykernel_12834/610630523.py:15: FutureWarning: The frame.append method is deprecated and will be removed from pandas in a future version. Use pandas.concat instead.\n",
      "  code_df = code_df.append(temp, ignore_index=True)\n",
      "/var/folders/20/39xftvjd67d7x2ykjzb972b40000gn/T/ipykernel_12834/610630523.py:15: FutureWarning: The frame.append method is deprecated and will be removed from pandas in a future version. Use pandas.concat instead.\n",
      "  code_df = code_df.append(temp, ignore_index=True)\n",
      "/var/folders/20/39xftvjd67d7x2ykjzb972b40000gn/T/ipykernel_12834/610630523.py:15: FutureWarning: The frame.append method is deprecated and will be removed from pandas in a future version. Use pandas.concat instead.\n",
      "  code_df = code_df.append(temp, ignore_index=True)\n",
      "/var/folders/20/39xftvjd67d7x2ykjzb972b40000gn/T/ipykernel_12834/610630523.py:15: FutureWarning: The frame.append method is deprecated and will be removed from pandas in a future version. Use pandas.concat instead.\n",
      "  code_df = code_df.append(temp, ignore_index=True)\n",
      "/var/folders/20/39xftvjd67d7x2ykjzb972b40000gn/T/ipykernel_12834/610630523.py:15: FutureWarning: The frame.append method is deprecated and will be removed from pandas in a future version. Use pandas.concat instead.\n",
      "  code_df = code_df.append(temp, ignore_index=True)\n",
      "/var/folders/20/39xftvjd67d7x2ykjzb972b40000gn/T/ipykernel_12834/610630523.py:15: FutureWarning: The frame.append method is deprecated and will be removed from pandas in a future version. Use pandas.concat instead.\n",
      "  code_df = code_df.append(temp, ignore_index=True)\n",
      "/var/folders/20/39xftvjd67d7x2ykjzb972b40000gn/T/ipykernel_12834/610630523.py:15: FutureWarning: The frame.append method is deprecated and will be removed from pandas in a future version. Use pandas.concat instead.\n",
      "  code_df = code_df.append(temp, ignore_index=True)\n",
      "/var/folders/20/39xftvjd67d7x2ykjzb972b40000gn/T/ipykernel_12834/610630523.py:15: FutureWarning: The frame.append method is deprecated and will be removed from pandas in a future version. Use pandas.concat instead.\n",
      "  code_df = code_df.append(temp, ignore_index=True)\n",
      "/var/folders/20/39xftvjd67d7x2ykjzb972b40000gn/T/ipykernel_12834/610630523.py:15: FutureWarning: The frame.append method is deprecated and will be removed from pandas in a future version. Use pandas.concat instead.\n",
      "  code_df = code_df.append(temp, ignore_index=True)\n",
      "/var/folders/20/39xftvjd67d7x2ykjzb972b40000gn/T/ipykernel_12834/610630523.py:15: FutureWarning: The frame.append method is deprecated and will be removed from pandas in a future version. Use pandas.concat instead.\n",
      "  code_df = code_df.append(temp, ignore_index=True)\n",
      "/var/folders/20/39xftvjd67d7x2ykjzb972b40000gn/T/ipykernel_12834/610630523.py:15: FutureWarning: The frame.append method is deprecated and will be removed from pandas in a future version. Use pandas.concat instead.\n",
      "  code_df = code_df.append(temp, ignore_index=True)\n",
      "/var/folders/20/39xftvjd67d7x2ykjzb972b40000gn/T/ipykernel_12834/610630523.py:15: FutureWarning: The frame.append method is deprecated and will be removed from pandas in a future version. Use pandas.concat instead.\n",
      "  code_df = code_df.append(temp, ignore_index=True)\n",
      "/var/folders/20/39xftvjd67d7x2ykjzb972b40000gn/T/ipykernel_12834/610630523.py:15: FutureWarning: The frame.append method is deprecated and will be removed from pandas in a future version. Use pandas.concat instead.\n",
      "  code_df = code_df.append(temp, ignore_index=True)\n",
      "/var/folders/20/39xftvjd67d7x2ykjzb972b40000gn/T/ipykernel_12834/610630523.py:15: FutureWarning: The frame.append method is deprecated and will be removed from pandas in a future version. Use pandas.concat instead.\n",
      "  code_df = code_df.append(temp, ignore_index=True)\n",
      "/var/folders/20/39xftvjd67d7x2ykjzb972b40000gn/T/ipykernel_12834/610630523.py:15: FutureWarning: The frame.append method is deprecated and will be removed from pandas in a future version. Use pandas.concat instead.\n",
      "  code_df = code_df.append(temp, ignore_index=True)\n",
      "/var/folders/20/39xftvjd67d7x2ykjzb972b40000gn/T/ipykernel_12834/610630523.py:15: FutureWarning: The frame.append method is deprecated and will be removed from pandas in a future version. Use pandas.concat instead.\n",
      "  code_df = code_df.append(temp, ignore_index=True)\n",
      "/var/folders/20/39xftvjd67d7x2ykjzb972b40000gn/T/ipykernel_12834/610630523.py:15: FutureWarning: The frame.append method is deprecated and will be removed from pandas in a future version. Use pandas.concat instead.\n",
      "  code_df = code_df.append(temp, ignore_index=True)\n",
      "/var/folders/20/39xftvjd67d7x2ykjzb972b40000gn/T/ipykernel_12834/610630523.py:15: FutureWarning: The frame.append method is deprecated and will be removed from pandas in a future version. Use pandas.concat instead.\n",
      "  code_df = code_df.append(temp, ignore_index=True)\n",
      "/var/folders/20/39xftvjd67d7x2ykjzb972b40000gn/T/ipykernel_12834/610630523.py:15: FutureWarning: The frame.append method is deprecated and will be removed from pandas in a future version. Use pandas.concat instead.\n",
      "  code_df = code_df.append(temp, ignore_index=True)\n",
      "/var/folders/20/39xftvjd67d7x2ykjzb972b40000gn/T/ipykernel_12834/610630523.py:15: FutureWarning: The frame.append method is deprecated and will be removed from pandas in a future version. Use pandas.concat instead.\n",
      "  code_df = code_df.append(temp, ignore_index=True)\n",
      "/var/folders/20/39xftvjd67d7x2ykjzb972b40000gn/T/ipykernel_12834/610630523.py:15: FutureWarning: The frame.append method is deprecated and will be removed from pandas in a future version. Use pandas.concat instead.\n",
      "  code_df = code_df.append(temp, ignore_index=True)\n",
      "/var/folders/20/39xftvjd67d7x2ykjzb972b40000gn/T/ipykernel_12834/610630523.py:15: FutureWarning: The frame.append method is deprecated and will be removed from pandas in a future version. Use pandas.concat instead.\n",
      "  code_df = code_df.append(temp, ignore_index=True)\n",
      "/var/folders/20/39xftvjd67d7x2ykjzb972b40000gn/T/ipykernel_12834/610630523.py:15: FutureWarning: The frame.append method is deprecated and will be removed from pandas in a future version. Use pandas.concat instead.\n",
      "  code_df = code_df.append(temp, ignore_index=True)\n",
      "/var/folders/20/39xftvjd67d7x2ykjzb972b40000gn/T/ipykernel_12834/610630523.py:15: FutureWarning: The frame.append method is deprecated and will be removed from pandas in a future version. Use pandas.concat instead.\n",
      "  code_df = code_df.append(temp, ignore_index=True)\n",
      "/var/folders/20/39xftvjd67d7x2ykjzb972b40000gn/T/ipykernel_12834/610630523.py:15: FutureWarning: The frame.append method is deprecated and will be removed from pandas in a future version. Use pandas.concat instead.\n",
      "  code_df = code_df.append(temp, ignore_index=True)\n",
      "/var/folders/20/39xftvjd67d7x2ykjzb972b40000gn/T/ipykernel_12834/610630523.py:15: FutureWarning: The frame.append method is deprecated and will be removed from pandas in a future version. Use pandas.concat instead.\n",
      "  code_df = code_df.append(temp, ignore_index=True)\n"
     ]
    },
    {
     "name": "stderr",
     "output_type": "stream",
     "text": [
      "/var/folders/20/39xftvjd67d7x2ykjzb972b40000gn/T/ipykernel_12834/610630523.py:15: FutureWarning: The frame.append method is deprecated and will be removed from pandas in a future version. Use pandas.concat instead.\n",
      "  code_df = code_df.append(temp, ignore_index=True)\n",
      "/var/folders/20/39xftvjd67d7x2ykjzb972b40000gn/T/ipykernel_12834/610630523.py:15: FutureWarning: The frame.append method is deprecated and will be removed from pandas in a future version. Use pandas.concat instead.\n",
      "  code_df = code_df.append(temp, ignore_index=True)\n",
      "/var/folders/20/39xftvjd67d7x2ykjzb972b40000gn/T/ipykernel_12834/610630523.py:15: FutureWarning: The frame.append method is deprecated and will be removed from pandas in a future version. Use pandas.concat instead.\n",
      "  code_df = code_df.append(temp, ignore_index=True)\n",
      "/var/folders/20/39xftvjd67d7x2ykjzb972b40000gn/T/ipykernel_12834/610630523.py:15: FutureWarning: The frame.append method is deprecated and will be removed from pandas in a future version. Use pandas.concat instead.\n",
      "  code_df = code_df.append(temp, ignore_index=True)\n",
      "/var/folders/20/39xftvjd67d7x2ykjzb972b40000gn/T/ipykernel_12834/610630523.py:15: FutureWarning: The frame.append method is deprecated and will be removed from pandas in a future version. Use pandas.concat instead.\n",
      "  code_df = code_df.append(temp, ignore_index=True)\n",
      "/var/folders/20/39xftvjd67d7x2ykjzb972b40000gn/T/ipykernel_12834/610630523.py:15: FutureWarning: The frame.append method is deprecated and will be removed from pandas in a future version. Use pandas.concat instead.\n",
      "  code_df = code_df.append(temp, ignore_index=True)\n",
      "/var/folders/20/39xftvjd67d7x2ykjzb972b40000gn/T/ipykernel_12834/610630523.py:15: FutureWarning: The frame.append method is deprecated and will be removed from pandas in a future version. Use pandas.concat instead.\n",
      "  code_df = code_df.append(temp, ignore_index=True)\n",
      "/var/folders/20/39xftvjd67d7x2ykjzb972b40000gn/T/ipykernel_12834/610630523.py:15: FutureWarning: The frame.append method is deprecated and will be removed from pandas in a future version. Use pandas.concat instead.\n",
      "  code_df = code_df.append(temp, ignore_index=True)\n",
      "/var/folders/20/39xftvjd67d7x2ykjzb972b40000gn/T/ipykernel_12834/610630523.py:15: FutureWarning: The frame.append method is deprecated and will be removed from pandas in a future version. Use pandas.concat instead.\n",
      "  code_df = code_df.append(temp, ignore_index=True)\n",
      "/var/folders/20/39xftvjd67d7x2ykjzb972b40000gn/T/ipykernel_12834/610630523.py:15: FutureWarning: The frame.append method is deprecated and will be removed from pandas in a future version. Use pandas.concat instead.\n",
      "  code_df = code_df.append(temp, ignore_index=True)\n",
      "/var/folders/20/39xftvjd67d7x2ykjzb972b40000gn/T/ipykernel_12834/610630523.py:15: FutureWarning: The frame.append method is deprecated and will be removed from pandas in a future version. Use pandas.concat instead.\n",
      "  code_df = code_df.append(temp, ignore_index=True)\n",
      "/var/folders/20/39xftvjd67d7x2ykjzb972b40000gn/T/ipykernel_12834/610630523.py:15: FutureWarning: The frame.append method is deprecated and will be removed from pandas in a future version. Use pandas.concat instead.\n",
      "  code_df = code_df.append(temp, ignore_index=True)\n",
      "/var/folders/20/39xftvjd67d7x2ykjzb972b40000gn/T/ipykernel_12834/610630523.py:15: FutureWarning: The frame.append method is deprecated and will be removed from pandas in a future version. Use pandas.concat instead.\n",
      "  code_df = code_df.append(temp, ignore_index=True)\n",
      "/var/folders/20/39xftvjd67d7x2ykjzb972b40000gn/T/ipykernel_12834/610630523.py:15: FutureWarning: The frame.append method is deprecated and will be removed from pandas in a future version. Use pandas.concat instead.\n",
      "  code_df = code_df.append(temp, ignore_index=True)\n",
      "/var/folders/20/39xftvjd67d7x2ykjzb972b40000gn/T/ipykernel_12834/610630523.py:15: FutureWarning: The frame.append method is deprecated and will be removed from pandas in a future version. Use pandas.concat instead.\n",
      "  code_df = code_df.append(temp, ignore_index=True)\n",
      "/var/folders/20/39xftvjd67d7x2ykjzb972b40000gn/T/ipykernel_12834/610630523.py:15: FutureWarning: The frame.append method is deprecated and will be removed from pandas in a future version. Use pandas.concat instead.\n",
      "  code_df = code_df.append(temp, ignore_index=True)\n",
      "/var/folders/20/39xftvjd67d7x2ykjzb972b40000gn/T/ipykernel_12834/610630523.py:15: FutureWarning: The frame.append method is deprecated and will be removed from pandas in a future version. Use pandas.concat instead.\n",
      "  code_df = code_df.append(temp, ignore_index=True)\n",
      "/var/folders/20/39xftvjd67d7x2ykjzb972b40000gn/T/ipykernel_12834/610630523.py:15: FutureWarning: The frame.append method is deprecated and will be removed from pandas in a future version. Use pandas.concat instead.\n",
      "  code_df = code_df.append(temp, ignore_index=True)\n",
      "/var/folders/20/39xftvjd67d7x2ykjzb972b40000gn/T/ipykernel_12834/610630523.py:15: FutureWarning: The frame.append method is deprecated and will be removed from pandas in a future version. Use pandas.concat instead.\n",
      "  code_df = code_df.append(temp, ignore_index=True)\n",
      "/var/folders/20/39xftvjd67d7x2ykjzb972b40000gn/T/ipykernel_12834/610630523.py:15: FutureWarning: The frame.append method is deprecated and will be removed from pandas in a future version. Use pandas.concat instead.\n",
      "  code_df = code_df.append(temp, ignore_index=True)\n",
      "/var/folders/20/39xftvjd67d7x2ykjzb972b40000gn/T/ipykernel_12834/610630523.py:15: FutureWarning: The frame.append method is deprecated and will be removed from pandas in a future version. Use pandas.concat instead.\n",
      "  code_df = code_df.append(temp, ignore_index=True)\n",
      "/var/folders/20/39xftvjd67d7x2ykjzb972b40000gn/T/ipykernel_12834/610630523.py:15: FutureWarning: The frame.append method is deprecated and will be removed from pandas in a future version. Use pandas.concat instead.\n",
      "  code_df = code_df.append(temp, ignore_index=True)\n",
      "/var/folders/20/39xftvjd67d7x2ykjzb972b40000gn/T/ipykernel_12834/610630523.py:15: FutureWarning: The frame.append method is deprecated and will be removed from pandas in a future version. Use pandas.concat instead.\n",
      "  code_df = code_df.append(temp, ignore_index=True)\n",
      "/var/folders/20/39xftvjd67d7x2ykjzb972b40000gn/T/ipykernel_12834/610630523.py:15: FutureWarning: The frame.append method is deprecated and will be removed from pandas in a future version. Use pandas.concat instead.\n",
      "  code_df = code_df.append(temp, ignore_index=True)\n",
      "/var/folders/20/39xftvjd67d7x2ykjzb972b40000gn/T/ipykernel_12834/610630523.py:15: FutureWarning: The frame.append method is deprecated and will be removed from pandas in a future version. Use pandas.concat instead.\n",
      "  code_df = code_df.append(temp, ignore_index=True)\n",
      "/var/folders/20/39xftvjd67d7x2ykjzb972b40000gn/T/ipykernel_12834/610630523.py:15: FutureWarning: The frame.append method is deprecated and will be removed from pandas in a future version. Use pandas.concat instead.\n",
      "  code_df = code_df.append(temp, ignore_index=True)\n",
      "/var/folders/20/39xftvjd67d7x2ykjzb972b40000gn/T/ipykernel_12834/610630523.py:15: FutureWarning: The frame.append method is deprecated and will be removed from pandas in a future version. Use pandas.concat instead.\n",
      "  code_df = code_df.append(temp, ignore_index=True)\n",
      "/var/folders/20/39xftvjd67d7x2ykjzb972b40000gn/T/ipykernel_12834/610630523.py:15: FutureWarning: The frame.append method is deprecated and will be removed from pandas in a future version. Use pandas.concat instead.\n",
      "  code_df = code_df.append(temp, ignore_index=True)\n",
      "/var/folders/20/39xftvjd67d7x2ykjzb972b40000gn/T/ipykernel_12834/610630523.py:15: FutureWarning: The frame.append method is deprecated and will be removed from pandas in a future version. Use pandas.concat instead.\n",
      "  code_df = code_df.append(temp, ignore_index=True)\n",
      "/var/folders/20/39xftvjd67d7x2ykjzb972b40000gn/T/ipykernel_12834/610630523.py:15: FutureWarning: The frame.append method is deprecated and will be removed from pandas in a future version. Use pandas.concat instead.\n",
      "  code_df = code_df.append(temp, ignore_index=True)\n",
      "/var/folders/20/39xftvjd67d7x2ykjzb972b40000gn/T/ipykernel_12834/610630523.py:15: FutureWarning: The frame.append method is deprecated and will be removed from pandas in a future version. Use pandas.concat instead.\n",
      "  code_df = code_df.append(temp, ignore_index=True)\n",
      "/var/folders/20/39xftvjd67d7x2ykjzb972b40000gn/T/ipykernel_12834/610630523.py:15: FutureWarning: The frame.append method is deprecated and will be removed from pandas in a future version. Use pandas.concat instead.\n",
      "  code_df = code_df.append(temp, ignore_index=True)\n"
     ]
    },
    {
     "name": "stderr",
     "output_type": "stream",
     "text": [
      "/var/folders/20/39xftvjd67d7x2ykjzb972b40000gn/T/ipykernel_12834/610630523.py:15: FutureWarning: The frame.append method is deprecated and will be removed from pandas in a future version. Use pandas.concat instead.\n",
      "  code_df = code_df.append(temp, ignore_index=True)\n",
      "/var/folders/20/39xftvjd67d7x2ykjzb972b40000gn/T/ipykernel_12834/610630523.py:15: FutureWarning: The frame.append method is deprecated and will be removed from pandas in a future version. Use pandas.concat instead.\n",
      "  code_df = code_df.append(temp, ignore_index=True)\n",
      "/var/folders/20/39xftvjd67d7x2ykjzb972b40000gn/T/ipykernel_12834/610630523.py:15: FutureWarning: The frame.append method is deprecated and will be removed from pandas in a future version. Use pandas.concat instead.\n",
      "  code_df = code_df.append(temp, ignore_index=True)\n",
      "/var/folders/20/39xftvjd67d7x2ykjzb972b40000gn/T/ipykernel_12834/610630523.py:15: FutureWarning: The frame.append method is deprecated and will be removed from pandas in a future version. Use pandas.concat instead.\n",
      "  code_df = code_df.append(temp, ignore_index=True)\n",
      "/var/folders/20/39xftvjd67d7x2ykjzb972b40000gn/T/ipykernel_12834/610630523.py:15: FutureWarning: The frame.append method is deprecated and will be removed from pandas in a future version. Use pandas.concat instead.\n",
      "  code_df = code_df.append(temp, ignore_index=True)\n",
      "/var/folders/20/39xftvjd67d7x2ykjzb972b40000gn/T/ipykernel_12834/610630523.py:15: FutureWarning: The frame.append method is deprecated and will be removed from pandas in a future version. Use pandas.concat instead.\n",
      "  code_df = code_df.append(temp, ignore_index=True)\n",
      "/var/folders/20/39xftvjd67d7x2ykjzb972b40000gn/T/ipykernel_12834/610630523.py:15: FutureWarning: The frame.append method is deprecated and will be removed from pandas in a future version. Use pandas.concat instead.\n",
      "  code_df = code_df.append(temp, ignore_index=True)\n",
      "/var/folders/20/39xftvjd67d7x2ykjzb972b40000gn/T/ipykernel_12834/610630523.py:15: FutureWarning: The frame.append method is deprecated and will be removed from pandas in a future version. Use pandas.concat instead.\n",
      "  code_df = code_df.append(temp, ignore_index=True)\n",
      "/var/folders/20/39xftvjd67d7x2ykjzb972b40000gn/T/ipykernel_12834/610630523.py:15: FutureWarning: The frame.append method is deprecated and will be removed from pandas in a future version. Use pandas.concat instead.\n",
      "  code_df = code_df.append(temp, ignore_index=True)\n",
      "/var/folders/20/39xftvjd67d7x2ykjzb972b40000gn/T/ipykernel_12834/610630523.py:15: FutureWarning: The frame.append method is deprecated and will be removed from pandas in a future version. Use pandas.concat instead.\n",
      "  code_df = code_df.append(temp, ignore_index=True)\n",
      "/var/folders/20/39xftvjd67d7x2ykjzb972b40000gn/T/ipykernel_12834/610630523.py:15: FutureWarning: The frame.append method is deprecated and will be removed from pandas in a future version. Use pandas.concat instead.\n",
      "  code_df = code_df.append(temp, ignore_index=True)\n",
      "/var/folders/20/39xftvjd67d7x2ykjzb972b40000gn/T/ipykernel_12834/610630523.py:15: FutureWarning: The frame.append method is deprecated and will be removed from pandas in a future version. Use pandas.concat instead.\n",
      "  code_df = code_df.append(temp, ignore_index=True)\n",
      "/var/folders/20/39xftvjd67d7x2ykjzb972b40000gn/T/ipykernel_12834/610630523.py:15: FutureWarning: The frame.append method is deprecated and will be removed from pandas in a future version. Use pandas.concat instead.\n",
      "  code_df = code_df.append(temp, ignore_index=True)\n",
      "/var/folders/20/39xftvjd67d7x2ykjzb972b40000gn/T/ipykernel_12834/610630523.py:15: FutureWarning: The frame.append method is deprecated and will be removed from pandas in a future version. Use pandas.concat instead.\n",
      "  code_df = code_df.append(temp, ignore_index=True)\n",
      "/var/folders/20/39xftvjd67d7x2ykjzb972b40000gn/T/ipykernel_12834/610630523.py:15: FutureWarning: The frame.append method is deprecated and will be removed from pandas in a future version. Use pandas.concat instead.\n",
      "  code_df = code_df.append(temp, ignore_index=True)\n",
      "/var/folders/20/39xftvjd67d7x2ykjzb972b40000gn/T/ipykernel_12834/610630523.py:15: FutureWarning: The frame.append method is deprecated and will be removed from pandas in a future version. Use pandas.concat instead.\n",
      "  code_df = code_df.append(temp, ignore_index=True)\n",
      "/var/folders/20/39xftvjd67d7x2ykjzb972b40000gn/T/ipykernel_12834/610630523.py:15: FutureWarning: The frame.append method is deprecated and will be removed from pandas in a future version. Use pandas.concat instead.\n",
      "  code_df = code_df.append(temp, ignore_index=True)\n",
      "/var/folders/20/39xftvjd67d7x2ykjzb972b40000gn/T/ipykernel_12834/610630523.py:15: FutureWarning: The frame.append method is deprecated and will be removed from pandas in a future version. Use pandas.concat instead.\n",
      "  code_df = code_df.append(temp, ignore_index=True)\n",
      "/var/folders/20/39xftvjd67d7x2ykjzb972b40000gn/T/ipykernel_12834/610630523.py:15: FutureWarning: The frame.append method is deprecated and will be removed from pandas in a future version. Use pandas.concat instead.\n",
      "  code_df = code_df.append(temp, ignore_index=True)\n",
      "/var/folders/20/39xftvjd67d7x2ykjzb972b40000gn/T/ipykernel_12834/610630523.py:15: FutureWarning: The frame.append method is deprecated and will be removed from pandas in a future version. Use pandas.concat instead.\n",
      "  code_df = code_df.append(temp, ignore_index=True)\n",
      "/var/folders/20/39xftvjd67d7x2ykjzb972b40000gn/T/ipykernel_12834/610630523.py:15: FutureWarning: The frame.append method is deprecated and will be removed from pandas in a future version. Use pandas.concat instead.\n",
      "  code_df = code_df.append(temp, ignore_index=True)\n",
      "/var/folders/20/39xftvjd67d7x2ykjzb972b40000gn/T/ipykernel_12834/610630523.py:15: FutureWarning: The frame.append method is deprecated and will be removed from pandas in a future version. Use pandas.concat instead.\n",
      "  code_df = code_df.append(temp, ignore_index=True)\n",
      "/var/folders/20/39xftvjd67d7x2ykjzb972b40000gn/T/ipykernel_12834/610630523.py:15: FutureWarning: The frame.append method is deprecated and will be removed from pandas in a future version. Use pandas.concat instead.\n",
      "  code_df = code_df.append(temp, ignore_index=True)\n",
      "/var/folders/20/39xftvjd67d7x2ykjzb972b40000gn/T/ipykernel_12834/610630523.py:15: FutureWarning: The frame.append method is deprecated and will be removed from pandas in a future version. Use pandas.concat instead.\n",
      "  code_df = code_df.append(temp, ignore_index=True)\n",
      "/var/folders/20/39xftvjd67d7x2ykjzb972b40000gn/T/ipykernel_12834/610630523.py:15: FutureWarning: The frame.append method is deprecated and will be removed from pandas in a future version. Use pandas.concat instead.\n",
      "  code_df = code_df.append(temp, ignore_index=True)\n",
      "/var/folders/20/39xftvjd67d7x2ykjzb972b40000gn/T/ipykernel_12834/610630523.py:15: FutureWarning: The frame.append method is deprecated and will be removed from pandas in a future version. Use pandas.concat instead.\n",
      "  code_df = code_df.append(temp, ignore_index=True)\n",
      "/var/folders/20/39xftvjd67d7x2ykjzb972b40000gn/T/ipykernel_12834/610630523.py:15: FutureWarning: The frame.append method is deprecated and will be removed from pandas in a future version. Use pandas.concat instead.\n",
      "  code_df = code_df.append(temp, ignore_index=True)\n",
      "/var/folders/20/39xftvjd67d7x2ykjzb972b40000gn/T/ipykernel_12834/610630523.py:15: FutureWarning: The frame.append method is deprecated and will be removed from pandas in a future version. Use pandas.concat instead.\n",
      "  code_df = code_df.append(temp, ignore_index=True)\n",
      "/var/folders/20/39xftvjd67d7x2ykjzb972b40000gn/T/ipykernel_12834/610630523.py:15: FutureWarning: The frame.append method is deprecated and will be removed from pandas in a future version. Use pandas.concat instead.\n",
      "  code_df = code_df.append(temp, ignore_index=True)\n",
      "/var/folders/20/39xftvjd67d7x2ykjzb972b40000gn/T/ipykernel_12834/610630523.py:15: FutureWarning: The frame.append method is deprecated and will be removed from pandas in a future version. Use pandas.concat instead.\n",
      "  code_df = code_df.append(temp, ignore_index=True)\n",
      "/var/folders/20/39xftvjd67d7x2ykjzb972b40000gn/T/ipykernel_12834/610630523.py:15: FutureWarning: The frame.append method is deprecated and will be removed from pandas in a future version. Use pandas.concat instead.\n",
      "  code_df = code_df.append(temp, ignore_index=True)\n",
      "/var/folders/20/39xftvjd67d7x2ykjzb972b40000gn/T/ipykernel_12834/610630523.py:15: FutureWarning: The frame.append method is deprecated and will be removed from pandas in a future version. Use pandas.concat instead.\n",
      "  code_df = code_df.append(temp, ignore_index=True)\n"
     ]
    },
    {
     "name": "stderr",
     "output_type": "stream",
     "text": [
      "/var/folders/20/39xftvjd67d7x2ykjzb972b40000gn/T/ipykernel_12834/610630523.py:15: FutureWarning: The frame.append method is deprecated and will be removed from pandas in a future version. Use pandas.concat instead.\n",
      "  code_df = code_df.append(temp, ignore_index=True)\n",
      "/var/folders/20/39xftvjd67d7x2ykjzb972b40000gn/T/ipykernel_12834/610630523.py:15: FutureWarning: The frame.append method is deprecated and will be removed from pandas in a future version. Use pandas.concat instead.\n",
      "  code_df = code_df.append(temp, ignore_index=True)\n",
      "/var/folders/20/39xftvjd67d7x2ykjzb972b40000gn/T/ipykernel_12834/610630523.py:15: FutureWarning: The frame.append method is deprecated and will be removed from pandas in a future version. Use pandas.concat instead.\n",
      "  code_df = code_df.append(temp, ignore_index=True)\n"
     ]
    }
   ],
   "source": [
    "import os \n",
    "import pandas as pd\n",
    "\n",
    "REPO_NAME = 'repo_name'\n",
    "FILE_NAME = 'file_name'\n",
    "LANG = 'language'\n",
    "CODE = 'code'\n",
    "valid_languages = ['Java', 'Python', 'Shell', 'C++', 'Go']\n",
    "def get_code_df(dirr):\n",
    "    code_df = pd.DataFrame(columns=[REPO_NAME, FILE_NAME, LANG, CODE])\n",
    "    for addr, folders, files in os.walk(dirr):\n",
    "        if not folders:\n",
    "            temp = get_files(addr, files)\n",
    "            if type(temp) != bool:\n",
    "                code_df = code_df.append(temp, ignore_index=True)\n",
    "            else:\n",
    "                pass\n",
    "    return code_df\n",
    "            \n",
    "\n",
    "def get_files(folder_addr, file_names:list):\n",
    "    result = []\n",
    "    repo_name = folder_addr.split('/')[-2]\n",
    "    language = folder_addr.split('/')[-1]\n",
    "    if language not in valid_languages:\n",
    "        return False\n",
    "    for file in file_names:\n",
    "        splitted_name = file.split('.')\n",
    "        name = '.'.join(splitted_name[0:-2])\n",
    "        code = Path(folder_addr+'/'+file).read_text()\n",
    "        result.append((repo_name, name, language, code))\n",
    "    return pd.DataFrame(result ,columns=[REPO_NAME, FILE_NAME, LANG, CODE])\n",
    "    \n",
    "data = get_code_df('preprocessed_data')\n",
    "data.to_csv('code_v1.csv')"
   ]
  },
  {
   "cell_type": "code",
   "execution_count": 139,
   "metadata": {
    "id": "v3WY1Ec6YSmi"
   },
   "outputs": [],
   "source": [
    "repos_dict = json.loads(Path('repos_dict.json').read_text())"
   ]
  },
  {
   "cell_type": "code",
   "execution_count": 140,
   "metadata": {
    "id": "7M8q9Q9lYrdZ"
   },
   "outputs": [],
   "source": [
    "def get_concatanated(repo):\n",
    "    text = ''\n",
    "    for language in valid_languages:\n",
    "        path = Path(f'preprocessed_data/{repo}/{language}')\n",
    "        if not path.exists():\n",
    "            continue\n",
    "        for p in path.iterdir():\n",
    "            code = p.read_text()\n",
    "            text += code\n",
    "            text += ' '\n",
    "    return text\n",
    "\n",
    "def get_valid_test():\n",
    "    result = []\n",
    "    for repo in repos_dict:\n",
    "        if repo['language'] not in valid_languages:\n",
    "            continue\n",
    "        code = get_concatanated(repo['dir_name'])\n",
    "        result.append((repo['dir_name'], repo['url'], repo['language'], code))\n",
    "    return pd.DataFrame(result ,columns=[REPO_NAME, FILE_NAME, LANG, CODE])\n",
    "\n",
    "repos_df = get_valid_test()"
   ]
  },
  {
   "cell_type": "code",
   "execution_count": 159,
   "metadata": {
    "id": "VmAkzMe77Gua"
   },
   "outputs": [
    {
     "name": "stderr",
     "output_type": "stream",
     "text": [
      "/var/folders/20/39xftvjd67d7x2ykjzb972b40000gn/T/ipykernel_12834/688344608.py:4: FutureWarning: The frame.append method is deprecated and will be removed from pandas in a future version. Use pandas.concat instead.\n",
      "  part_of_data = part_of_data.append(data.loc[data[LANG] == language][0:count], ignore_index = True)\n",
      "/var/folders/20/39xftvjd67d7x2ykjzb972b40000gn/T/ipykernel_12834/688344608.py:8: FutureWarning: The frame.append method is deprecated and will be removed from pandas in a future version. Use pandas.concat instead.\n",
      "  data1 = get_part_of_data(counts).append(repos_df, ignore_index=True)\n"
     ]
    }
   ],
   "source": [
    "def get_part_of_data(counts):\n",
    "    part_of_data =  pd.DataFrame(columns=[REPO_NAME, FILE_NAME, LANG, CODE])\n",
    "    for count, language in zip(counts, valid_languages):\n",
    "        part_of_data = part_of_data.append(data.loc[data[LANG] == language][0:count], ignore_index = True)\n",
    "    return part_of_data\n",
    "\n",
    "counts = [200, 200, 200, 200, 200]\n",
    "data1 = get_part_of_data(counts).append(repos_df, ignore_index=True)\n",
    "true_labels = [label for label, count in enumerate(counts) for _ in range(count)]"
   ]
  },
  {
   "cell_type": "markdown",
   "metadata": {
    "id": "0d7tknxu7NQb"
   },
   "source": [
    "## Clustring "
   ]
  },
  {
   "cell_type": "code",
   "execution_count": 160,
   "metadata": {
    "id": "hZwbFulXEOxV"
   },
   "outputs": [],
   "source": [
    "def get_vectorized_data(data):\n",
    "    '''\n",
    "    :param data: a list of strings, each string is a code that tokens are concatenated with one space\n",
    "    :return:\n",
    "    '''\n",
    "    vectorizer = TfidfVectorizer(ngram_range=(1,2), stop_words=None, norm='l2')\n",
    "    X = vectorizer.fit_transform(data)\n",
    "    return X"
   ]
  },
  {
   "cell_type": "code",
   "execution_count": 165,
   "metadata": {
    "id": "nrZ-YW4hG2Hu"
   },
   "outputs": [],
   "source": [
    "total_vectorized_data = get_vectorized_data(data1[CODE])\n",
    "vectorized_data = total_vectorized_data[:1000, :]"
   ]
  },
  {
   "cell_type": "code",
   "execution_count": 166,
   "metadata": {
    "colab": {
     "base_uri": "https://localhost:8080/"
    },
    "id": "Nd8FzFUc7hzr",
    "outputId": "825246e2-6f52-4c45-bda1-5a5f5577f467"
   },
   "outputs": [
    {
     "data": {
      "text/plain": [
       "(1000, 854119)"
      ]
     },
     "execution_count": 166,
     "metadata": {},
     "output_type": "execute_result"
    }
   ],
   "source": [
    "vectorized_data.shape"
   ]
  },
  {
   "cell_type": "code",
   "execution_count": 172,
   "metadata": {
    "id": "aQov5MfuESk1"
   },
   "outputs": [],
   "source": [
    "def get_kmeans(vec_data):\n",
    "    kmeans = KMeans(n_clusters=5, init='k-means++', n_init=50, random_state=None).fit(vec_data)\n",
    "    return kmeans\n",
    "\n",
    "def predict_kmeans(kmeans, data):\n",
    "    return kmeans.predict(data)"
   ]
  },
  {
   "cell_type": "code",
   "execution_count": 173,
   "metadata": {
    "id": "f1QusmnySI9Y"
   },
   "outputs": [],
   "source": [
    "kmeans = get_kmeans(vectorized_data)"
   ]
  },
  {
   "cell_type": "code",
   "execution_count": 174,
   "metadata": {
    "id": "bDP6xKu9SxEa"
   },
   "outputs": [],
   "source": [
    "prediction = predict_kmeans(kmeans, vectorized_data)"
   ]
  },
  {
   "cell_type": "markdown",
   "metadata": {
    "id": "CxcLLrhqhlu9"
   },
   "source": [
    "## Calculate purity score\n",
    "The purity score is acceptable. "
   ]
  },
  {
   "cell_type": "code",
   "execution_count": 175,
   "metadata": {
    "id": "YwZ4y0cIEUFt"
   },
   "outputs": [],
   "source": [
    "def purity_score(y_true, y_pred):\n",
    "    y_voted_labels = np.zeros(y_true.shape)\n",
    "    labels = np.unique(y_true)\n",
    "    ordered_labels = np.arange(labels.shape[0])\n",
    "    for k in range(labels.shape[0]):\n",
    "        y_true[y_true==labels[k]] = ordered_labels[k]\n",
    "    labels = np.unique(y_true)\n",
    "    bins = np.concatenate((labels, [np.max(labels)+1]), axis=0)\n",
    "\n",
    "    for cluster in np.unique(y_pred):\n",
    "        hist, _ = np.histogram(y_true[y_pred==cluster], bins=bins)\n",
    "        winner = np.argmax(hist)\n",
    "        y_voted_labels[y_pred==cluster] = winner\n",
    "    return accuracy_score(y_true, y_voted_labels)"
   ]
  },
  {
   "cell_type": "code",
   "execution_count": 176,
   "metadata": {
    "colab": {
     "base_uri": "https://localhost:8080/"
    },
    "id": "GvSoHWkRGznM",
    "outputId": "f0151f6a-a5ca-4009-b10b-7e5bfeb1b4a1"
   },
   "outputs": [
    {
     "data": {
      "text/plain": [
       "0.642"
      ]
     },
     "execution_count": 176,
     "metadata": {},
     "output_type": "execute_result"
    }
   ],
   "source": [
    "purity_score(np.array(true_labels), kmeans.labels_)"
   ]
  },
  {
   "cell_type": "markdown",
   "metadata": {
    "id": "NyQwWGqifpQL"
   },
   "source": [
    "## Visualizer"
   ]
  },
  {
   "cell_type": "code",
   "execution_count": 177,
   "metadata": {
    "id": "OIyvZUaeEVq0"
   },
   "outputs": [],
   "source": [
    "from yellowbrick.text import TSNEVisualizer\n",
    "\n",
    "def plotted_scatter(vectorized_data, label):\n",
    "    tsne = TSNEVisualizer()\n",
    "    tsne.fit(vectorized_data, label)\n",
    "    tsne.show()"
   ]
  },
  {
   "cell_type": "markdown",
   "metadata": {
    "id": "wjWkawqMfdef"
   },
   "source": [
    "<div dir= \"rtl\">\n",
    "در دو تصویر زیر، نمودار گرافی مربوط به لیبل های اصلی و حدس زده شده بررسی میشود. همانطور که دیده میشود، به طور نسبی میتوان گفت که کلاسترینگ انحام شده مطابق با دسته های اصلی است. \n",
    "</div>"
   ]
  },
  {
   "cell_type": "code",
   "execution_count": 178,
   "metadata": {
    "colab": {
     "base_uri": "https://localhost:8080/",
     "height": 528
    },
    "id": "SDfifB8HL-nR",
    "outputId": "85a1dfb1-f964-469c-d85d-a2ab1cba83f8"
   },
   "outputs": [
    {
     "name": "stderr",
     "output_type": "stream",
     "text": [
      "/Library/Frameworks/Python.framework/Versions/3.9/lib/python3.9/site-packages/sklearn/manifold/_t_sne.py:780: FutureWarning: The default initialization in TSNE will change from 'random' to 'pca' in 1.2.\n",
      "  warnings.warn(\n",
      "/Library/Frameworks/Python.framework/Versions/3.9/lib/python3.9/site-packages/sklearn/manifold/_t_sne.py:790: FutureWarning: The default learning rate in TSNE will change from 200.0 to 'auto' in 1.2.\n",
      "  warnings.warn(\n",
      "*c* argument looks like a single numeric RGB or RGBA sequence, which should be avoided as value-mapping will have precedence in case its length matches with *x* & *y*.  Please use the *color* keyword-argument or provide a 2D array with a single row if you intend to specify the same RGB or RGBA value for all points.\n",
      "*c* argument looks like a single numeric RGB or RGBA sequence, which should be avoided as value-mapping will have precedence in case its length matches with *x* & *y*.  Please use the *color* keyword-argument or provide a 2D array with a single row if you intend to specify the same RGB or RGBA value for all points.\n",
      "*c* argument looks like a single numeric RGB or RGBA sequence, which should be avoided as value-mapping will have precedence in case its length matches with *x* & *y*.  Please use the *color* keyword-argument or provide a 2D array with a single row if you intend to specify the same RGB or RGBA value for all points.\n",
      "*c* argument looks like a single numeric RGB or RGBA sequence, which should be avoided as value-mapping will have precedence in case its length matches with *x* & *y*.  Please use the *color* keyword-argument or provide a 2D array with a single row if you intend to specify the same RGB or RGBA value for all points.\n",
      "*c* argument looks like a single numeric RGB or RGBA sequence, which should be avoided as value-mapping will have precedence in case its length matches with *x* & *y*.  Please use the *color* keyword-argument or provide a 2D array with a single row if you intend to specify the same RGB or RGBA value for all points.\n"
     ]
    },
    {
     "data": {
      "image/png": "[encoded data removed]",
      "text/plain": [
       "<Figure size 576x396 with 1 Axes>"
      ]
     },
     "metadata": {},
     "output_type": "display_data"
    }
   ],
   "source": [
    "plotted_scatter(vectorized_data, prediction)"
   ]
  },
  {
   "cell_type": "code",
   "execution_count": 179,
   "metadata": {
    "colab": {
     "base_uri": "https://localhost:8080/",
     "height": 528
    },
    "id": "tI4ZDD5GZLVB",
    "outputId": "253100da-885a-4d73-c6ce-db63d17b270a"
   },
   "outputs": [
    {
     "name": "stderr",
     "output_type": "stream",
     "text": [
      "/Library/Frameworks/Python.framework/Versions/3.9/lib/python3.9/site-packages/sklearn/manifold/_t_sne.py:780: FutureWarning: The default initialization in TSNE will change from 'random' to 'pca' in 1.2.\n",
      "  warnings.warn(\n",
      "/Library/Frameworks/Python.framework/Versions/3.9/lib/python3.9/site-packages/sklearn/manifold/_t_sne.py:790: FutureWarning: The default learning rate in TSNE will change from 200.0 to 'auto' in 1.2.\n",
      "  warnings.warn(\n",
      "*c* argument looks like a single numeric RGB or RGBA sequence, which should be avoided as value-mapping will have precedence in case its length matches with *x* & *y*.  Please use the *color* keyword-argument or provide a 2D array with a single row if you intend to specify the same RGB or RGBA value for all points.\n",
      "*c* argument looks like a single numeric RGB or RGBA sequence, which should be avoided as value-mapping will have precedence in case its length matches with *x* & *y*.  Please use the *color* keyword-argument or provide a 2D array with a single row if you intend to specify the same RGB or RGBA value for all points.\n",
      "*c* argument looks like a single numeric RGB or RGBA sequence, which should be avoided as value-mapping will have precedence in case its length matches with *x* & *y*.  Please use the *color* keyword-argument or provide a 2D array with a single row if you intend to specify the same RGB or RGBA value for all points.\n",
      "*c* argument looks like a single numeric RGB or RGBA sequence, which should be avoided as value-mapping will have precedence in case its length matches with *x* & *y*.  Please use the *color* keyword-argument or provide a 2D array with a single row if you intend to specify the same RGB or RGBA value for all points.\n",
      "*c* argument looks like a single numeric RGB or RGBA sequence, which should be avoided as value-mapping will have precedence in case its length matches with *x* & *y*.  Please use the *color* keyword-argument or provide a 2D array with a single row if you intend to specify the same RGB or RGBA value for all points.\n"
     ]
    },
    {
     "data": {
      "image/png": "[encoded data removed]",
      "text/plain": [
       "<Figure size 576x396 with 1 Axes>"
      ]
     },
     "metadata": {},
     "output_type": "display_data"
    }
   ],
   "source": [
    "plotted_scatter(vectorized_data, true_labels)"
   ]
  },
  {
   "cell_type": "markdown",
   "metadata": {
    "id": "kwwq5qCleyg9"
   },
   "source": [
    "## Calculating RSS"
   ]
  },
  {
   "cell_type": "code",
   "execution_count": 180,
   "metadata": {
    "colab": {
     "base_uri": "https://localhost:8080/"
    },
    "id": "MaI9avAvaDVV",
    "outputId": "1b821ebf-d4a3-4c65-a260-0969a0ff5e7a"
   },
   "outputs": [
    {
     "data": {
      "text/plain": [
       "868.1702180338114"
      ]
     },
     "execution_count": 180,
     "metadata": {},
     "output_type": "execute_result"
    }
   ],
   "source": [
    "kmeans.inertia_"
   ]
  },
  {
   "cell_type": "markdown",
   "metadata": {
    "id": "8qN0usrkgzsU"
   },
   "source": [
    "## Test concatanated repo codes "
   ]
  },
  {
   "cell_type": "code",
   "execution_count": 181,
   "metadata": {},
   "outputs": [],
   "source": [
    "test_labels = [valid_languages.index(row[LANG]) for _, row in repos_df.iterrows()]\n",
    "repo_vectorized_data = total_vectorized_data[1000:, :]\n",
    "test_prediction = predict_kmeans(kmeans, repo_vectorized_data)"
   ]
  },
  {
   "cell_type": "code",
   "execution_count": 182,
   "metadata": {},
   "outputs": [
    {
     "data": {
      "text/plain": [
       "0.35333333333333333"
      ]
     },
     "execution_count": 182,
     "metadata": {},
     "output_type": "execute_result"
    }
   ],
   "source": [
    "purity_score(np.array(test_labels), test_prediction)"
   ]
  },
  {
   "cell_type": "code",
   "execution_count": 174,
   "metadata": {},
   "outputs": [
    {
     "name": "stderr",
     "output_type": "stream",
     "text": [
      "/Library/Frameworks/Python.framework/Versions/3.9/lib/python3.9/site-packages/sklearn/manifold/_t_sne.py:780: FutureWarning: The default initialization in TSNE will change from 'random' to 'pca' in 1.2.\n",
      "  warnings.warn(\n",
      "/Library/Frameworks/Python.framework/Versions/3.9/lib/python3.9/site-packages/sklearn/manifold/_t_sne.py:790: FutureWarning: The default learning rate in TSNE will change from 200.0 to 'auto' in 1.2.\n",
      "  warnings.warn(\n",
      "*c* argument looks like a single numeric RGB or RGBA sequence, which should be avoided as value-mapping will have precedence in case its length matches with *x* & *y*.  Please use the *color* keyword-argument or provide a 2D array with a single row if you intend to specify the same RGB or RGBA value for all points.\n",
      "*c* argument looks like a single numeric RGB or RGBA sequence, which should be avoided as value-mapping will have precedence in case its length matches with *x* & *y*.  Please use the *color* keyword-argument or provide a 2D array with a single row if you intend to specify the same RGB or RGBA value for all points.\n",
      "*c* argument looks like a single numeric RGB or RGBA sequence, which should be avoided as value-mapping will have precedence in case its length matches with *x* & *y*.  Please use the *color* keyword-argument or provide a 2D array with a single row if you intend to specify the same RGB or RGBA value for all points.\n"
     ]
    },
    {
     "data": {
      "image/png": "[encoded data removed]",
      "text/plain": [
       "<Figure size 576x396 with 1 Axes>"
      ]
     },
     "metadata": {},
     "output_type": "display_data"
    }
   ],
   "source": [
    "plotted_scatter(repo_vectorized_data, test_prediction)"
   ]
  },
  {
   "cell_type": "code",
   "execution_count": 175,
   "metadata": {},
   "outputs": [
    {
     "name": "stderr",
     "output_type": "stream",
     "text": [
      "/Library/Frameworks/Python.framework/Versions/3.9/lib/python3.9/site-packages/sklearn/manifold/_t_sne.py:780: FutureWarning: The default initialization in TSNE will change from 'random' to 'pca' in 1.2.\n",
      "  warnings.warn(\n",
      "/Library/Frameworks/Python.framework/Versions/3.9/lib/python3.9/site-packages/sklearn/manifold/_t_sne.py:790: FutureWarning: The default learning rate in TSNE will change from 200.0 to 'auto' in 1.2.\n",
      "  warnings.warn(\n",
      "*c* argument looks like a single numeric RGB or RGBA sequence, which should be avoided as value-mapping will have precedence in case its length matches with *x* & *y*.  Please use the *color* keyword-argument or provide a 2D array with a single row if you intend to specify the same RGB or RGBA value for all points.\n",
      "*c* argument looks like a single numeric RGB or RGBA sequence, which should be avoided as value-mapping will have precedence in case its length matches with *x* & *y*.  Please use the *color* keyword-argument or provide a 2D array with a single row if you intend to specify the same RGB or RGBA value for all points.\n",
      "*c* argument looks like a single numeric RGB or RGBA sequence, which should be avoided as value-mapping will have precedence in case its length matches with *x* & *y*.  Please use the *color* keyword-argument or provide a 2D array with a single row if you intend to specify the same RGB or RGBA value for all points.\n",
      "*c* argument looks like a single numeric RGB or RGBA sequence, which should be avoided as value-mapping will have precedence in case its length matches with *x* & *y*.  Please use the *color* keyword-argument or provide a 2D array with a single row if you intend to specify the same RGB or RGBA value for all points.\n",
      "*c* argument looks like a single numeric RGB or RGBA sequence, which should be avoided as value-mapping will have precedence in case its length matches with *x* & *y*.  Please use the *color* keyword-argument or provide a 2D array with a single row if you intend to specify the same RGB or RGBA value for all points.\n"
     ]
    },
    {
     "data": {
      "image/png": "[encoded data removed]",
      "text/plain": [
       "<Figure size 576x396 with 1 Axes>"
      ]
     },
     "metadata": {},
     "output_type": "display_data"
    }
   ],
   "source": [
    "plotted_scatter(repo_vectorized_data, test_labels)"
   ]
  },
  {
   "cell_type": "markdown",
   "metadata": {
    "id": "esD8kIyUiLat"
   },
   "source": [
    "## Technical Report "
   ]
  },
  {
   "cell_type": "markdown",
   "metadata": {
    "id": "tQDh2AaZiYoz"
   },
   "source": [
    "<div dir = \"rtl\">\n",
    "\n",
    "در این تمرین از الگوریتم k-means که یک الگوریتم خوشه‌بندی unsupervised است، برای خوشه‌بندی کدهای سایت Github در گروه‌های مختلف استفاده خواهیم کرد.\n",
    "\n",
    "هدف K-means به این صورت است که نقاط داده مشابه را با هم گروه بندی کنید و الگوها را کشف کنید. برای دستیابی به این هدف، K-means به دنبال تعداد مشخصی (k) از centroid در یک مجموعه داده می‌گردد. Centroid  به خوشه ای اشاره دارد که مجموعه ای از نقاط داده است که به دلیل شباهت های خاصی با یکدیگر جمع شده اند. \"means\" در K-means به میانگین گیری داده ها و به عبارت دیگر یعنی یافتن centroid اشاره دارد. و این الگوریتم بدون نظارت یا unsupervised است، زیرا ما هیچ دانش قبلی در مورد خوشه ها یا کلاس های مجموعه داده خود نداریم و به عبارتی گروه های پنهان را در مجموعه داده خود خواهیم یافت. \n",
    "\n",
    "</div>\n",
    "\n",
    "\n",
    "<div dir = \"rtl\">\n",
    "<b>\n",
    "مراحل\n",
    "</b>\n",
    "\n",
    "1. مجموعه کد های Github را اکسپلور کنیم \n",
    "2. داده ها مجموعه داده را مهندسی کنیم تا بهترین عملکرد را از الگوریتم K-means بدست آوریم\n",
    "3. الگوریتم را چندین بار اجرا کنید، هر بار با تعداد متفاوتی از خوشه ها آزمایش کنید\n",
    "4. از معیارهای مختلف برای تجسم نتایج و یافتن بهترین تعداد خوشه ها استفاده کنید \n",
    "5. تجزیه و تحلیل خوشه ها\n",
    "\n",
    "</div>\n",
    "<div dir= \"rtl\">\n",
    "<br>\n",
    "    در این تمرین repository های گیتهاب را کرال کرده‌ایم. \n",
    "<br>\n",
    "<b>Crawling:</b><br>\n",
    "     برای کرال کردن از api گیتهاب استفاده کردیم که داکیومنتیشن آن در https://docs.github.com/en/rest/guides/getting-started-with-the-rest-api موجود است. سپس ابتدا repoهای موجود در گیتهاب را بر اساس زبانی غالب در آن crawl کردیم. سپس در هر repo به اینصورت عمل کردیم که فایل‌های مرتبط به زبان‌های برنامه نویسی مورد نظر را گرفتیم. این زبان‌ها شامل Python، JavaScript، Java، TypeScript، Go، C، Ruby، PHP، C#، C++، Shell و Kotlin است.این زبان‌ها بر اساس سایت https://madnight.github.io/githut/#/pull_requests/2021/4 شامل بیش از 1 درصد از گیتهاب می‌شوند. مراحل crawl کردن به اینصورت بود که ابتدا لیست repositoryها را بر اساس زبان غالب آنها جستوجو می‌کردیم. فیلتری که داشتم در این بخش این بود که repoهایی که stars آنها بیشتر از 1000 بودند و حجم آنها بین 1MB تا 5MB بود را crawl می‌کردیم. این repo ها از stars بیشتر به کمتر سورت شده بودند. سپس در هر repo تمامی فایل‌ها را بررسی می‌کردیم و اگر به فایلی خوردیم که زبان مورد نظر ما را دارا بود، آن را crawl می‌کردیم. از چالش‌هایی که در crawl کردن به آن برخوردیم این بود که بعضی از repoها فایل‌های زیادی داشتند. در نتیجه مجبور شدیم که اگر در crawl کردن repoای بیشتر از 2 دقیقه منتظر ماندیم آن را prune کنیم. بعد از اینکه urlهای مربوط به تمام فایل‌های یک repo را جمع آوری کردیم، آنها را به اینصورت در فایل‌ها ذخیره می‌کنیم که folder اصلی داده‌ها data نام دارد. سپس در آن folderهایی با نام repository مربوطه و user ایجاد کننده آن repository وجود دارد. که با \"_\" از هم جدا شده‌اند. سپس درون هر repo ابتدا folderهایی با نام زبان‌های برنامه نویسی‌ای که در آن repo موجود بوده می‌سازیم. سپس فایل‌های مربوط به هر زبان را در آنجا به فرمت txt ذخیره می‌کنیم. برای اینکه ممکن است چند فایل کد با اسم یکسان در repositoryها وجود داشته باشد، نام آنها را بر اساس folderهایی که آمدیم تا به آن برسیم می‌گذاریم و آن نام ها را با نقطه از یکدیگر جدا می‌کنیم. همچنین چالش‌هایی هم مربوط به limitهای requestها داشتیم که به اینصورت عمل می‌کردیم که اگر limit مربوطه به پایان رسید، یک دقیقه برنامه را به sleep می‌بردیم و limit را دوباره چک می‌کردیم، در صورتی که امکان request داشتیم به برنامه ادامه می‌دادیم و در غیراینصورت دوباره برنامه را به یک دقیقه sleep می‌بردیم.\n",
    "<br>\n",
    "<b>PreProcessing:</b>\n",
    "<br>\n",
    "اولین قدمی که در زمینه preprocessing برداشتیم این بود که فاصله‌های مربوط به اول هر خط را برداشتیم. سپس عددهای داخل هر برنامه را با توکن NUM جایگزین کردیم. سپس متن تمامی کامنت‌های یک خطی را برداشتیم. می‌دانستیم که در تمامی برنامه‌ها کامنت‌های یک خطی با \"#\" یا \"//\" شروع می‌شوند. سپس متن تمامی کامنت‌های چند خطی را برداشتیم. کامنت‌های چند خطی یا شامل /*comment*/، \"\"\"comment\"\"\"، '''comment''' و یا =begin comment =end است. سپس متن داخل تمامی stringها را حذف می‌کنیم. tokenهای مربوطه را با اسپیس از هم جدا می‌کنیم. و در نهایت تمامی فاصله‌ها را با اسپیس جایگزین می‌کنیم.\n",
    "<br>\n",
    "\n",
    "</div>\n",
    "\n",
    "\n",
    "<div dir = \"rtl\">\n",
    "<b>\n",
    " تبدیل به بردار با استفاده از tf-idf\n",
    "</b>\n",
    "\n",
    "اکنون ما تابع TF-IDF را اعمال خواهیم کرد، که یک آمار عددی است که با دادن امتیازی از 0 تا 1 به هر کلمه در یک سند، نشان می دهد که چقدر یک کلمه برای یک سند در یک مجموعه مهم است.\n",
    "\n",
    "</div>\n",
    "\n",
    "\n",
    "\n",
    "<div dir = \"rtl\">\n",
    "<b>\n",
    "purity\n",
    "</b>\n",
    "\n",
    "برای محاسبه purity، هر خوشه به کلاسی که بیشترین فراوانی را در خوشه دارد، اختصاص داده می شود و سپس دقت این تخصیص با شمارش تعداد اسناد به درستی اختصاص داده شده و تقسیم بر تعداد اسناد اندازه گیری می شود. ما در اینجا فرض می‌کنیم که برچسب‌های حقیقت پایه اعداد صحیح هستند، مانند خوشه‌های پیش‌بینی‌شده، یعنی ایندکس خوشه‌ها.\n",
    "\n",
    "</div>\n",
    "\n",
    "\n",
    "<div dir = \"rtl\">\n",
    "<b>\n",
    "rand index\n",
    "</b>\n",
    "\n",
    "شاخص rand index با در نظر گرفتن همه جفت‌های  سمپل و شمارش جفت‌هایی که در خوشه‌های یکسان یا متفاوت در خوشه‌های پیش‌بینی‌شده و واقعی تخصیص داده شده‌اند، اندازه‌گیری شباهت بین دو خوشه‌بندی را محاسبه می‌کند.\n",
    "\n",
    "</div>\n"
   ]
  },
  {
   "cell_type": "markdown",
   "metadata": {
    "id": "3NwHBIavjT28"
   },
   "source": [
    "<div dir = \"rtl\">\n",
    "<b>\n",
    "task description\n",
    "</b>\n",
    "\n",
    "در فاز خوشه بندی\n",
    "\n",
    "در تلاش اول سعی شد تمامی دیتای جمع آوری شده از ریپو ها به صورت concat شده به ورودی بدهیم تا بیش ترین زبان مورد استفاده ی هر ریپو مشخص شود اما به دلیل شباهت زبان ها به یکدیگر به خروجی مناسبی نرسیدیم. \n",
    "\n",
    "در تلاش دوم تصمیم گرفتیم با زبان های مختلف کلاسترینگ را انجام دهیم و بعد از کلاسترینگ یک فایل را که ترکیبی از چندین زبان است را به مدلمان به ورودی دهیم و سپس خروجی را بر اساس بیشترین زبانی که مورد استفاده قرار گرفته شده کلاستر کند\n",
    "\n",
    "در فاز دیتا\n",
    "\n",
    "ابتدا ۱۲ زبان پر طرفدار در گیت هاب را در نظر گرفتیم اما به دلیل حجم بالای دیتا ماتریس و خروجی K-means بسیار بزرگ می شود و باعث می شود رم گوگل کولب پر شود. به همین دلیل ۵ زبان اصلی را در نظر گرفتیم که نفاوت هایشان مشهود باشد. \n",
    "اما همچنان اندازه ماتریس خروجی بسیار بزرگ می باشد و علارغم اینکه خوشه بندی انجام می شود اما امتیاز بالایی نمی گیرد. \n",
    "\n",
    "</div>"
   ]
  },
  {
   "cell_type": "markdown",
   "metadata": {
    "id": "lQ9BkMaqjZxr"
   },
   "source": [
    "<div dir = \"rtl\">\n",
    "<b>\n",
    "data visualization\n",
    "</b>\n",
    "برای کاهش ابعاد داده جهت نمایش خوشه ها از تکنیک t-SNE استفاده کردیم. \n",
    "t-Distributed Stochastic Neighbor Embedding (t-SNE) تکنیکی برای کاهش ابعاد است که به ویژه برای تجسم مجموعه داده های با ابعاد بالا مناسب است. این تکنیک را می‌توان از طریق تقریب‌های Barnes-Hut پیاده‌سازی کرد و به آن اجازه می‌دهد در مجموعه داده‌های بزرگ دنیای واقعی اعمال شود.\n",
    "\n",
    "کد این بخش ابتدا به صورت دستی پیاده سازی شد اما استفاده از visualizer کتابخانه yellowbrick سریع تر و بهتر داده ها و خوشه بندی هارا visualize کرد\n",
    "\n",
    "</div>"
   ]
  }
 ],
 "metadata": {
  "colab": {
   "collapsed_sections": [
    "3RKlsFkXZ2no",
    "rCEqQSy0a-vP",
    "qareWpDpvUtG",
    "0d7tknxu7NQb",
    "CxcLLrhqhlu9",
    "NyQwWGqifpQL",
    "kwwq5qCleyg9",
    "8qN0usrkgzsU"
   ],
   "name": "Untitled3.ipynb",
   "provenance": []
  },
  "kernelspec": {
   "display_name": "Python 3 (ipykernel)",
   "language": "python",
   "name": "python3"
  },
  "language_info": {
   "codemirror_mode": {
    "name": "ipython",
    "version": 3
   },
   "file_extension": ".py",
   "mimetype": "text/x-python",
   "name": "python",
   "nbconvert_exporter": "python",
   "pygments_lexer": "ipython3",
   "version": "3.9.0"
  }
 },
 "nbformat": 4,
 "nbformat_minor": 1
}
